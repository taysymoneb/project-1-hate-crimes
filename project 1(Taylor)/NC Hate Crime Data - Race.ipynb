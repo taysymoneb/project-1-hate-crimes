{
 "cells": [
  {
   "cell_type": "markdown",
   "id": "509edf8f",
   "metadata": {},
   "source": [
    "2(cont). What offender type committed the most hate crimes for the category of race in the US? How does this compare to local data from NC?\n",
    "\n",
    "Although the percentages are similar, the percentage of black offenders in NC is slightly higher than the national percentage. The percentage of white offenders in NC is slightly lower than the national percentage. "
   ]
  },
  {
   "cell_type": "code",
   "execution_count": 1,
   "id": "d81d1c60",
   "metadata": {},
   "outputs": [
    {
     "data": {
      "text/html": [
       "<div>\n",
       "<style scoped>\n",
       "    .dataframe tbody tr th:only-of-type {\n",
       "        vertical-align: middle;\n",
       "    }\n",
       "\n",
       "    .dataframe tbody tr th {\n",
       "        vertical-align: top;\n",
       "    }\n",
       "\n",
       "    .dataframe thead th {\n",
       "        text-align: right;\n",
       "    }\n",
       "</style>\n",
       "<table border=\"1\" class=\"dataframe\">\n",
       "  <thead>\n",
       "    <tr style=\"text-align: right;\">\n",
       "      <th></th>\n",
       "      <th>Unnamed: 0</th>\n",
       "      <th>INCIDENT_ID</th>\n",
       "      <th>DATA_YEAR</th>\n",
       "      <th>ORI</th>\n",
       "      <th>PUB_AGENCY_NAME</th>\n",
       "      <th>PUB_AGENCY_UNIT</th>\n",
       "      <th>AGENCY_TYPE_NAME</th>\n",
       "      <th>STATE_ABBR</th>\n",
       "      <th>STATE_NAME</th>\n",
       "      <th>DIVISION_NAME</th>\n",
       "      <th>...</th>\n",
       "      <th>OFFENDER_RACE</th>\n",
       "      <th>OFFENDER_ETHNICITY</th>\n",
       "      <th>VICTIM_COUNT</th>\n",
       "      <th>OFFENSE_NAME</th>\n",
       "      <th>TOTAL_INDIVIDUAL_VICTIMS</th>\n",
       "      <th>LOCATION_NAME</th>\n",
       "      <th>BIAS_DESC</th>\n",
       "      <th>VICTIM_TYPES</th>\n",
       "      <th>MULTIPLE_OFFENSE</th>\n",
       "      <th>MULTIPLE_BIAS</th>\n",
       "    </tr>\n",
       "  </thead>\n",
       "  <tbody>\n",
       "    <tr>\n",
       "      <th>0</th>\n",
       "      <td>7277</td>\n",
       "      <td>7474</td>\n",
       "      <td>1992</td>\n",
       "      <td>NC0680400</td>\n",
       "      <td>University of North Carolina:</td>\n",
       "      <td>Chapel Hill</td>\n",
       "      <td>University or College</td>\n",
       "      <td>NC</td>\n",
       "      <td>North Carolina</td>\n",
       "      <td>South Atlantic</td>\n",
       "      <td>...</td>\n",
       "      <td>Unknown</td>\n",
       "      <td>NaN</td>\n",
       "      <td>1</td>\n",
       "      <td>Intimidation</td>\n",
       "      <td>1.0</td>\n",
       "      <td>Hotel/Motel/Etc.</td>\n",
       "      <td>Anti-Lesbian, Gay, Bisexual, or Transgender (M...</td>\n",
       "      <td>Individual</td>\n",
       "      <td>S</td>\n",
       "      <td>S</td>\n",
       "    </tr>\n",
       "    <tr>\n",
       "      <th>1</th>\n",
       "      <td>14709</td>\n",
       "      <td>14462</td>\n",
       "      <td>1993</td>\n",
       "      <td>NC0320200</td>\n",
       "      <td>North Carolina Central University</td>\n",
       "      <td>NaN</td>\n",
       "      <td>University or College</td>\n",
       "      <td>NC</td>\n",
       "      <td>North Carolina</td>\n",
       "      <td>South Atlantic</td>\n",
       "      <td>...</td>\n",
       "      <td>Black or African American</td>\n",
       "      <td>NaN</td>\n",
       "      <td>1</td>\n",
       "      <td>Simple Assault</td>\n",
       "      <td>1.0</td>\n",
       "      <td>Highway/Road/Alley/Street/Sidewalk</td>\n",
       "      <td>Anti-White</td>\n",
       "      <td>Individual</td>\n",
       "      <td>S</td>\n",
       "      <td>S</td>\n",
       "    </tr>\n",
       "    <tr>\n",
       "      <th>2</th>\n",
       "      <td>14710</td>\n",
       "      <td>14463</td>\n",
       "      <td>1993</td>\n",
       "      <td>NC0340200</td>\n",
       "      <td>Winston-Salem</td>\n",
       "      <td>NaN</td>\n",
       "      <td>City</td>\n",
       "      <td>NC</td>\n",
       "      <td>North Carolina</td>\n",
       "      <td>South Atlantic</td>\n",
       "      <td>...</td>\n",
       "      <td>White</td>\n",
       "      <td>NaN</td>\n",
       "      <td>1</td>\n",
       "      <td>Aggravated Assault</td>\n",
       "      <td>1.0</td>\n",
       "      <td>Hotel/Motel/Etc.</td>\n",
       "      <td>Anti-Black or African American</td>\n",
       "      <td>Individual</td>\n",
       "      <td>S</td>\n",
       "      <td>S</td>\n",
       "    </tr>\n",
       "    <tr>\n",
       "      <th>3</th>\n",
       "      <td>14711</td>\n",
       "      <td>14464</td>\n",
       "      <td>1993</td>\n",
       "      <td>NC0360600</td>\n",
       "      <td>Gastonia</td>\n",
       "      <td>NaN</td>\n",
       "      <td>City</td>\n",
       "      <td>NC</td>\n",
       "      <td>North Carolina</td>\n",
       "      <td>South Atlantic</td>\n",
       "      <td>...</td>\n",
       "      <td>Black or African American</td>\n",
       "      <td>NaN</td>\n",
       "      <td>1</td>\n",
       "      <td>Aggravated Assault</td>\n",
       "      <td>1.0</td>\n",
       "      <td>School/College</td>\n",
       "      <td>Anti-White</td>\n",
       "      <td>Individual</td>\n",
       "      <td>S</td>\n",
       "      <td>S</td>\n",
       "    </tr>\n",
       "    <tr>\n",
       "      <th>4</th>\n",
       "      <td>14712</td>\n",
       "      <td>14465</td>\n",
       "      <td>1993</td>\n",
       "      <td>NC0360600</td>\n",
       "      <td>Gastonia</td>\n",
       "      <td>NaN</td>\n",
       "      <td>City</td>\n",
       "      <td>NC</td>\n",
       "      <td>North Carolina</td>\n",
       "      <td>South Atlantic</td>\n",
       "      <td>...</td>\n",
       "      <td>Black or African American</td>\n",
       "      <td>NaN</td>\n",
       "      <td>8</td>\n",
       "      <td>Aggravated Assault;Destruction/Damage/Vandalis...</td>\n",
       "      <td>4.0</td>\n",
       "      <td>Highway/Road/Alley/Street/Sidewalk</td>\n",
       "      <td>Anti-White</td>\n",
       "      <td>Government;Individual</td>\n",
       "      <td>M</td>\n",
       "      <td>S</td>\n",
       "    </tr>\n",
       "  </tbody>\n",
       "</table>\n",
       "<p>5 rows × 29 columns</p>\n",
       "</div>"
      ],
      "text/plain": [
       "   Unnamed: 0  INCIDENT_ID  DATA_YEAR        ORI  \\\n",
       "0        7277         7474       1992  NC0680400   \n",
       "1       14709        14462       1993  NC0320200   \n",
       "2       14710        14463       1993  NC0340200   \n",
       "3       14711        14464       1993  NC0360600   \n",
       "4       14712        14465       1993  NC0360600   \n",
       "\n",
       "                     PUB_AGENCY_NAME PUB_AGENCY_UNIT       AGENCY_TYPE_NAME  \\\n",
       "0      University of North Carolina:     Chapel Hill  University or College   \n",
       "1  North Carolina Central University             NaN  University or College   \n",
       "2                      Winston-Salem             NaN                   City   \n",
       "3                           Gastonia             NaN                   City   \n",
       "4                           Gastonia             NaN                   City   \n",
       "\n",
       "  STATE_ABBR      STATE_NAME   DIVISION_NAME  ...              OFFENDER_RACE  \\\n",
       "0         NC  North Carolina  South Atlantic  ...                    Unknown   \n",
       "1         NC  North Carolina  South Atlantic  ...  Black or African American   \n",
       "2         NC  North Carolina  South Atlantic  ...                      White   \n",
       "3         NC  North Carolina  South Atlantic  ...  Black or African American   \n",
       "4         NC  North Carolina  South Atlantic  ...  Black or African American   \n",
       "\n",
       "  OFFENDER_ETHNICITY VICTIM_COUNT  \\\n",
       "0                NaN            1   \n",
       "1                NaN            1   \n",
       "2                NaN            1   \n",
       "3                NaN            1   \n",
       "4                NaN            8   \n",
       "\n",
       "                                        OFFENSE_NAME  \\\n",
       "0                                       Intimidation   \n",
       "1                                     Simple Assault   \n",
       "2                                 Aggravated Assault   \n",
       "3                                 Aggravated Assault   \n",
       "4  Aggravated Assault;Destruction/Damage/Vandalis...   \n",
       "\n",
       "   TOTAL_INDIVIDUAL_VICTIMS                       LOCATION_NAME  \\\n",
       "0                       1.0                    Hotel/Motel/Etc.   \n",
       "1                       1.0  Highway/Road/Alley/Street/Sidewalk   \n",
       "2                       1.0                    Hotel/Motel/Etc.   \n",
       "3                       1.0                      School/College   \n",
       "4                       4.0  Highway/Road/Alley/Street/Sidewalk   \n",
       "\n",
       "                                           BIAS_DESC           VICTIM_TYPES  \\\n",
       "0  Anti-Lesbian, Gay, Bisexual, or Transgender (M...             Individual   \n",
       "1                                         Anti-White             Individual   \n",
       "2                     Anti-Black or African American             Individual   \n",
       "3                                         Anti-White             Individual   \n",
       "4                                         Anti-White  Government;Individual   \n",
       "\n",
       "   MULTIPLE_OFFENSE MULTIPLE_BIAS  \n",
       "0                 S             S  \n",
       "1                 S             S  \n",
       "2                 S             S  \n",
       "3                 S             S  \n",
       "4                 M             S  \n",
       "\n",
       "[5 rows x 29 columns]"
      ]
     },
     "execution_count": 1,
     "metadata": {},
     "output_type": "execute_result"
    }
   ],
   "source": [
    "#Dependencies and Setup\n",
    "import pandas as pd\n",
    "import scipy.stats as st\n",
    "import matplotlib.pyplot as plt\n",
    "import numpy as np\n",
    "\n",
    "#file to load\n",
    "hateCrimeNCPath = \"hate_crime/Hate Crimes in NC 1991-2020.csv\"\n",
    "#read the hate crime data csv\n",
    "hateCrimeNcData = pd.read_csv(hateCrimeNCPath)\n",
    "\n",
    "hateCrimeNcData.head()"
   ]
  },
  {
   "cell_type": "code",
   "execution_count": 2,
   "id": "61bc6d83",
   "metadata": {},
   "outputs": [
    {
     "data": {
      "text/html": [
       "<div>\n",
       "<style scoped>\n",
       "    .dataframe tbody tr th:only-of-type {\n",
       "        vertical-align: middle;\n",
       "    }\n",
       "\n",
       "    .dataframe tbody tr th {\n",
       "        vertical-align: top;\n",
       "    }\n",
       "\n",
       "    .dataframe thead th {\n",
       "        text-align: right;\n",
       "    }\n",
       "</style>\n",
       "<table border=\"1\" class=\"dataframe\">\n",
       "  <thead>\n",
       "    <tr style=\"text-align: right;\">\n",
       "      <th></th>\n",
       "      <th>OFFENDER_RACE</th>\n",
       "      <th>BIAS_DESC</th>\n",
       "    </tr>\n",
       "  </thead>\n",
       "  <tbody>\n",
       "    <tr>\n",
       "      <th>0</th>\n",
       "      <td>Unknown</td>\n",
       "      <td>Anti-Lesbian, Gay, Bisexual, or Transgender (M...</td>\n",
       "    </tr>\n",
       "    <tr>\n",
       "      <th>1</th>\n",
       "      <td>Black or African American</td>\n",
       "      <td>Anti-White</td>\n",
       "    </tr>\n",
       "    <tr>\n",
       "      <th>2</th>\n",
       "      <td>White</td>\n",
       "      <td>Anti-Black or African American</td>\n",
       "    </tr>\n",
       "    <tr>\n",
       "      <th>3</th>\n",
       "      <td>Black or African American</td>\n",
       "      <td>Anti-White</td>\n",
       "    </tr>\n",
       "    <tr>\n",
       "      <th>4</th>\n",
       "      <td>Black or African American</td>\n",
       "      <td>Anti-White</td>\n",
       "    </tr>\n",
       "    <tr>\n",
       "      <th>...</th>\n",
       "      <td>...</td>\n",
       "      <td>...</td>\n",
       "    </tr>\n",
       "    <tr>\n",
       "      <th>2843</th>\n",
       "      <td>Multiple</td>\n",
       "      <td>Anti-Black or African American</td>\n",
       "    </tr>\n",
       "    <tr>\n",
       "      <th>2844</th>\n",
       "      <td>Unknown</td>\n",
       "      <td>Anti-White</td>\n",
       "    </tr>\n",
       "    <tr>\n",
       "      <th>2845</th>\n",
       "      <td>Black or African American</td>\n",
       "      <td>Anti-White</td>\n",
       "    </tr>\n",
       "    <tr>\n",
       "      <th>2846</th>\n",
       "      <td>White</td>\n",
       "      <td>Anti-Gay (Male)</td>\n",
       "    </tr>\n",
       "    <tr>\n",
       "      <th>2847</th>\n",
       "      <td>White</td>\n",
       "      <td>Anti-Sikh</td>\n",
       "    </tr>\n",
       "  </tbody>\n",
       "</table>\n",
       "<p>2848 rows × 2 columns</p>\n",
       "</div>"
      ],
      "text/plain": [
       "                  OFFENDER_RACE  \\\n",
       "0                       Unknown   \n",
       "1     Black or African American   \n",
       "2                         White   \n",
       "3     Black or African American   \n",
       "4     Black or African American   \n",
       "...                         ...   \n",
       "2843                   Multiple   \n",
       "2844                    Unknown   \n",
       "2845  Black or African American   \n",
       "2846                      White   \n",
       "2847                      White   \n",
       "\n",
       "                                              BIAS_DESC  \n",
       "0     Anti-Lesbian, Gay, Bisexual, or Transgender (M...  \n",
       "1                                            Anti-White  \n",
       "2                        Anti-Black or African American  \n",
       "3                                            Anti-White  \n",
       "4                                            Anti-White  \n",
       "...                                                 ...  \n",
       "2843                     Anti-Black or African American  \n",
       "2844                                         Anti-White  \n",
       "2845                                         Anti-White  \n",
       "2846                                    Anti-Gay (Male)  \n",
       "2847                                          Anti-Sikh  \n",
       "\n",
       "[2848 rows x 2 columns]"
      ]
     },
     "execution_count": 2,
     "metadata": {},
     "output_type": "execute_result"
    }
   ],
   "source": [
    "#New dataframe with offender name and bias description\n",
    "newHateCrimeNcDF = hateCrimeNcData [['OFFENDER_RACE', 'BIAS_DESC']]\n",
    "newHateCrimeNcDF"
   ]
  },
  {
   "cell_type": "code",
   "execution_count": 3,
   "id": "36c1e54e",
   "metadata": {},
   "outputs": [
    {
     "data": {
      "text/plain": [
       "OFFENDER_RACE\n",
       "White                               1132\n",
       "Unknown                             1095\n",
       "Black or African American            549\n",
       "Multiple                              56\n",
       "Asian                                 11\n",
       "American Indian or Alaska Native       5\n",
       "Name: count, dtype: int64"
      ]
     },
     "execution_count": 3,
     "metadata": {},
     "output_type": "execute_result"
    }
   ],
   "source": [
    "#count the offenders by race\n",
    "offenderCount = newHateCrimeNcDF[\"OFFENDER_RACE\"].value_counts()\n",
    "offenderCount"
   ]
  },
  {
   "cell_type": "markdown",
   "id": "7e858298",
   "metadata": {},
   "source": [
    "# White"
   ]
  },
  {
   "cell_type": "code",
   "execution_count": 13,
   "id": "d1c19b47",
   "metadata": {},
   "outputs": [
    {
     "data": {
      "text/plain": [
       "672"
      ]
     },
     "execution_count": 13,
     "metadata": {},
     "output_type": "execute_result"
    }
   ],
   "source": [
    "whiteBlackCrime = newHateCrimeNcDF[(newHateCrimeNcDF[\"OFFENDER_RACE\"]=='White'\n",
    ")&(newHateCrimeNcDF[\"BIAS_DESC\"] ==\"Anti-Black or African American\")].value_counts()\n",
    "\n",
    "whiteBlack = whiteBlackCrime .sum()\n",
    "\n",
    "whiteBlack"
   ]
  },
  {
   "cell_type": "code",
   "execution_count": 15,
   "id": "1d0d7a54",
   "metadata": {},
   "outputs": [
    {
     "data": {
      "text/plain": [
       "25"
      ]
     },
     "execution_count": 15,
     "metadata": {},
     "output_type": "execute_result"
    }
   ],
   "source": [
    "whiteWhiteCrime = newHateCrimeNcDF[(newHateCrimeNcDF[\"OFFENDER_RACE\"]=='White'\n",
    ")&(newHateCrimeNcDF[\"BIAS_DESC\"] ==\"Anti-White\")].value_counts()\n",
    "\n",
    "whiteWhite = whiteWhiteCrime .sum()\n",
    "\n",
    "whiteWhite"
   ]
  },
  {
   "cell_type": "code",
   "execution_count": 14,
   "id": "aec817f8",
   "metadata": {},
   "outputs": [
    {
     "data": {
      "text/plain": [
       "1"
      ]
     },
     "execution_count": 14,
     "metadata": {},
     "output_type": "execute_result"
    }
   ],
   "source": [
    "whiteArabCrime = newHateCrimeNcDF[(newHateCrimeNcDF[\"OFFENDER_RACE\"]=='White'\n",
    ")&(newHateCrimeNcDF[\"BIAS_DESC\"] ==\"Anti-Arab\")].value_counts()\n",
    "\n",
    "whiteArab = whiteArabCrime .sum()\n",
    "\n",
    "whiteArab"
   ]
  },
  {
   "cell_type": "code",
   "execution_count": 16,
   "id": "e2bfff03",
   "metadata": {},
   "outputs": [
    {
     "data": {
      "text/plain": [
       "73"
      ]
     },
     "execution_count": 16,
     "metadata": {},
     "output_type": "execute_result"
    }
   ],
   "source": [
    "whiteHispanicCrime = newHateCrimeNcDF[(newHateCrimeNcDF[\"OFFENDER_RACE\"]=='White'\n",
    ")&(newHateCrimeNcDF[\"BIAS_DESC\"] ==\"Anti-Hispanic or Latino\")].value_counts()\n",
    "\n",
    "whiteHispanic = whiteHispanicCrime .sum()\n",
    "\n",
    "whiteHispanic"
   ]
  },
  {
   "cell_type": "code",
   "execution_count": 17,
   "id": "80b17819",
   "metadata": {},
   "outputs": [
    {
     "data": {
      "text/plain": [
       "6"
      ]
     },
     "execution_count": 17,
     "metadata": {},
     "output_type": "execute_result"
    }
   ],
   "source": [
    "whiteNativeCrime = newHateCrimeNcDF[(newHateCrimeNcDF[\"OFFENDER_RACE\"]=='White'\n",
    ")&(newHateCrimeNcDF[\"BIAS_DESC\"] ==\"Anti-American Indian or Alaska Native\")].value_counts()\n",
    "\n",
    "whiteNative = whiteNativeCrime .sum()\n",
    "\n",
    "whiteNative"
   ]
  },
  {
   "cell_type": "code",
   "execution_count": 18,
   "id": "61fbe6e6",
   "metadata": {},
   "outputs": [
    {
     "data": {
      "text/plain": [
       "41"
      ]
     },
     "execution_count": 18,
     "metadata": {},
     "output_type": "execute_result"
    }
   ],
   "source": [
    "whiteOtherCrime = newHateCrimeNcDF[(newHateCrimeNcDF[\"OFFENDER_RACE\"]=='White'\n",
    ")&(newHateCrimeNcDF[\"BIAS_DESC\"] ==\"Anti-Other Race/Ethnicity/Ancestry\")].value_counts()\n",
    "\n",
    "whiteOther = whiteOtherCrime .sum()\n",
    "\n",
    "whiteOther"
   ]
  },
  {
   "cell_type": "code",
   "execution_count": 19,
   "id": "cb2ba657",
   "metadata": {},
   "outputs": [
    {
     "data": {
      "text/plain": [
       "44"
      ]
     },
     "execution_count": 19,
     "metadata": {},
     "output_type": "execute_result"
    }
   ],
   "source": [
    "whiteMultipleCrime = newHateCrimeNcDF[(newHateCrimeNcDF[\"OFFENDER_RACE\"]=='White'\n",
    ")&(newHateCrimeNcDF[\"BIAS_DESC\"] ==\"Anti-Multiple Races, Group\")].value_counts()\n",
    "\n",
    "whiteMultiple = whiteMultipleCrime .sum()\n",
    "\n",
    "whiteMultiple"
   ]
  },
  {
   "cell_type": "code",
   "execution_count": 36,
   "id": "7d4e5fc6",
   "metadata": {},
   "outputs": [
    {
     "data": {
      "text/plain": [
       "14"
      ]
     },
     "execution_count": 36,
     "metadata": {},
     "output_type": "execute_result"
    }
   ],
   "source": [
    "whiteAsianCrime = newHateCrimeNcDF[(newHateCrimeNcDF[\"OFFENDER_RACE\"]=='White'\n",
    ")&(newHateCrimeNcDF[\"BIAS_DESC\"] ==\"Anti-Asian\")].value_counts()\n",
    "\n",
    "whiteAsian = whiteAsianCrime .sum()\n",
    "\n",
    "whiteAsian"
   ]
  },
  {
   "cell_type": "markdown",
   "id": "1e06a51e",
   "metadata": {},
   "source": [
    "# Black"
   ]
  },
  {
   "cell_type": "code",
   "execution_count": 21,
   "id": "e4ceb5d5",
   "metadata": {},
   "outputs": [
    {
     "data": {
      "text/plain": [
       "33"
      ]
     },
     "execution_count": 21,
     "metadata": {},
     "output_type": "execute_result"
    }
   ],
   "source": [
    "blackBlackCrime = newHateCrimeNcDF[(newHateCrimeNcDF[\"OFFENDER_RACE\"]=='Black or African American'\n",
    ")&(newHateCrimeNcDF[\"BIAS_DESC\"] ==\"Anti-Black or African American\")].value_counts()\n",
    "\n",
    "blackBlack = blackBlackCrime .sum()\n",
    "\n",
    "blackBlack"
   ]
  },
  {
   "cell_type": "code",
   "execution_count": 37,
   "id": "afc964a6",
   "metadata": {},
   "outputs": [
    {
     "data": {
      "text/plain": [
       "1"
      ]
     },
     "execution_count": 37,
     "metadata": {},
     "output_type": "execute_result"
    }
   ],
   "source": [
    "blackArabCrime = newHateCrimeNcDF[(newHateCrimeNcDF[\"OFFENDER_RACE\"]=='Black or African American'\n",
    ")&(newHateCrimeNcDF[\"BIAS_DESC\"] ==\"Anti-Arab\")].value_counts()\n",
    "\n",
    "blackArab = blackArabCrime .sum()\n",
    "\n",
    "blackArab"
   ]
  },
  {
   "cell_type": "code",
   "execution_count": 22,
   "id": "025f3f3f",
   "metadata": {},
   "outputs": [
    {
     "data": {
      "text/plain": [
       "257"
      ]
     },
     "execution_count": 22,
     "metadata": {},
     "output_type": "execute_result"
    }
   ],
   "source": [
    "blackWhiteCrime = newHateCrimeNcDF[(newHateCrimeNcDF[\"OFFENDER_RACE\"]=='Black or African American'\n",
    ")&(newHateCrimeNcDF[\"BIAS_DESC\"] ==\"Anti-White\")].value_counts()\n",
    "\n",
    "blackWhite = blackWhiteCrime .sum()\n",
    "\n",
    "blackWhite"
   ]
  },
  {
   "cell_type": "code",
   "execution_count": 23,
   "id": "fbce77b1",
   "metadata": {},
   "outputs": [
    {
     "data": {
      "text/plain": [
       "58"
      ]
     },
     "execution_count": 23,
     "metadata": {},
     "output_type": "execute_result"
    }
   ],
   "source": [
    "blackHispanicCrime = newHateCrimeNcDF[(newHateCrimeNcDF[\"OFFENDER_RACE\"]=='Black or African American'\n",
    ")&(newHateCrimeNcDF[\"BIAS_DESC\"] ==\"Anti-Hispanic or Latino\")].value_counts()\n",
    "\n",
    "blackHispanic = blackHispanicCrime .sum()\n",
    "\n",
    "blackHispanic"
   ]
  },
  {
   "cell_type": "code",
   "execution_count": 24,
   "id": "9af2c5d8",
   "metadata": {},
   "outputs": [
    {
     "data": {
      "text/plain": [
       "2"
      ]
     },
     "execution_count": 24,
     "metadata": {},
     "output_type": "execute_result"
    }
   ],
   "source": [
    "blackAsianCrime = newHateCrimeNcDF[(newHateCrimeNcDF[\"OFFENDER_RACE\"]=='Black or African American'\n",
    ")&(newHateCrimeNcDF[\"BIAS_DESC\"] ==\"Anti-Asian\")].value_counts()\n",
    "\n",
    "blackAsian = blackAsianCrime .sum()\n",
    "\n",
    "blackAsian"
   ]
  },
  {
   "cell_type": "code",
   "execution_count": 25,
   "id": "0f8587a0",
   "metadata": {},
   "outputs": [
    {
     "data": {
      "text/plain": [
       "2"
      ]
     },
     "execution_count": 25,
     "metadata": {},
     "output_type": "execute_result"
    }
   ],
   "source": [
    "blackNativeCrime = newHateCrimeNcDF[(newHateCrimeNcDF[\"OFFENDER_RACE\"]=='Black or African American'\n",
    ")&(newHateCrimeNcDF[\"BIAS_DESC\"] ==\"Anti-American Indian or Alaska Native\")].value_counts()\n",
    "\n",
    "blackNative = blackNativeCrime .sum()\n",
    "\n",
    "blackNative"
   ]
  },
  {
   "cell_type": "code",
   "execution_count": 26,
   "id": "e74b5a3a",
   "metadata": {},
   "outputs": [
    {
     "data": {
      "text/plain": [
       "14"
      ]
     },
     "execution_count": 26,
     "metadata": {},
     "output_type": "execute_result"
    }
   ],
   "source": [
    "blackOtherCrime = newHateCrimeNcDF[(newHateCrimeNcDF[\"OFFENDER_RACE\"]=='Black or African American'\n",
    ")&(newHateCrimeNcDF[\"BIAS_DESC\"] ==\"Anti-Other Race/Ethnicity/Ancestry\")].value_counts()\n",
    "\n",
    "blackOther = blackOtherCrime .sum()\n",
    "\n",
    "blackOther"
   ]
  },
  {
   "cell_type": "code",
   "execution_count": 27,
   "id": "cf23b9fb",
   "metadata": {},
   "outputs": [
    {
     "data": {
      "text/plain": [
       "14"
      ]
     },
     "execution_count": 27,
     "metadata": {},
     "output_type": "execute_result"
    }
   ],
   "source": [
    "blackMultipleCrime = newHateCrimeNcDF[(newHateCrimeNcDF[\"OFFENDER_RACE\"]=='Black or African American'\n",
    ")&(newHateCrimeNcDF[\"BIAS_DESC\"] ==\"Anti-Multiple Races, Group\")].value_counts()\n",
    "\n",
    "blackMultiple = blackMultipleCrime .sum()\n",
    "\n",
    "blackMultiple"
   ]
  },
  {
   "cell_type": "markdown",
   "id": "dd3b38ca",
   "metadata": {},
   "source": [
    "# Asian"
   ]
  },
  {
   "cell_type": "code",
   "execution_count": 28,
   "id": "ec7bbfa1",
   "metadata": {},
   "outputs": [
    {
     "data": {
      "text/plain": [
       "3"
      ]
     },
     "execution_count": 28,
     "metadata": {},
     "output_type": "execute_result"
    }
   ],
   "source": [
    "asianBlackCrime = newHateCrimeNcDF[(newHateCrimeNcDF[\"OFFENDER_RACE\"]=='Asian'\n",
    ")&(newHateCrimeNcDF[\"BIAS_DESC\"] ==\"Anti-Black or African American\")].value_counts()\n",
    "\n",
    "asianBlack = asianBlackCrime .sum()\n",
    "\n",
    "asianBlack"
   ]
  },
  {
   "cell_type": "code",
   "execution_count": 29,
   "id": "84c1fabe",
   "metadata": {},
   "outputs": [
    {
     "data": {
      "text/plain": [
       "0"
      ]
     },
     "execution_count": 29,
     "metadata": {},
     "output_type": "execute_result"
    }
   ],
   "source": [
    "asianWhiteCrime = newHateCrimeNcDF[(newHateCrimeNcDF[\"OFFENDER_RACE\"]=='Asian'\n",
    ")&(newHateCrimeNcDF[\"BIAS_DESC\"] ==\"Anti-White\")].value_counts()\n",
    "\n",
    "asianWhite = asianWhiteCrime .sum()\n",
    "\n",
    "asianWhite"
   ]
  },
  {
   "cell_type": "code",
   "execution_count": 30,
   "id": "a5698900",
   "metadata": {},
   "outputs": [
    {
     "data": {
      "text/plain": [
       "0"
      ]
     },
     "execution_count": 30,
     "metadata": {},
     "output_type": "execute_result"
    }
   ],
   "source": [
    "asianAsianCrime = newHateCrimeNcDF[(newHateCrimeNcDF[\"OFFENDER_RACE\"]=='Asian'\n",
    ")&(newHateCrimeNcDF[\"BIAS_DESC\"] ==\"Anti-Asian\")].value_counts()\n",
    "\n",
    "asianAsian = asianAsianCrime .sum()\n",
    "\n",
    "asianAsian"
   ]
  },
  {
   "cell_type": "code",
   "execution_count": 31,
   "id": "c156dedf",
   "metadata": {},
   "outputs": [
    {
     "data": {
      "text/plain": [
       "2"
      ]
     },
     "execution_count": 31,
     "metadata": {},
     "output_type": "execute_result"
    }
   ],
   "source": [
    "asianHispanicCrime = newHateCrimeNcDF[(newHateCrimeNcDF[\"OFFENDER_RACE\"]=='Asian'\n",
    ")&(newHateCrimeNcDF[\"BIAS_DESC\"] ==\"Anti-Hispanic or Latino\")].value_counts()\n",
    "\n",
    "asianHispanic = asianHispanicCrime .sum()\n",
    "\n",
    "asianHispanic"
   ]
  },
  {
   "cell_type": "code",
   "execution_count": 32,
   "id": "2e7956a3",
   "metadata": {},
   "outputs": [
    {
     "data": {
      "text/plain": [
       "0"
      ]
     },
     "execution_count": 32,
     "metadata": {},
     "output_type": "execute_result"
    }
   ],
   "source": [
    "asianArabCrime = newHateCrimeNcDF[(newHateCrimeNcDF[\"OFFENDER_RACE\"]=='Asian'\n",
    ")&(newHateCrimeNcDF[\"BIAS_DESC\"] ==\"Anti-Arab\")].value_counts()\n",
    "\n",
    "asianArab = asianArabCrime .sum()\n",
    "\n",
    "asianArab"
   ]
  },
  {
   "cell_type": "code",
   "execution_count": 33,
   "id": "f8bbc8e2",
   "metadata": {},
   "outputs": [
    {
     "data": {
      "text/plain": [
       "1"
      ]
     },
     "execution_count": 33,
     "metadata": {},
     "output_type": "execute_result"
    }
   ],
   "source": [
    "asianNativeCrime = newHateCrimeNcDF[(newHateCrimeNcDF[\"OFFENDER_RACE\"]=='Asian'\n",
    ")&(newHateCrimeNcDF[\"BIAS_DESC\"] ==\"Anti-American Indian or Alaska Native\")].value_counts()\n",
    "\n",
    "asianNative = asianNativeCrime .sum()\n",
    "\n",
    "asianNative"
   ]
  },
  {
   "cell_type": "code",
   "execution_count": 34,
   "id": "11d4963b",
   "metadata": {},
   "outputs": [
    {
     "data": {
      "text/plain": [
       "1"
      ]
     },
     "execution_count": 34,
     "metadata": {},
     "output_type": "execute_result"
    }
   ],
   "source": [
    "asianOtherCrime = newHateCrimeNcDF[(newHateCrimeNcDF[\"OFFENDER_RACE\"]=='Asian'\n",
    ")&(newHateCrimeNcDF[\"BIAS_DESC\"] ==\"Anti-Other Race/Ethnicity/Ancestry\")].value_counts()\n",
    "\n",
    "asianOther = asianOtherCrime .sum()\n",
    "\n",
    "asianOther"
   ]
  },
  {
   "cell_type": "code",
   "execution_count": 35,
   "id": "2866fa00",
   "metadata": {},
   "outputs": [
    {
     "data": {
      "text/plain": [
       "0"
      ]
     },
     "execution_count": 35,
     "metadata": {},
     "output_type": "execute_result"
    }
   ],
   "source": [
    "asianMultipleCrime = newHateCrimeNcDF[(newHateCrimeNcDF[\"OFFENDER_RACE\"]=='Asian'\n",
    ")&(newHateCrimeNcDF[\"BIAS_DESC\"] ==\"Anti-Multiple Races, Group\")].value_counts()\n",
    "\n",
    "asianMultiple = asianMultipleCrime .sum()\n",
    "\n",
    "asianMultiple"
   ]
  },
  {
   "cell_type": "markdown",
   "id": "fa1cf3e5",
   "metadata": {},
   "source": [
    "# Multiple"
   ]
  },
  {
   "cell_type": "code",
   "execution_count": 38,
   "id": "7bdc8adf",
   "metadata": {},
   "outputs": [
    {
     "data": {
      "text/plain": [
       "20"
      ]
     },
     "execution_count": 38,
     "metadata": {},
     "output_type": "execute_result"
    }
   ],
   "source": [
    "multipleBlackCrime = newHateCrimeNcDF[(newHateCrimeNcDF[\"OFFENDER_RACE\"]=='Multiple'\n",
    ")&(newHateCrimeNcDF[\"BIAS_DESC\"] ==\"Anti-Black or African American\")].value_counts()\n",
    "\n",
    "multipleBlack = multipleBlackCrime.sum()\n",
    "\n",
    "multipleBlack"
   ]
  },
  {
   "cell_type": "code",
   "execution_count": 39,
   "id": "3c51f815",
   "metadata": {},
   "outputs": [
    {
     "data": {
      "text/plain": [
       "5"
      ]
     },
     "execution_count": 39,
     "metadata": {},
     "output_type": "execute_result"
    }
   ],
   "source": [
    "multipleWhiteCrime = newHateCrimeNcDF[(newHateCrimeNcDF[\"OFFENDER_RACE\"]=='Multiple'\n",
    ")&(newHateCrimeNcDF[\"BIAS_DESC\"] ==\"Anti-White\")].value_counts()\n",
    "\n",
    "multipleWhite = multipleWhiteCrime.sum()\n",
    "\n",
    "multipleWhite"
   ]
  },
  {
   "cell_type": "code",
   "execution_count": 40,
   "id": "185401e7",
   "metadata": {},
   "outputs": [
    {
     "data": {
      "text/plain": [
       "1"
      ]
     },
     "execution_count": 40,
     "metadata": {},
     "output_type": "execute_result"
    }
   ],
   "source": [
    "multipleAsianCrime = newHateCrimeNcDF[(newHateCrimeNcDF[\"OFFENDER_RACE\"]=='Multiple'\n",
    ")&(newHateCrimeNcDF[\"BIAS_DESC\"] ==\"Anti-Asian\")].value_counts()\n",
    "\n",
    "multipleAsian = multipleAsianCrime.sum()\n",
    "\n",
    "multipleAsian"
   ]
  },
  {
   "cell_type": "code",
   "execution_count": 41,
   "id": "aecc068b",
   "metadata": {},
   "outputs": [
    {
     "data": {
      "text/plain": [
       "0"
      ]
     },
     "execution_count": 41,
     "metadata": {},
     "output_type": "execute_result"
    }
   ],
   "source": [
    "multipleArabCrime = newHateCrimeNcDF[(newHateCrimeNcDF[\"OFFENDER_RACE\"]=='Multiple'\n",
    ")&(newHateCrimeNcDF[\"BIAS_DESC\"] ==\"Anti-Arab\")].value_counts()\n",
    "\n",
    "multipleArab = multipleArabCrime.sum()\n",
    "\n",
    "multipleArab"
   ]
  },
  {
   "cell_type": "code",
   "execution_count": 42,
   "id": "8b7662fc",
   "metadata": {},
   "outputs": [
    {
     "data": {
      "text/plain": [
       "0"
      ]
     },
     "execution_count": 42,
     "metadata": {},
     "output_type": "execute_result"
    }
   ],
   "source": [
    "multipleNativeCrime = newHateCrimeNcDF[(newHateCrimeNcDF[\"OFFENDER_RACE\"]=='Multiple'\n",
    ")&(newHateCrimeNcDF[\"BIAS_DESC\"] ==\"Anti-American Indian or Alaska Native\")].value_counts()\n",
    "\n",
    "multipleNative = multipleNativeCrime.sum()\n",
    "\n",
    "multipleNative"
   ]
  },
  {
   "cell_type": "code",
   "execution_count": 43,
   "id": "ac8b7ad6",
   "metadata": {},
   "outputs": [
    {
     "data": {
      "text/plain": [
       "2"
      ]
     },
     "execution_count": 43,
     "metadata": {},
     "output_type": "execute_result"
    }
   ],
   "source": [
    "multipleMultipleCrime = newHateCrimeNcDF[(newHateCrimeNcDF[\"OFFENDER_RACE\"]=='Multiple'\n",
    ")&(newHateCrimeNcDF[\"BIAS_DESC\"] ==\"Anti-Multiple Races, Group\")].value_counts()\n",
    "\n",
    "multipleMultiple = multipleMultipleCrime.sum()\n",
    "\n",
    "multipleMultiple"
   ]
  },
  {
   "cell_type": "code",
   "execution_count": 44,
   "id": "c31f6ca2",
   "metadata": {},
   "outputs": [
    {
     "data": {
      "text/plain": [
       "3"
      ]
     },
     "execution_count": 44,
     "metadata": {},
     "output_type": "execute_result"
    }
   ],
   "source": [
    "multipleHispanicCrime = newHateCrimeNcDF[(newHateCrimeNcDF[\"OFFENDER_RACE\"]=='Multiple'\n",
    ")&(newHateCrimeNcDF[\"BIAS_DESC\"] ==\"Anti-Hispanic or Latino\")].value_counts()\n",
    "\n",
    "multipleHispanic = multipleHispanicCrime.sum()\n",
    "\n",
    "multipleHispanic"
   ]
  },
  {
   "cell_type": "code",
   "execution_count": 45,
   "id": "df69f7c9",
   "metadata": {},
   "outputs": [
    {
     "data": {
      "text/plain": [
       "0"
      ]
     },
     "execution_count": 45,
     "metadata": {},
     "output_type": "execute_result"
    }
   ],
   "source": [
    "multipleOtherCrime = newHateCrimeNcDF[(newHateCrimeNcDF[\"OFFENDER_RACE\"]=='Multiple'\n",
    ")&(newHateCrimeNcDF[\"BIAS_DESC\"] ==\"Other Race/Ethnicity/Ancestry\")].value_counts()\n",
    "\n",
    "multipleOther = multipleOtherCrime.sum()\n",
    "\n",
    "multipleOther"
   ]
  },
  {
   "cell_type": "markdown",
   "id": "dd03962d",
   "metadata": {},
   "source": [
    "# Native"
   ]
  },
  {
   "cell_type": "code",
   "execution_count": 46,
   "id": "bcb58211",
   "metadata": {},
   "outputs": [
    {
     "data": {
      "text/plain": [
       "1"
      ]
     },
     "execution_count": 46,
     "metadata": {},
     "output_type": "execute_result"
    }
   ],
   "source": [
    "nativeBlackCrime = newHateCrimeNcDF[(newHateCrimeNcDF[\"OFFENDER_RACE\"]=='American Indian or Alaska Native'\n",
    ")&(newHateCrimeNcDF[\"BIAS_DESC\"] ==\"Anti-Black or African American\")].value_counts()\n",
    "\n",
    "nativeBlack = nativeBlackCrime.sum()\n",
    "\n",
    "nativeBlack"
   ]
  },
  {
   "cell_type": "code",
   "execution_count": 47,
   "id": "f56a74db",
   "metadata": {},
   "outputs": [
    {
     "data": {
      "text/plain": [
       "1"
      ]
     },
     "execution_count": 47,
     "metadata": {},
     "output_type": "execute_result"
    }
   ],
   "source": [
    "nativeWhiteCrime = newHateCrimeNcDF[(newHateCrimeNcDF[\"OFFENDER_RACE\"]=='American Indian or Alaska Native'\n",
    ")&(newHateCrimeNcDF[\"BIAS_DESC\"] ==\"Anti-White\")].value_counts()\n",
    "\n",
    "nativeWhite = nativeWhiteCrime.sum()\n",
    "\n",
    "nativeWhite"
   ]
  },
  {
   "cell_type": "code",
   "execution_count": 50,
   "id": "9c7bffb2",
   "metadata": {},
   "outputs": [
    {
     "data": {
      "text/plain": [
       "0"
      ]
     },
     "execution_count": 50,
     "metadata": {},
     "output_type": "execute_result"
    }
   ],
   "source": [
    "nativeAsianCrime = newHateCrimeNcDF[(newHateCrimeNcDF[\"OFFENDER_RACE\"]=='American Indian or Alaska Native'\n",
    ")&(newHateCrimeNcDF[\"BIAS_DESC\"] ==\"Anti-Asian\")].value_counts()\n",
    "\n",
    "nativeAsian = nativeAsianCrime.sum()\n",
    "\n",
    "nativeAsian"
   ]
  },
  {
   "cell_type": "code",
   "execution_count": 51,
   "id": "00474401",
   "metadata": {},
   "outputs": [
    {
     "data": {
      "text/plain": [
       "0"
      ]
     },
     "execution_count": 51,
     "metadata": {},
     "output_type": "execute_result"
    }
   ],
   "source": [
    "nativeArabCrime = newHateCrimeNcDF[(newHateCrimeNcDF[\"OFFENDER_RACE\"]=='American Indian or Alaska Native'\n",
    ")&(newHateCrimeNcDF[\"BIAS_DESC\"] ==\"Anti-Arab\")].value_counts()\n",
    "\n",
    "nativeArab = nativeArabCrime.sum()\n",
    "\n",
    "nativeArab"
   ]
  },
  {
   "cell_type": "code",
   "execution_count": 52,
   "id": "77565890",
   "metadata": {},
   "outputs": [
    {
     "data": {
      "text/plain": [
       "1"
      ]
     },
     "execution_count": 52,
     "metadata": {},
     "output_type": "execute_result"
    }
   ],
   "source": [
    "nativeNativeCrime = newHateCrimeNcDF[(newHateCrimeNcDF[\"OFFENDER_RACE\"]=='American Indian or Alaska Native'\n",
    ")&(newHateCrimeNcDF[\"BIAS_DESC\"] ==\"Anti-American Indian or Alaska Native\")].value_counts()\n",
    "\n",
    "nativeNative = nativeNativeCrime.sum()\n",
    "\n",
    "nativeNative"
   ]
  },
  {
   "cell_type": "code",
   "execution_count": 53,
   "id": "dfa5d47a",
   "metadata": {},
   "outputs": [
    {
     "data": {
      "text/plain": [
       "1"
      ]
     },
     "execution_count": 53,
     "metadata": {},
     "output_type": "execute_result"
    }
   ],
   "source": [
    "nativeHispanicCrime = newHateCrimeNcDF[(newHateCrimeNcDF[\"OFFENDER_RACE\"]=='American Indian or Alaska Native'\n",
    ")&(newHateCrimeNcDF[\"BIAS_DESC\"] ==\"Anti-Hispanic or Latino\")].value_counts()\n",
    "\n",
    "nativeHispanic = nativeHispanicCrime.sum()\n",
    "\n",
    "nativeHispanic"
   ]
  },
  {
   "cell_type": "code",
   "execution_count": 54,
   "id": "5132af89",
   "metadata": {},
   "outputs": [
    {
     "data": {
      "text/plain": [
       "0"
      ]
     },
     "execution_count": 54,
     "metadata": {},
     "output_type": "execute_result"
    }
   ],
   "source": [
    "nativeOtherCrime = newHateCrimeNcDF[(newHateCrimeNcDF[\"OFFENDER_RACE\"]=='American Indian or Alaska Native'\n",
    ")&(newHateCrimeNcDF[\"BIAS_DESC\"] ==\"Anti-Other Race/Ethnicity/Ancestry\")].value_counts()\n",
    "\n",
    "nativeOther = nativeOtherCrime.sum()\n",
    "\n",
    "nativeOther"
   ]
  },
  {
   "cell_type": "code",
   "execution_count": 55,
   "id": "d8277de9",
   "metadata": {},
   "outputs": [
    {
     "data": {
      "text/plain": [
       "0"
      ]
     },
     "execution_count": 55,
     "metadata": {},
     "output_type": "execute_result"
    }
   ],
   "source": [
    "nativeMultipleCrime = newHateCrimeNcDF[(newHateCrimeNcDF[\"OFFENDER_RACE\"]=='American Indian or Alaska Native'\n",
    ")&(newHateCrimeNcDF[\"BIAS_DESC\"] ==\"Anti-Multiple Races, Group\")].value_counts()\n",
    "\n",
    "nativeMultiple = nativeMultipleCrime.sum()\n",
    "\n",
    "nativeMultiple"
   ]
  },
  {
   "cell_type": "code",
   "execution_count": 61,
   "id": "2f4952a8",
   "metadata": {},
   "outputs": [
    {
     "data": {
      "text/plain": [
       "4"
      ]
     },
     "execution_count": 61,
     "metadata": {},
     "output_type": "execute_result"
    }
   ],
   "source": [
    "nativeCount = [nativeMultiple, nativeOther, nativeHispanic, nativeNative, nativeAsian, nativeWhite, nativeBlack, nativeArab]\n",
    "\n",
    "nativeSum = sum(nativeCount)\n",
    "\n",
    "nativeSum"
   ]
  },
  {
   "cell_type": "code",
   "execution_count": 62,
   "id": "d2160dca",
   "metadata": {},
   "outputs": [
    {
     "data": {
      "text/plain": [
       "381"
      ]
     },
     "execution_count": 62,
     "metadata": {},
     "output_type": "execute_result"
    }
   ],
   "source": [
    "blackCount = [blackMultiple, blackOther, blackHispanic, blackNative, blackAsian, blackWhite, blackBlack, blackArab]\n",
    "\n",
    "blackSum = sum(blackCount)\n",
    "\n",
    "blackSum"
   ]
  },
  {
   "cell_type": "code",
   "execution_count": 63,
   "id": "4b6c3186",
   "metadata": {},
   "outputs": [
    {
     "data": {
      "text/plain": [
       "876"
      ]
     },
     "execution_count": 63,
     "metadata": {},
     "output_type": "execute_result"
    }
   ],
   "source": [
    "whiteCount = [whiteMultiple, whiteOther, whiteHispanic, whiteNative, whiteAsian, whiteWhite, whiteBlack, whiteArab]\n",
    "\n",
    "whiteSum = sum(whiteCount)\n",
    "\n",
    "whiteSum"
   ]
  },
  {
   "cell_type": "code",
   "execution_count": 64,
   "id": "8e305e98",
   "metadata": {},
   "outputs": [
    {
     "data": {
      "text/plain": [
       "7"
      ]
     },
     "execution_count": 64,
     "metadata": {},
     "output_type": "execute_result"
    }
   ],
   "source": [
    "asianCount = [asianMultiple, asianOther, asianHispanic, asianNative, asianAsian, asianWhite, asianBlack, asianArab]\n",
    "\n",
    "asianSum = sum(asianCount)\n",
    "\n",
    "asianSum"
   ]
  },
  {
   "cell_type": "code",
   "execution_count": 65,
   "id": "0827c300",
   "metadata": {},
   "outputs": [
    {
     "data": {
      "text/plain": [
       "31"
      ]
     },
     "execution_count": 65,
     "metadata": {},
     "output_type": "execute_result"
    }
   ],
   "source": [
    "multipleCount = [multipleMultiple, multipleOther, multipleHispanic, multipleNative, multipleAsian, multipleWhite, multipleBlack, multipleArab]\n",
    "\n",
    "multipleSum = sum(multipleCount)\n",
    "\n",
    "multipleSum"
   ]
  },
  {
   "cell_type": "markdown",
   "id": "01611f08",
   "metadata": {},
   "source": [
    "# Percentages\n",
    "Calculate the percentages by offender race"
   ]
  },
  {
   "cell_type": "code",
   "execution_count": 70,
   "id": "933dd3b5",
   "metadata": {},
   "outputs": [
    {
     "data": {
      "text/plain": [
       "1299"
      ]
     },
     "execution_count": 70,
     "metadata": {},
     "output_type": "execute_result"
    }
   ],
   "source": [
    "totalRaceOffensesPerRaceNC = [multipleSum, blackSum, whiteSum, asianSum, nativeSum]\n",
    "totalRaceOffensesPerRaceNCSum = sum(totalRaceOffensesPerRaceNC)\n",
    "\n",
    "totalRaceOffensesPerRaceNCSum"
   ]
  },
  {
   "cell_type": "code",
   "execution_count": 71,
   "id": "3de35dc1",
   "metadata": {},
   "outputs": [
    {
     "name": "stdout",
     "output_type": "stream",
     "text": [
      "67.4364896073903\n"
     ]
    }
   ],
   "source": [
    "whiteRaceOffensesPercentage = whiteSum / float(totalRaceOffensesPerRaceNCSum) * 100\n",
    "print (whiteRaceOffensesPercentage)"
   ]
  },
  {
   "cell_type": "code",
   "execution_count": 72,
   "id": "ba780046",
   "metadata": {},
   "outputs": [
    {
     "name": "stdout",
     "output_type": "stream",
     "text": [
      "29.330254041570434\n"
     ]
    }
   ],
   "source": [
    "blackRaceOffensesPercentage = blackSum / float(totalRaceOffensesPerRaceNCSum) * 100\n",
    "print (blackRaceOffensesPercentage)"
   ]
  },
  {
   "cell_type": "code",
   "execution_count": 73,
   "id": "c3776f27",
   "metadata": {},
   "outputs": [
    {
     "name": "stdout",
     "output_type": "stream",
     "text": [
      "0.5388760585065435\n"
     ]
    }
   ],
   "source": [
    "asianRaceOffensesPercentage = asianSum / float(totalRaceOffensesPerRaceNCSum) * 100\n",
    "print (asianRaceOffensesPercentage)"
   ]
  },
  {
   "cell_type": "code",
   "execution_count": 74,
   "id": "3ab90bcf",
   "metadata": {},
   "outputs": [
    {
     "name": "stdout",
     "output_type": "stream",
     "text": [
      "0.30792917628945343\n"
     ]
    }
   ],
   "source": [
    "nativeRaceOffensesPercentage = nativeSum / float(totalRaceOffensesPerRaceNCSum) * 100\n",
    "print (nativeRaceOffensesPercentage)"
   ]
  },
  {
   "cell_type": "code",
   "execution_count": 75,
   "id": "fb37dabe",
   "metadata": {},
   "outputs": [
    {
     "name": "stdout",
     "output_type": "stream",
     "text": [
      "2.386451116243264\n"
     ]
    }
   ],
   "source": [
    "multipleRaceOffensesPercentage = multipleSum / float(totalRaceOffensesPerRaceNCSum) * 100\n",
    "print (multipleRaceOffensesPercentage)"
   ]
  },
  {
   "cell_type": "code",
   "execution_count": 76,
   "id": "ebf516cc",
   "metadata": {},
   "outputs": [
    {
     "data": {
      "image/png": "[encoded data removed]",
      "text/plain": [
       "<Figure size 1200x700 with 1 Axes>"
      ]
     },
     "metadata": {},
     "output_type": "display_data"
    }
   ],
   "source": [
    "#visualize data\n",
    "fig, ax = plt.subplots(figsize=(12, 7), subplot_kw=dict(aspect=\"equal\"))\n",
    "\n",
    "race = [\"White(67.4%)\",\"Native(0.31%)\", \"Black(29.3%)\", \"Multiple(2.4%)\",\"Asian(0.5%)\"]\n",
    "\n",
    "data = [876,4,381,31,7]\n",
    "\n",
    "wedges, texts = ax.pie(data, wedgeprops=dict(width=0.5), startangle=20)\n",
    "\n",
    "bbox_props = dict(boxstyle=\"square,pad=0.5\", fc=\"w\", ec=\"k\", lw=0.8)\n",
    "kw = dict(arrowprops=dict(arrowstyle=\"-\"),\n",
    "          bbox=bbox_props, zorder=0, va=\"center\")\n",
    "\n",
    "for i, p in enumerate(wedges):\n",
    "    ang = (p.theta2 - p.theta1)/2. + p.theta1\n",
    "    y = np.sin(np.deg2rad(ang))\n",
    "    x = np.cos(np.deg2rad(ang))\n",
    "    horizontalalignment = {-1: \"right\", 1: \"left\"}[int(np.sign(x))]\n",
    "    connectionstyle = f\"angle,angleA=0,angleB={ang}\"\n",
    "    kw[\"arrowprops\"].update({\"connectionstyle\": connectionstyle})\n",
    "    ax.annotate(race[i], xy=(x, y), xytext=(1.4*np.sign(x), 1.4*y),\n",
    "                horizontalalignment=horizontalalignment, **kw)\n",
    "\n",
    "ax.set_title(\"Racial Bias Hate Crimes in NC by Offender Race (1991-2020)\")\n",
    "plt.savefig(\"output_data/Fig8.png\")\n",
    "plt.show()"
   ]
  },
  {
   "cell_type": "code",
   "execution_count": null,
   "id": "baf145af",
   "metadata": {},
   "outputs": [],
   "source": []
  }
 ],
 "metadata": {
  "kernelspec": {
   "display_name": "Python 3 (ipykernel)",
   "language": "python",
   "name": "python3"
  },
  "language_info": {
   "codemirror_mode": {
    "name": "ipython",
    "version": 3
   },
   "file_extension": ".py",
   "mimetype": "text/x-python",
   "name": "python",
   "nbconvert_exporter": "python",
   "pygments_lexer": "ipython3",
   "version": "3.11.7"
  }
 },
 "nbformat": 4,
 "nbformat_minor": 5
}
