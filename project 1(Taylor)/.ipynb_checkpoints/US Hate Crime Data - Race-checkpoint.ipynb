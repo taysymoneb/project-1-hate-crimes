{
 "cells": [
  {
   "cell_type": "markdown",
   "id": "2829e51a",
   "metadata": {},
   "source": [
    "# US Racial Bias Hate Crime Data Analysis\n"
   ]
  },
  {
   "cell_type": "markdown",
   "id": "dd756b75",
   "metadata": {},
   "source": [
    "According to this FBI dataset of national hate crime, there were 300,026 total victims of hate crimes between 1991-2020. The race of 96,520 of the offenders was unknown and 9,546 were labeled as unspecified.This analysis only looks at race bias hate crimes. The other types of offenses include sexual orientation, religion, and disability.\n",
    "\n",
    "Research questions:\n",
    "\n",
    "1.What race group committed the most hate crimes for the category of race?\n",
    "\n",
    "The offender race deemed as \"White\" committed the most overall racial biased hate crimes. The bias description of \"Anti-Black\" \n",
    "was the most common offensive type for white, asian, and multiple race offenders. The bias description of \"Anti-White\" was the most common offense type for native, islander, and black offenders.\n",
    "\n",
    "2.What race experienced the most racially motivated hate crimes per region(midwest, west, south, northeast)? Is there any relationship between region and race based crimes?\n",
    "\n",
    "Victims who were black experienced the most racially motivated hate crimes across all regions. The values for each race group/victim type stay consistent and don't vary much throughout all of the four regions that were visualized. Therefore, it can be theorized that region has little to do with whether or not a certain race group will have a lesser chance of experiencing racial discrimination."
   ]
  },
  {
   "cell_type": "code",
   "execution_count": 1,
   "id": "f313994e",
   "metadata": {},
   "outputs": [
    {
     "data": {
      "application/javascript": [
       "(function(root) {\n",
       "  function now() {\n",
       "    return new Date();\n",
       "  }\n",
       "\n",
       "  var force = true;\n",
       "  var py_version = '3.4.1'.replace('rc', '-rc.').replace('.dev', '-dev.');\n",
       "  var reloading = false;\n",
       "  var Bokeh = root.Bokeh;\n",
       "\n",
       "  if (typeof (root._bokeh_timeout) === \"undefined\" || force) {\n",
       "    root._bokeh_timeout = Date.now() + 5000;\n",
       "    root._bokeh_failed_load = false;\n",
       "  }\n",
       "\n",
       "  function run_callbacks() {\n",
       "    try {\n",
       "      root._bokeh_onload_callbacks.forEach(function(callback) {\n",
       "        if (callback != null)\n",
       "          callback();\n",
       "      });\n",
       "    } finally {\n",
       "      delete root._bokeh_onload_callbacks;\n",
       "    }\n",
       "    console.debug(\"Bokeh: all callbacks have finished\");\n",
       "  }\n",
       "\n",
       "  function load_libs(css_urls, js_urls, js_modules, js_exports, callback) {\n",
       "    if (css_urls == null) css_urls = [];\n",
       "    if (js_urls == null) js_urls = [];\n",
       "    if (js_modules == null) js_modules = [];\n",
       "    if (js_exports == null) js_exports = {};\n",
       "\n",
       "    root._bokeh_onload_callbacks.push(callback);\n",
       "\n",
       "    if (root._bokeh_is_loading > 0) {\n",
       "      console.debug(\"Bokeh: BokehJS is being loaded, scheduling callback at\", now());\n",
       "      return null;\n",
       "    }\n",
       "    if (js_urls.length === 0 && js_modules.length === 0 && Object.keys(js_exports).length === 0) {\n",
       "      run_callbacks();\n",
       "      return null;\n",
       "    }\n",
       "    if (!reloading) {\n",
       "      console.debug(\"Bokeh: BokehJS not loaded, scheduling load and callback at\", now());\n",
       "    }\n",
       "\n",
       "    function on_load() {\n",
       "      root._bokeh_is_loading--;\n",
       "      if (root._bokeh_is_loading === 0) {\n",
       "        console.debug(\"Bokeh: all BokehJS libraries/stylesheets loaded\");\n",
       "        run_callbacks()\n",
       "      }\n",
       "    }\n",
       "    window._bokeh_on_load = on_load\n",
       "\n",
       "    function on_error() {\n",
       "      console.error(\"failed to load \" + url);\n",
       "    }\n",
       "\n",
       "    var skip = [];\n",
       "    if (window.requirejs) {\n",
       "      window.requirejs.config({'packages': {}, 'paths': {}, 'shim': {}});\n",
       "      root._bokeh_is_loading = css_urls.length + 0;\n",
       "    } else {\n",
       "      root._bokeh_is_loading = css_urls.length + js_urls.length + js_modules.length + Object.keys(js_exports).length;\n",
       "    }\n",
       "\n",
       "    var existing_stylesheets = []\n",
       "    var links = document.getElementsByTagName('link')\n",
       "    for (var i = 0; i < links.length; i++) {\n",
       "      var link = links[i]\n",
       "      if (link.href != null) {\n",
       "\texisting_stylesheets.push(link.href)\n",
       "      }\n",
       "    }\n",
       "    for (var i = 0; i < css_urls.length; i++) {\n",
       "      var url = css_urls[i];\n",
       "      if (existing_stylesheets.indexOf(url) !== -1) {\n",
       "\ton_load()\n",
       "\tcontinue;\n",
       "      }\n",
       "      const element = document.createElement(\"link\");\n",
       "      element.onload = on_load;\n",
       "      element.onerror = on_error;\n",
       "      element.rel = \"stylesheet\";\n",
       "      element.type = \"text/css\";\n",
       "      element.href = url;\n",
       "      console.debug(\"Bokeh: injecting link tag for BokehJS stylesheet: \", url);\n",
       "      document.body.appendChild(element);\n",
       "    }    var existing_scripts = []\n",
       "    var scripts = document.getElementsByTagName('script')\n",
       "    for (var i = 0; i < scripts.length; i++) {\n",
       "      var script = scripts[i]\n",
       "      if (script.src != null) {\n",
       "\texisting_scripts.push(script.src)\n",
       "      }\n",
       "    }\n",
       "    for (var i = 0; i < js_urls.length; i++) {\n",
       "      var url = js_urls[i];\n",
       "      if (skip.indexOf(url) !== -1 || existing_scripts.indexOf(url) !== -1) {\n",
       "\tif (!window.requirejs) {\n",
       "\t  on_load();\n",
       "\t}\n",
       "\tcontinue;\n",
       "      }\n",
       "      var element = document.createElement('script');\n",
       "      element.onload = on_load;\n",
       "      element.onerror = on_error;\n",
       "      element.async = false;\n",
       "      element.src = url;\n",
       "      console.debug(\"Bokeh: injecting script tag for BokehJS library: \", url);\n",
       "      document.head.appendChild(element);\n",
       "    }\n",
       "    for (var i = 0; i < js_modules.length; i++) {\n",
       "      var url = js_modules[i];\n",
       "      if (skip.indexOf(url) !== -1 || existing_scripts.indexOf(url) !== -1) {\n",
       "\tif (!window.requirejs) {\n",
       "\t  on_load();\n",
       "\t}\n",
       "\tcontinue;\n",
       "      }\n",
       "      var element = document.createElement('script');\n",
       "      element.onload = on_load;\n",
       "      element.onerror = on_error;\n",
       "      element.async = false;\n",
       "      element.src = url;\n",
       "      element.type = \"module\";\n",
       "      console.debug(\"Bokeh: injecting script tag for BokehJS library: \", url);\n",
       "      document.head.appendChild(element);\n",
       "    }\n",
       "    for (const name in js_exports) {\n",
       "      var url = js_exports[name];\n",
       "      if (skip.indexOf(url) >= 0 || root[name] != null) {\n",
       "\tif (!window.requirejs) {\n",
       "\t  on_load();\n",
       "\t}\n",
       "\tcontinue;\n",
       "      }\n",
       "      var element = document.createElement('script');\n",
       "      element.onerror = on_error;\n",
       "      element.async = false;\n",
       "      element.type = \"module\";\n",
       "      console.debug(\"Bokeh: injecting script tag for BokehJS library: \", url);\n",
       "      element.textContent = `\n",
       "      import ${name} from \"${url}\"\n",
       "      window.${name} = ${name}\n",
       "      window._bokeh_on_load()\n",
       "      `\n",
       "      document.head.appendChild(element);\n",
       "    }\n",
       "    if (!js_urls.length && !js_modules.length) {\n",
       "      on_load()\n",
       "    }\n",
       "  };\n",
       "\n",
       "  function inject_raw_css(css) {\n",
       "    const element = document.createElement(\"style\");\n",
       "    element.appendChild(document.createTextNode(css));\n",
       "    document.body.appendChild(element);\n",
       "  }\n",
       "\n",
       "  var js_urls = [\"https://cdn.bokeh.org/bokeh/release/bokeh-3.4.1.min.js\", \"https://cdn.bokeh.org/bokeh/release/bokeh-gl-3.4.1.min.js\", \"https://cdn.bokeh.org/bokeh/release/bokeh-widgets-3.4.1.min.js\", \"https://cdn.bokeh.org/bokeh/release/bokeh-tables-3.4.1.min.js\", \"https://cdn.holoviz.org/panel/1.4.2/dist/panel.min.js\"];\n",
       "  var js_modules = [];\n",
       "  var js_exports = {};\n",
       "  var css_urls = [];\n",
       "  var inline_js = [    function(Bokeh) {\n",
       "      Bokeh.set_log_level(\"info\");\n",
       "    },\n",
       "function(Bokeh) {} // ensure no trailing comma for IE\n",
       "  ];\n",
       "\n",
       "  function run_inline_js() {\n",
       "    if ((root.Bokeh !== undefined) || (force === true)) {\n",
       "      for (var i = 0; i < inline_js.length; i++) {\n",
       "\ttry {\n",
       "          inline_js[i].call(root, root.Bokeh);\n",
       "\t} catch(e) {\n",
       "\t  if (!reloading) {\n",
       "\t    throw e;\n",
       "\t  }\n",
       "\t}\n",
       "      }\n",
       "      // Cache old bokeh versions\n",
       "      if (Bokeh != undefined && !reloading) {\n",
       "\tvar NewBokeh = root.Bokeh;\n",
       "\tif (Bokeh.versions === undefined) {\n",
       "\t  Bokeh.versions = new Map();\n",
       "\t}\n",
       "\tif (NewBokeh.version !== Bokeh.version) {\n",
       "\t  Bokeh.versions.set(NewBokeh.version, NewBokeh)\n",
       "\t}\n",
       "\troot.Bokeh = Bokeh;\n",
       "      }} else if (Date.now() < root._bokeh_timeout) {\n",
       "      setTimeout(run_inline_js, 100);\n",
       "    } else if (!root._bokeh_failed_load) {\n",
       "      console.log(\"Bokeh: BokehJS failed to load within specified timeout.\");\n",
       "      root._bokeh_failed_load = true;\n",
       "    }\n",
       "    root._bokeh_is_initializing = false\n",
       "  }\n",
       "\n",
       "  function load_or_wait() {\n",
       "    // Implement a backoff loop that tries to ensure we do not load multiple\n",
       "    // versions of Bokeh and its dependencies at the same time.\n",
       "    // In recent versions we use the root._bokeh_is_initializing flag\n",
       "    // to determine whether there is an ongoing attempt to initialize\n",
       "    // bokeh, however for backward compatibility we also try to ensure\n",
       "    // that we do not start loading a newer (Panel>=1.0 and Bokeh>3) version\n",
       "    // before older versions are fully initialized.\n",
       "    if (root._bokeh_is_initializing && Date.now() > root._bokeh_timeout) {\n",
       "      root._bokeh_is_initializing = false;\n",
       "      root._bokeh_onload_callbacks = undefined;\n",
       "      console.log(\"Bokeh: BokehJS was loaded multiple times but one version failed to initialize.\");\n",
       "      load_or_wait();\n",
       "    } else if (root._bokeh_is_initializing || (typeof root._bokeh_is_initializing === \"undefined\" && root._bokeh_onload_callbacks !== undefined)) {\n",
       "      setTimeout(load_or_wait, 100);\n",
       "    } else {\n",
       "      root._bokeh_is_initializing = true\n",
       "      root._bokeh_onload_callbacks = []\n",
       "      var bokeh_loaded = Bokeh != null && (Bokeh.version === py_version || (Bokeh.versions !== undefined && Bokeh.versions.has(py_version)));\n",
       "      if (!reloading && !bokeh_loaded) {\n",
       "\troot.Bokeh = undefined;\n",
       "      }\n",
       "      load_libs(css_urls, js_urls, js_modules, js_exports, function() {\n",
       "\tconsole.debug(\"Bokeh: BokehJS plotting callback run at\", now());\n",
       "\trun_inline_js();\n",
       "      });\n",
       "    }\n",
       "  }\n",
       "  // Give older versions of the autoload script a head-start to ensure\n",
       "  // they initialize before we start loading newer version.\n",
       "  setTimeout(load_or_wait, 100)\n",
       "}(window));"
      ],
      "application/vnd.holoviews_load.v0+json": "(function(root) {\n  function now() {\n    return new Date();\n  }\n\n  var force = true;\n  var py_version = '3.4.1'.replace('rc', '-rc.').replace('.dev', '-dev.');\n  var reloading = false;\n  var Bokeh = root.Bokeh;\n\n  if (typeof (root._bokeh_timeout) === \"undefined\" || force) {\n    root._bokeh_timeout = Date.now() + 5000;\n    root._bokeh_failed_load = false;\n  }\n\n  function run_callbacks() {\n    try {\n      root._bokeh_onload_callbacks.forEach(function(callback) {\n        if (callback != null)\n          callback();\n      });\n    } finally {\n      delete root._bokeh_onload_callbacks;\n    }\n    console.debug(\"Bokeh: all callbacks have finished\");\n  }\n\n  function load_libs(css_urls, js_urls, js_modules, js_exports, callback) {\n    if (css_urls == null) css_urls = [];\n    if (js_urls == null) js_urls = [];\n    if (js_modules == null) js_modules = [];\n    if (js_exports == null) js_exports = {};\n\n    root._bokeh_onload_callbacks.push(callback);\n\n    if (root._bokeh_is_loading > 0) {\n      console.debug(\"Bokeh: BokehJS is being loaded, scheduling callback at\", now());\n      return null;\n    }\n    if (js_urls.length === 0 && js_modules.length === 0 && Object.keys(js_exports).length === 0) {\n      run_callbacks();\n      return null;\n    }\n    if (!reloading) {\n      console.debug(\"Bokeh: BokehJS not loaded, scheduling load and callback at\", now());\n    }\n\n    function on_load() {\n      root._bokeh_is_loading--;\n      if (root._bokeh_is_loading === 0) {\n        console.debug(\"Bokeh: all BokehJS libraries/stylesheets loaded\");\n        run_callbacks()\n      }\n    }\n    window._bokeh_on_load = on_load\n\n    function on_error() {\n      console.error(\"failed to load \" + url);\n    }\n\n    var skip = [];\n    if (window.requirejs) {\n      window.requirejs.config({'packages': {}, 'paths': {}, 'shim': {}});\n      root._bokeh_is_loading = css_urls.length + 0;\n    } else {\n      root._bokeh_is_loading = css_urls.length + js_urls.length + js_modules.length + Object.keys(js_exports).length;\n    }\n\n    var existing_stylesheets = []\n    var links = document.getElementsByTagName('link')\n    for (var i = 0; i < links.length; i++) {\n      var link = links[i]\n      if (link.href != null) {\n\texisting_stylesheets.push(link.href)\n      }\n    }\n    for (var i = 0; i < css_urls.length; i++) {\n      var url = css_urls[i];\n      if (existing_stylesheets.indexOf(url) !== -1) {\n\ton_load()\n\tcontinue;\n      }\n      const element = document.createElement(\"link\");\n      element.onload = on_load;\n      element.onerror = on_error;\n      element.rel = \"stylesheet\";\n      element.type = \"text/css\";\n      element.href = url;\n      console.debug(\"Bokeh: injecting link tag for BokehJS stylesheet: \", url);\n      document.body.appendChild(element);\n    }    var existing_scripts = []\n    var scripts = document.getElementsByTagName('script')\n    for (var i = 0; i < scripts.length; i++) {\n      var script = scripts[i]\n      if (script.src != null) {\n\texisting_scripts.push(script.src)\n      }\n    }\n    for (var i = 0; i < js_urls.length; i++) {\n      var url = js_urls[i];\n      if (skip.indexOf(url) !== -1 || existing_scripts.indexOf(url) !== -1) {\n\tif (!window.requirejs) {\n\t  on_load();\n\t}\n\tcontinue;\n      }\n      var element = document.createElement('script');\n      element.onload = on_load;\n      element.onerror = on_error;\n      element.async = false;\n      element.src = url;\n      console.debug(\"Bokeh: injecting script tag for BokehJS library: \", url);\n      document.head.appendChild(element);\n    }\n    for (var i = 0; i < js_modules.length; i++) {\n      var url = js_modules[i];\n      if (skip.indexOf(url) !== -1 || existing_scripts.indexOf(url) !== -1) {\n\tif (!window.requirejs) {\n\t  on_load();\n\t}\n\tcontinue;\n      }\n      var element = document.createElement('script');\n      element.onload = on_load;\n      element.onerror = on_error;\n      element.async = false;\n      element.src = url;\n      element.type = \"module\";\n      console.debug(\"Bokeh: injecting script tag for BokehJS library: \", url);\n      document.head.appendChild(element);\n    }\n    for (const name in js_exports) {\n      var url = js_exports[name];\n      if (skip.indexOf(url) >= 0 || root[name] != null) {\n\tif (!window.requirejs) {\n\t  on_load();\n\t}\n\tcontinue;\n      }\n      var element = document.createElement('script');\n      element.onerror = on_error;\n      element.async = false;\n      element.type = \"module\";\n      console.debug(\"Bokeh: injecting script tag for BokehJS library: \", url);\n      element.textContent = `\n      import ${name} from \"${url}\"\n      window.${name} = ${name}\n      window._bokeh_on_load()\n      `\n      document.head.appendChild(element);\n    }\n    if (!js_urls.length && !js_modules.length) {\n      on_load()\n    }\n  };\n\n  function inject_raw_css(css) {\n    const element = document.createElement(\"style\");\n    element.appendChild(document.createTextNode(css));\n    document.body.appendChild(element);\n  }\n\n  var js_urls = [\"https://cdn.bokeh.org/bokeh/release/bokeh-3.4.1.min.js\", \"https://cdn.bokeh.org/bokeh/release/bokeh-gl-3.4.1.min.js\", \"https://cdn.bokeh.org/bokeh/release/bokeh-widgets-3.4.1.min.js\", \"https://cdn.bokeh.org/bokeh/release/bokeh-tables-3.4.1.min.js\", \"https://cdn.holoviz.org/panel/1.4.2/dist/panel.min.js\"];\n  var js_modules = [];\n  var js_exports = {};\n  var css_urls = [];\n  var inline_js = [    function(Bokeh) {\n      Bokeh.set_log_level(\"info\");\n    },\nfunction(Bokeh) {} // ensure no trailing comma for IE\n  ];\n\n  function run_inline_js() {\n    if ((root.Bokeh !== undefined) || (force === true)) {\n      for (var i = 0; i < inline_js.length; i++) {\n\ttry {\n          inline_js[i].call(root, root.Bokeh);\n\t} catch(e) {\n\t  if (!reloading) {\n\t    throw e;\n\t  }\n\t}\n      }\n      // Cache old bokeh versions\n      if (Bokeh != undefined && !reloading) {\n\tvar NewBokeh = root.Bokeh;\n\tif (Bokeh.versions === undefined) {\n\t  Bokeh.versions = new Map();\n\t}\n\tif (NewBokeh.version !== Bokeh.version) {\n\t  Bokeh.versions.set(NewBokeh.version, NewBokeh)\n\t}\n\troot.Bokeh = Bokeh;\n      }} else if (Date.now() < root._bokeh_timeout) {\n      setTimeout(run_inline_js, 100);\n    } else if (!root._bokeh_failed_load) {\n      console.log(\"Bokeh: BokehJS failed to load within specified timeout.\");\n      root._bokeh_failed_load = true;\n    }\n    root._bokeh_is_initializing = false\n  }\n\n  function load_or_wait() {\n    // Implement a backoff loop that tries to ensure we do not load multiple\n    // versions of Bokeh and its dependencies at the same time.\n    // In recent versions we use the root._bokeh_is_initializing flag\n    // to determine whether there is an ongoing attempt to initialize\n    // bokeh, however for backward compatibility we also try to ensure\n    // that we do not start loading a newer (Panel>=1.0 and Bokeh>3) version\n    // before older versions are fully initialized.\n    if (root._bokeh_is_initializing && Date.now() > root._bokeh_timeout) {\n      root._bokeh_is_initializing = false;\n      root._bokeh_onload_callbacks = undefined;\n      console.log(\"Bokeh: BokehJS was loaded multiple times but one version failed to initialize.\");\n      load_or_wait();\n    } else if (root._bokeh_is_initializing || (typeof root._bokeh_is_initializing === \"undefined\" && root._bokeh_onload_callbacks !== undefined)) {\n      setTimeout(load_or_wait, 100);\n    } else {\n      root._bokeh_is_initializing = true\n      root._bokeh_onload_callbacks = []\n      var bokeh_loaded = Bokeh != null && (Bokeh.version === py_version || (Bokeh.versions !== undefined && Bokeh.versions.has(py_version)));\n      if (!reloading && !bokeh_loaded) {\n\troot.Bokeh = undefined;\n      }\n      load_libs(css_urls, js_urls, js_modules, js_exports, function() {\n\tconsole.debug(\"Bokeh: BokehJS plotting callback run at\", now());\n\trun_inline_js();\n      });\n    }\n  }\n  // Give older versions of the autoload script a head-start to ensure\n  // they initialize before we start loading newer version.\n  setTimeout(load_or_wait, 100)\n}(window));"
     },
     "metadata": {},
     "output_type": "display_data"
    },
    {
     "data": {
      "application/javascript": [
       "\n",
       "if ((window.PyViz === undefined) || (window.PyViz instanceof HTMLElement)) {\n",
       "  window.PyViz = {comms: {}, comm_status:{}, kernels:{}, receivers: {}, plot_index: []}\n",
       "}\n",
       "\n",
       "\n",
       "    function JupyterCommManager() {\n",
       "    }\n",
       "\n",
       "    JupyterCommManager.prototype.register_target = function(plot_id, comm_id, msg_handler) {\n",
       "      if (window.comm_manager || ((window.Jupyter !== undefined) && (Jupyter.notebook.kernel != null))) {\n",
       "        var comm_manager = window.comm_manager || Jupyter.notebook.kernel.comm_manager;\n",
       "        comm_manager.register_target(comm_id, function(comm) {\n",
       "          comm.on_msg(msg_handler);\n",
       "        });\n",
       "      } else if ((plot_id in window.PyViz.kernels) && (window.PyViz.kernels[plot_id])) {\n",
       "        window.PyViz.kernels[plot_id].registerCommTarget(comm_id, function(comm) {\n",
       "          comm.onMsg = msg_handler;\n",
       "        });\n",
       "      } else if (typeof google != 'undefined' && google.colab.kernel != null) {\n",
       "        google.colab.kernel.comms.registerTarget(comm_id, (comm) => {\n",
       "          var messages = comm.messages[Symbol.asyncIterator]();\n",
       "          function processIteratorResult(result) {\n",
       "            var message = result.value;\n",
       "            console.log(message)\n",
       "            var content = {data: message.data, comm_id};\n",
       "            var buffers = []\n",
       "            for (var buffer of message.buffers || []) {\n",
       "              buffers.push(new DataView(buffer))\n",
       "            }\n",
       "            var metadata = message.metadata || {};\n",
       "            var msg = {content, buffers, metadata}\n",
       "            msg_handler(msg);\n",
       "            return messages.next().then(processIteratorResult);\n",
       "          }\n",
       "          return messages.next().then(processIteratorResult);\n",
       "        })\n",
       "      }\n",
       "    }\n",
       "\n",
       "    JupyterCommManager.prototype.get_client_comm = function(plot_id, comm_id, msg_handler) {\n",
       "      if (comm_id in window.PyViz.comms) {\n",
       "        return window.PyViz.comms[comm_id];\n",
       "      } else if (window.comm_manager || ((window.Jupyter !== undefined) && (Jupyter.notebook.kernel != null))) {\n",
       "        var comm_manager = window.comm_manager || Jupyter.notebook.kernel.comm_manager;\n",
       "        var comm = comm_manager.new_comm(comm_id, {}, {}, {}, comm_id);\n",
       "        if (msg_handler) {\n",
       "          comm.on_msg(msg_handler);\n",
       "        }\n",
       "      } else if ((plot_id in window.PyViz.kernels) && (window.PyViz.kernels[plot_id])) {\n",
       "        var comm = window.PyViz.kernels[plot_id].connectToComm(comm_id);\n",
       "        comm.open();\n",
       "        if (msg_handler) {\n",
       "          comm.onMsg = msg_handler;\n",
       "        }\n",
       "      } else if (typeof google != 'undefined' && google.colab.kernel != null) {\n",
       "        var comm_promise = google.colab.kernel.comms.open(comm_id)\n",
       "        comm_promise.then((comm) => {\n",
       "          window.PyViz.comms[comm_id] = comm;\n",
       "          if (msg_handler) {\n",
       "            var messages = comm.messages[Symbol.asyncIterator]();\n",
       "            function processIteratorResult(result) {\n",
       "              var message = result.value;\n",
       "              var content = {data: message.data};\n",
       "              var metadata = message.metadata || {comm_id};\n",
       "              var msg = {content, metadata}\n",
       "              msg_handler(msg);\n",
       "              return messages.next().then(processIteratorResult);\n",
       "            }\n",
       "            return messages.next().then(processIteratorResult);\n",
       "          }\n",
       "        }) \n",
       "        var sendClosure = (data, metadata, buffers, disposeOnDone) => {\n",
       "          return comm_promise.then((comm) => {\n",
       "            comm.send(data, metadata, buffers, disposeOnDone);\n",
       "          });\n",
       "        };\n",
       "        var comm = {\n",
       "          send: sendClosure\n",
       "        };\n",
       "      }\n",
       "      window.PyViz.comms[comm_id] = comm;\n",
       "      return comm;\n",
       "    }\n",
       "    window.PyViz.comm_manager = new JupyterCommManager();\n",
       "    \n",
       "\n",
       "\n",
       "var JS_MIME_TYPE = 'application/javascript';\n",
       "var HTML_MIME_TYPE = 'text/html';\n",
       "var EXEC_MIME_TYPE = 'application/vnd.holoviews_exec.v0+json';\n",
       "var CLASS_NAME = 'output';\n",
       "\n",
       "/**\n",
       " * Render data to the DOM node\n",
       " */\n",
       "function render(props, node) {\n",
       "  var div = document.createElement(\"div\");\n",
       "  var script = document.createElement(\"script\");\n",
       "  node.appendChild(div);\n",
       "  node.appendChild(script);\n",
       "}\n",
       "\n",
       "/**\n",
       " * Handle when a new output is added\n",
       " */\n",
       "function handle_add_output(event, handle) {\n",
       "  var output_area = handle.output_area;\n",
       "  var output = handle.output;\n",
       "  if ((output.data == undefined) || (!output.data.hasOwnProperty(EXEC_MIME_TYPE))) {\n",
       "    return\n",
       "  }\n",
       "  var id = output.metadata[EXEC_MIME_TYPE][\"id\"];\n",
       "  var toinsert = output_area.element.find(\".\" + CLASS_NAME.split(' ')[0]);\n",
       "  if (id !== undefined) {\n",
       "    var nchildren = toinsert.length;\n",
       "    var html_node = toinsert[nchildren-1].children[0];\n",
       "    html_node.innerHTML = output.data[HTML_MIME_TYPE];\n",
       "    var scripts = [];\n",
       "    var nodelist = html_node.querySelectorAll(\"script\");\n",
       "    for (var i in nodelist) {\n",
       "      if (nodelist.hasOwnProperty(i)) {\n",
       "        scripts.push(nodelist[i])\n",
       "      }\n",
       "    }\n",
       "\n",
       "    scripts.forEach( function (oldScript) {\n",
       "      var newScript = document.createElement(\"script\");\n",
       "      var attrs = [];\n",
       "      var nodemap = oldScript.attributes;\n",
       "      for (var j in nodemap) {\n",
       "        if (nodemap.hasOwnProperty(j)) {\n",
       "          attrs.push(nodemap[j])\n",
       "        }\n",
       "      }\n",
       "      attrs.forEach(function(attr) { newScript.setAttribute(attr.name, attr.value) });\n",
       "      newScript.appendChild(document.createTextNode(oldScript.innerHTML));\n",
       "      oldScript.parentNode.replaceChild(newScript, oldScript);\n",
       "    });\n",
       "    if (JS_MIME_TYPE in output.data) {\n",
       "      toinsert[nchildren-1].children[1].textContent = output.data[JS_MIME_TYPE];\n",
       "    }\n",
       "    output_area._hv_plot_id = id;\n",
       "    if ((window.Bokeh !== undefined) && (id in Bokeh.index)) {\n",
       "      window.PyViz.plot_index[id] = Bokeh.index[id];\n",
       "    } else {\n",
       "      window.PyViz.plot_index[id] = null;\n",
       "    }\n",
       "  } else if (output.metadata[EXEC_MIME_TYPE][\"server_id\"] !== undefined) {\n",
       "    var bk_div = document.createElement(\"div\");\n",
       "    bk_div.innerHTML = output.data[HTML_MIME_TYPE];\n",
       "    var script_attrs = bk_div.children[0].attributes;\n",
       "    for (var i = 0; i < script_attrs.length; i++) {\n",
       "      toinsert[toinsert.length - 1].childNodes[1].setAttribute(script_attrs[i].name, script_attrs[i].value);\n",
       "    }\n",
       "    // store reference to server id on output_area\n",
       "    output_area._bokeh_server_id = output.metadata[EXEC_MIME_TYPE][\"server_id\"];\n",
       "  }\n",
       "}\n",
       "\n",
       "/**\n",
       " * Handle when an output is cleared or removed\n",
       " */\n",
       "function handle_clear_output(event, handle) {\n",
       "  var id = handle.cell.output_area._hv_plot_id;\n",
       "  var server_id = handle.cell.output_area._bokeh_server_id;\n",
       "  if (((id === undefined) || !(id in PyViz.plot_index)) && (server_id !== undefined)) { return; }\n",
       "  var comm = window.PyViz.comm_manager.get_client_comm(\"hv-extension-comm\", \"hv-extension-comm\", function () {});\n",
       "  if (server_id !== null) {\n",
       "    comm.send({event_type: 'server_delete', 'id': server_id});\n",
       "    return;\n",
       "  } else if (comm !== null) {\n",
       "    comm.send({event_type: 'delete', 'id': id});\n",
       "  }\n",
       "  delete PyViz.plot_index[id];\n",
       "  if ((window.Bokeh !== undefined) & (id in window.Bokeh.index)) {\n",
       "    var doc = window.Bokeh.index[id].model.document\n",
       "    doc.clear();\n",
       "    const i = window.Bokeh.documents.indexOf(doc);\n",
       "    if (i > -1) {\n",
       "      window.Bokeh.documents.splice(i, 1);\n",
       "    }\n",
       "  }\n",
       "}\n",
       "\n",
       "/**\n",
       " * Handle kernel restart event\n",
       " */\n",
       "function handle_kernel_cleanup(event, handle) {\n",
       "  delete PyViz.comms[\"hv-extension-comm\"];\n",
       "  window.PyViz.plot_index = {}\n",
       "}\n",
       "\n",
       "/**\n",
       " * Handle update_display_data messages\n",
       " */\n",
       "function handle_update_output(event, handle) {\n",
       "  handle_clear_output(event, {cell: {output_area: handle.output_area}})\n",
       "  handle_add_output(event, handle)\n",
       "}\n",
       "\n",
       "function register_renderer(events, OutputArea) {\n",
       "  function append_mime(data, metadata, element) {\n",
       "    // create a DOM node to render to\n",
       "    var toinsert = this.create_output_subarea(\n",
       "    metadata,\n",
       "    CLASS_NAME,\n",
       "    EXEC_MIME_TYPE\n",
       "    );\n",
       "    this.keyboard_manager.register_events(toinsert);\n",
       "    // Render to node\n",
       "    var props = {data: data, metadata: metadata[EXEC_MIME_TYPE]};\n",
       "    render(props, toinsert[0]);\n",
       "    element.append(toinsert);\n",
       "    return toinsert\n",
       "  }\n",
       "\n",
       "  events.on('output_added.OutputArea', handle_add_output);\n",
       "  events.on('output_updated.OutputArea', handle_update_output);\n",
       "  events.on('clear_output.CodeCell', handle_clear_output);\n",
       "  events.on('delete.Cell', handle_clear_output);\n",
       "  events.on('kernel_ready.Kernel', handle_kernel_cleanup);\n",
       "\n",
       "  OutputArea.prototype.register_mime_type(EXEC_MIME_TYPE, append_mime, {\n",
       "    safe: true,\n",
       "    index: 0\n",
       "  });\n",
       "}\n",
       "\n",
       "if (window.Jupyter !== undefined) {\n",
       "  try {\n",
       "    var events = require('base/js/events');\n",
       "    var OutputArea = require('notebook/js/outputarea').OutputArea;\n",
       "    if (OutputArea.prototype.mime_types().indexOf(EXEC_MIME_TYPE) == -1) {\n",
       "      register_renderer(events, OutputArea);\n",
       "    }\n",
       "  } catch(err) {\n",
       "  }\n",
       "}\n"
      ],
      "application/vnd.holoviews_load.v0+json": "\nif ((window.PyViz === undefined) || (window.PyViz instanceof HTMLElement)) {\n  window.PyViz = {comms: {}, comm_status:{}, kernels:{}, receivers: {}, plot_index: []}\n}\n\n\n    function JupyterCommManager() {\n    }\n\n    JupyterCommManager.prototype.register_target = function(plot_id, comm_id, msg_handler) {\n      if (window.comm_manager || ((window.Jupyter !== undefined) && (Jupyter.notebook.kernel != null))) {\n        var comm_manager = window.comm_manager || Jupyter.notebook.kernel.comm_manager;\n        comm_manager.register_target(comm_id, function(comm) {\n          comm.on_msg(msg_handler);\n        });\n      } else if ((plot_id in window.PyViz.kernels) && (window.PyViz.kernels[plot_id])) {\n        window.PyViz.kernels[plot_id].registerCommTarget(comm_id, function(comm) {\n          comm.onMsg = msg_handler;\n        });\n      } else if (typeof google != 'undefined' && google.colab.kernel != null) {\n        google.colab.kernel.comms.registerTarget(comm_id, (comm) => {\n          var messages = comm.messages[Symbol.asyncIterator]();\n          function processIteratorResult(result) {\n            var message = result.value;\n            console.log(message)\n            var content = {data: message.data, comm_id};\n            var buffers = []\n            for (var buffer of message.buffers || []) {\n              buffers.push(new DataView(buffer))\n            }\n            var metadata = message.metadata || {};\n            var msg = {content, buffers, metadata}\n            msg_handler(msg);\n            return messages.next().then(processIteratorResult);\n          }\n          return messages.next().then(processIteratorResult);\n        })\n      }\n    }\n\n    JupyterCommManager.prototype.get_client_comm = function(plot_id, comm_id, msg_handler) {\n      if (comm_id in window.PyViz.comms) {\n        return window.PyViz.comms[comm_id];\n      } else if (window.comm_manager || ((window.Jupyter !== undefined) && (Jupyter.notebook.kernel != null))) {\n        var comm_manager = window.comm_manager || Jupyter.notebook.kernel.comm_manager;\n        var comm = comm_manager.new_comm(comm_id, {}, {}, {}, comm_id);\n        if (msg_handler) {\n          comm.on_msg(msg_handler);\n        }\n      } else if ((plot_id in window.PyViz.kernels) && (window.PyViz.kernels[plot_id])) {\n        var comm = window.PyViz.kernels[plot_id].connectToComm(comm_id);\n        comm.open();\n        if (msg_handler) {\n          comm.onMsg = msg_handler;\n        }\n      } else if (typeof google != 'undefined' && google.colab.kernel != null) {\n        var comm_promise = google.colab.kernel.comms.open(comm_id)\n        comm_promise.then((comm) => {\n          window.PyViz.comms[comm_id] = comm;\n          if (msg_handler) {\n            var messages = comm.messages[Symbol.asyncIterator]();\n            function processIteratorResult(result) {\n              var message = result.value;\n              var content = {data: message.data};\n              var metadata = message.metadata || {comm_id};\n              var msg = {content, metadata}\n              msg_handler(msg);\n              return messages.next().then(processIteratorResult);\n            }\n            return messages.next().then(processIteratorResult);\n          }\n        }) \n        var sendClosure = (data, metadata, buffers, disposeOnDone) => {\n          return comm_promise.then((comm) => {\n            comm.send(data, metadata, buffers, disposeOnDone);\n          });\n        };\n        var comm = {\n          send: sendClosure\n        };\n      }\n      window.PyViz.comms[comm_id] = comm;\n      return comm;\n    }\n    window.PyViz.comm_manager = new JupyterCommManager();\n    \n\n\nvar JS_MIME_TYPE = 'application/javascript';\nvar HTML_MIME_TYPE = 'text/html';\nvar EXEC_MIME_TYPE = 'application/vnd.holoviews_exec.v0+json';\nvar CLASS_NAME = 'output';\n\n/**\n * Render data to the DOM node\n */\nfunction render(props, node) {\n  var div = document.createElement(\"div\");\n  var script = document.createElement(\"script\");\n  node.appendChild(div);\n  node.appendChild(script);\n}\n\n/**\n * Handle when a new output is added\n */\nfunction handle_add_output(event, handle) {\n  var output_area = handle.output_area;\n  var output = handle.output;\n  if ((output.data == undefined) || (!output.data.hasOwnProperty(EXEC_MIME_TYPE))) {\n    return\n  }\n  var id = output.metadata[EXEC_MIME_TYPE][\"id\"];\n  var toinsert = output_area.element.find(\".\" + CLASS_NAME.split(' ')[0]);\n  if (id !== undefined) {\n    var nchildren = toinsert.length;\n    var html_node = toinsert[nchildren-1].children[0];\n    html_node.innerHTML = output.data[HTML_MIME_TYPE];\n    var scripts = [];\n    var nodelist = html_node.querySelectorAll(\"script\");\n    for (var i in nodelist) {\n      if (nodelist.hasOwnProperty(i)) {\n        scripts.push(nodelist[i])\n      }\n    }\n\n    scripts.forEach( function (oldScript) {\n      var newScript = document.createElement(\"script\");\n      var attrs = [];\n      var nodemap = oldScript.attributes;\n      for (var j in nodemap) {\n        if (nodemap.hasOwnProperty(j)) {\n          attrs.push(nodemap[j])\n        }\n      }\n      attrs.forEach(function(attr) { newScript.setAttribute(attr.name, attr.value) });\n      newScript.appendChild(document.createTextNode(oldScript.innerHTML));\n      oldScript.parentNode.replaceChild(newScript, oldScript);\n    });\n    if (JS_MIME_TYPE in output.data) {\n      toinsert[nchildren-1].children[1].textContent = output.data[JS_MIME_TYPE];\n    }\n    output_area._hv_plot_id = id;\n    if ((window.Bokeh !== undefined) && (id in Bokeh.index)) {\n      window.PyViz.plot_index[id] = Bokeh.index[id];\n    } else {\n      window.PyViz.plot_index[id] = null;\n    }\n  } else if (output.metadata[EXEC_MIME_TYPE][\"server_id\"] !== undefined) {\n    var bk_div = document.createElement(\"div\");\n    bk_div.innerHTML = output.data[HTML_MIME_TYPE];\n    var script_attrs = bk_div.children[0].attributes;\n    for (var i = 0; i < script_attrs.length; i++) {\n      toinsert[toinsert.length - 1].childNodes[1].setAttribute(script_attrs[i].name, script_attrs[i].value);\n    }\n    // store reference to server id on output_area\n    output_area._bokeh_server_id = output.metadata[EXEC_MIME_TYPE][\"server_id\"];\n  }\n}\n\n/**\n * Handle when an output is cleared or removed\n */\nfunction handle_clear_output(event, handle) {\n  var id = handle.cell.output_area._hv_plot_id;\n  var server_id = handle.cell.output_area._bokeh_server_id;\n  if (((id === undefined) || !(id in PyViz.plot_index)) && (server_id !== undefined)) { return; }\n  var comm = window.PyViz.comm_manager.get_client_comm(\"hv-extension-comm\", \"hv-extension-comm\", function () {});\n  if (server_id !== null) {\n    comm.send({event_type: 'server_delete', 'id': server_id});\n    return;\n  } else if (comm !== null) {\n    comm.send({event_type: 'delete', 'id': id});\n  }\n  delete PyViz.plot_index[id];\n  if ((window.Bokeh !== undefined) & (id in window.Bokeh.index)) {\n    var doc = window.Bokeh.index[id].model.document\n    doc.clear();\n    const i = window.Bokeh.documents.indexOf(doc);\n    if (i > -1) {\n      window.Bokeh.documents.splice(i, 1);\n    }\n  }\n}\n\n/**\n * Handle kernel restart event\n */\nfunction handle_kernel_cleanup(event, handle) {\n  delete PyViz.comms[\"hv-extension-comm\"];\n  window.PyViz.plot_index = {}\n}\n\n/**\n * Handle update_display_data messages\n */\nfunction handle_update_output(event, handle) {\n  handle_clear_output(event, {cell: {output_area: handle.output_area}})\n  handle_add_output(event, handle)\n}\n\nfunction register_renderer(events, OutputArea) {\n  function append_mime(data, metadata, element) {\n    // create a DOM node to render to\n    var toinsert = this.create_output_subarea(\n    metadata,\n    CLASS_NAME,\n    EXEC_MIME_TYPE\n    );\n    this.keyboard_manager.register_events(toinsert);\n    // Render to node\n    var props = {data: data, metadata: metadata[EXEC_MIME_TYPE]};\n    render(props, toinsert[0]);\n    element.append(toinsert);\n    return toinsert\n  }\n\n  events.on('output_added.OutputArea', handle_add_output);\n  events.on('output_updated.OutputArea', handle_update_output);\n  events.on('clear_output.CodeCell', handle_clear_output);\n  events.on('delete.Cell', handle_clear_output);\n  events.on('kernel_ready.Kernel', handle_kernel_cleanup);\n\n  OutputArea.prototype.register_mime_type(EXEC_MIME_TYPE, append_mime, {\n    safe: true,\n    index: 0\n  });\n}\n\nif (window.Jupyter !== undefined) {\n  try {\n    var events = require('base/js/events');\n    var OutputArea = require('notebook/js/outputarea').OutputArea;\n    if (OutputArea.prototype.mime_types().indexOf(EXEC_MIME_TYPE) == -1) {\n      register_renderer(events, OutputArea);\n    }\n  } catch(err) {\n  }\n}\n"
     },
     "metadata": {},
     "output_type": "display_data"
    },
    {
     "data": {
      "text/html": [
       "<style>*[data-root-id],\n",
       "*[data-root-id] > * {\n",
       "  box-sizing: border-box;\n",
       "  font-family: var(--jp-ui-font-family);\n",
       "  font-size: var(--jp-ui-font-size1);\n",
       "  color: var(--vscode-editor-foreground, var(--jp-ui-font-color1));\n",
       "}\n",
       "\n",
       "/* Override VSCode background color */\n",
       ".cell-output-ipywidget-background:has(\n",
       "    > .cell-output-ipywidget-background > .lm-Widget > *[data-root-id]\n",
       "  ),\n",
       ".cell-output-ipywidget-background:has(> .lm-Widget > *[data-root-id]) {\n",
       "  background-color: transparent !important;\n",
       "}\n",
       "</style>"
      ]
     },
     "metadata": {},
     "output_type": "display_data"
    },
    {
     "data": {
      "application/vnd.holoviews_exec.v0+json": "",
      "text/html": [
       "<div id='p1002'>\n",
       "  <div id=\"d466977f-21d7-4453-b346-9383c5eeda9d\" data-root-id=\"p1002\" style=\"display: contents;\"></div>\n",
       "</div>\n",
       "<script type=\"application/javascript\">(function(root) {\n",
       "  var docs_json = {\"c4066abc-3719-4818-933d-6328eb1cf2d0\":{\"version\":\"3.4.1\",\"title\":\"Bokeh Application\",\"roots\":[{\"type\":\"object\",\"name\":\"panel.models.browser.BrowserInfo\",\"id\":\"p1002\"},{\"type\":\"object\",\"name\":\"panel.models.comm_manager.CommManager\",\"id\":\"p1003\",\"attributes\":{\"plot_id\":\"p1002\",\"comm_id\":\"f5f0aa0f067b4d84ad8ec9a2314039d4\",\"client_comm_id\":\"c3cc996f8ee840e2b15e51d825bfe134\"}}],\"defs\":[{\"type\":\"model\",\"name\":\"ReactiveHTML1\"},{\"type\":\"model\",\"name\":\"FlexBox1\",\"properties\":[{\"name\":\"align_content\",\"kind\":\"Any\",\"default\":\"flex-start\"},{\"name\":\"align_items\",\"kind\":\"Any\",\"default\":\"flex-start\"},{\"name\":\"flex_direction\",\"kind\":\"Any\",\"default\":\"row\"},{\"name\":\"flex_wrap\",\"kind\":\"Any\",\"default\":\"wrap\"},{\"name\":\"gap\",\"kind\":\"Any\",\"default\":\"\"},{\"name\":\"justify_content\",\"kind\":\"Any\",\"default\":\"flex-start\"}]},{\"type\":\"model\",\"name\":\"FloatPanel1\",\"properties\":[{\"name\":\"config\",\"kind\":\"Any\",\"default\":{\"type\":\"map\"}},{\"name\":\"contained\",\"kind\":\"Any\",\"default\":true},{\"name\":\"position\",\"kind\":\"Any\",\"default\":\"right-top\"},{\"name\":\"offsetx\",\"kind\":\"Any\",\"default\":null},{\"name\":\"offsety\",\"kind\":\"Any\",\"default\":null},{\"name\":\"theme\",\"kind\":\"Any\",\"default\":\"primary\"},{\"name\":\"status\",\"kind\":\"Any\",\"default\":\"normalized\"}]},{\"type\":\"model\",\"name\":\"GridStack1\",\"properties\":[{\"name\":\"mode\",\"kind\":\"Any\",\"default\":\"warn\"},{\"name\":\"ncols\",\"kind\":\"Any\",\"default\":null},{\"name\":\"nrows\",\"kind\":\"Any\",\"default\":null},{\"name\":\"allow_resize\",\"kind\":\"Any\",\"default\":true},{\"name\":\"allow_drag\",\"kind\":\"Any\",\"default\":true},{\"name\":\"state\",\"kind\":\"Any\",\"default\":[]}]},{\"type\":\"model\",\"name\":\"drag1\",\"properties\":[{\"name\":\"slider_width\",\"kind\":\"Any\",\"default\":5},{\"name\":\"slider_color\",\"kind\":\"Any\",\"default\":\"black\"},{\"name\":\"value\",\"kind\":\"Any\",\"default\":50}]},{\"type\":\"model\",\"name\":\"click1\",\"properties\":[{\"name\":\"terminal_output\",\"kind\":\"Any\",\"default\":\"\"},{\"name\":\"debug_name\",\"kind\":\"Any\",\"default\":\"\"},{\"name\":\"clears\",\"kind\":\"Any\",\"default\":0}]},{\"type\":\"model\",\"name\":\"FastWrapper1\",\"properties\":[{\"name\":\"object\",\"kind\":\"Any\",\"default\":null},{\"name\":\"style\",\"kind\":\"Any\",\"default\":null}]},{\"type\":\"model\",\"name\":\"NotificationAreaBase1\",\"properties\":[{\"name\":\"js_events\",\"kind\":\"Any\",\"default\":{\"type\":\"map\"}},{\"name\":\"position\",\"kind\":\"Any\",\"default\":\"bottom-right\"},{\"name\":\"_clear\",\"kind\":\"Any\",\"default\":0}]},{\"type\":\"model\",\"name\":\"NotificationArea1\",\"properties\":[{\"name\":\"js_events\",\"kind\":\"Any\",\"default\":{\"type\":\"map\"}},{\"name\":\"notifications\",\"kind\":\"Any\",\"default\":[]},{\"name\":\"position\",\"kind\":\"Any\",\"default\":\"bottom-right\"},{\"name\":\"_clear\",\"kind\":\"Any\",\"default\":0},{\"name\":\"types\",\"kind\":\"Any\",\"default\":[{\"type\":\"map\",\"entries\":[[\"type\",\"warning\"],[\"background\",\"#ffc107\"],[\"icon\",{\"type\":\"map\",\"entries\":[[\"className\",\"fas fa-exclamation-triangle\"],[\"tagName\",\"i\"],[\"color\",\"white\"]]}]]},{\"type\":\"map\",\"entries\":[[\"type\",\"info\"],[\"background\",\"#007bff\"],[\"icon\",{\"type\":\"map\",\"entries\":[[\"className\",\"fas fa-info-circle\"],[\"tagName\",\"i\"],[\"color\",\"white\"]]}]]}]}]},{\"type\":\"model\",\"name\":\"Notification\",\"properties\":[{\"name\":\"background\",\"kind\":\"Any\",\"default\":null},{\"name\":\"duration\",\"kind\":\"Any\",\"default\":3000},{\"name\":\"icon\",\"kind\":\"Any\",\"default\":null},{\"name\":\"message\",\"kind\":\"Any\",\"default\":\"\"},{\"name\":\"notification_type\",\"kind\":\"Any\",\"default\":null},{\"name\":\"_destroyed\",\"kind\":\"Any\",\"default\":false}]},{\"type\":\"model\",\"name\":\"TemplateActions1\",\"properties\":[{\"name\":\"open_modal\",\"kind\":\"Any\",\"default\":0},{\"name\":\"close_modal\",\"kind\":\"Any\",\"default\":0}]},{\"type\":\"model\",\"name\":\"BootstrapTemplateActions1\",\"properties\":[{\"name\":\"open_modal\",\"kind\":\"Any\",\"default\":0},{\"name\":\"close_modal\",\"kind\":\"Any\",\"default\":0}]},{\"type\":\"model\",\"name\":\"TemplateEditor1\",\"properties\":[{\"name\":\"layout\",\"kind\":\"Any\",\"default\":[]}]},{\"type\":\"model\",\"name\":\"MaterialTemplateActions1\",\"properties\":[{\"name\":\"open_modal\",\"kind\":\"Any\",\"default\":0},{\"name\":\"close_modal\",\"kind\":\"Any\",\"default\":0}]},{\"type\":\"model\",\"name\":\"copy_to_clipboard1\",\"properties\":[{\"name\":\"fill\",\"kind\":\"Any\",\"default\":\"none\"},{\"name\":\"value\",\"kind\":\"Any\",\"default\":null}]}]}};\n",
       "  var render_items = [{\"docid\":\"c4066abc-3719-4818-933d-6328eb1cf2d0\",\"roots\":{\"p1002\":\"d466977f-21d7-4453-b346-9383c5eeda9d\"},\"root_ids\":[\"p1002\"]}];\n",
       "  var docs = Object.values(docs_json)\n",
       "  if (!docs) {\n",
       "    return\n",
       "  }\n",
       "  const py_version = docs[0].version.replace('rc', '-rc.').replace('.dev', '-dev.')\n",
       "  function embed_document(root) {\n",
       "    var Bokeh = get_bokeh(root)\n",
       "    Bokeh.embed.embed_items_notebook(docs_json, render_items);\n",
       "    for (const render_item of render_items) {\n",
       "      for (const root_id of render_item.root_ids) {\n",
       "\tconst id_el = document.getElementById(root_id)\n",
       "\tif (id_el.children.length && (id_el.children[0].className === 'bk-root')) {\n",
       "\t  const root_el = id_el.children[0]\n",
       "\t  root_el.id = root_el.id + '-rendered'\n",
       "\t}\n",
       "      }\n",
       "    }\n",
       "  }\n",
       "  function get_bokeh(root) {\n",
       "    if (root.Bokeh === undefined) {\n",
       "      return null\n",
       "    } else if (root.Bokeh.version !== py_version) {\n",
       "      if (root.Bokeh.versions === undefined || !root.Bokeh.versions.has(py_version)) {\n",
       "\treturn null\n",
       "      }\n",
       "      return root.Bokeh.versions.get(py_version);\n",
       "    } else if (root.Bokeh.version === py_version) {\n",
       "      return root.Bokeh\n",
       "    }\n",
       "    return null\n",
       "  }\n",
       "  function is_loaded(root) {\n",
       "    var Bokeh = get_bokeh(root)\n",
       "    return (Bokeh != null && Bokeh.Panel !== undefined)\n",
       "  }\n",
       "  if (is_loaded(root)) {\n",
       "    embed_document(root);\n",
       "  } else {\n",
       "    var attempts = 0;\n",
       "    var timer = setInterval(function(root) {\n",
       "      if (is_loaded(root)) {\n",
       "        clearInterval(timer);\n",
       "        embed_document(root);\n",
       "      } else if (document.readyState == \"complete\") {\n",
       "        attempts++;\n",
       "        if (attempts > 200) {\n",
       "          clearInterval(timer);\n",
       "\t  var Bokeh = get_bokeh(root)\n",
       "\t  if (Bokeh == null || Bokeh.Panel == null) {\n",
       "            console.warn(\"Panel: ERROR: Unable to run Panel code because Bokeh or Panel library is missing\");\n",
       "\t  } else {\n",
       "\t    console.warn(\"Panel: WARNING: Attempting to render but not all required libraries could be resolved.\")\n",
       "\t    embed_document(root)\n",
       "\t  }\n",
       "        }\n",
       "      }\n",
       "    }, 25, root)\n",
       "  }\n",
       "})(window);</script>"
      ]
     },
     "metadata": {
      "application/vnd.holoviews_exec.v0+json": {
       "id": "p1002"
      }
     },
     "output_type": "display_data"
    },
    {
     "data": {
      "text/html": [
       "<div>\n",
       "<style scoped>\n",
       "    .dataframe tbody tr th:only-of-type {\n",
       "        vertical-align: middle;\n",
       "    }\n",
       "\n",
       "    .dataframe tbody tr th {\n",
       "        vertical-align: top;\n",
       "    }\n",
       "\n",
       "    .dataframe thead th {\n",
       "        text-align: right;\n",
       "    }\n",
       "</style>\n",
       "<table border=\"1\" class=\"dataframe\">\n",
       "  <thead>\n",
       "    <tr style=\"text-align: right;\">\n",
       "      <th></th>\n",
       "      <th>incident_id</th>\n",
       "      <th>data_year</th>\n",
       "      <th>ori</th>\n",
       "      <th>pug_agency_name</th>\n",
       "      <th>pub_agency_unit</th>\n",
       "      <th>agency_type_name</th>\n",
       "      <th>state_abbr</th>\n",
       "      <th>state_name</th>\n",
       "      <th>division_name</th>\n",
       "      <th>region_name</th>\n",
       "      <th>...</th>\n",
       "      <th>offender_race</th>\n",
       "      <th>offender_ethnicity</th>\n",
       "      <th>victim_count</th>\n",
       "      <th>offense_name</th>\n",
       "      <th>total_individual_victims</th>\n",
       "      <th>location_name</th>\n",
       "      <th>bias_desc</th>\n",
       "      <th>victim_types</th>\n",
       "      <th>multiple_offense</th>\n",
       "      <th>multiple_bias</th>\n",
       "    </tr>\n",
       "  </thead>\n",
       "  <tbody>\n",
       "    <tr>\n",
       "      <th>0</th>\n",
       "      <td>43</td>\n",
       "      <td>1991</td>\n",
       "      <td>AR0350100</td>\n",
       "      <td>Pine Bluff</td>\n",
       "      <td>NaN</td>\n",
       "      <td>City</td>\n",
       "      <td>AR</td>\n",
       "      <td>Arkansas</td>\n",
       "      <td>West South Central</td>\n",
       "      <td>South</td>\n",
       "      <td>...</td>\n",
       "      <td>Black or African American</td>\n",
       "      <td>Not Specified</td>\n",
       "      <td>1</td>\n",
       "      <td>Aggravated Assault</td>\n",
       "      <td>1.0</td>\n",
       "      <td>Residence/Home</td>\n",
       "      <td>Anti-Black or African American</td>\n",
       "      <td>Individual</td>\n",
       "      <td>S</td>\n",
       "      <td>S</td>\n",
       "    </tr>\n",
       "    <tr>\n",
       "      <th>1</th>\n",
       "      <td>44</td>\n",
       "      <td>1991</td>\n",
       "      <td>AR0350100</td>\n",
       "      <td>Pine Bluff</td>\n",
       "      <td>NaN</td>\n",
       "      <td>City</td>\n",
       "      <td>AR</td>\n",
       "      <td>Arkansas</td>\n",
       "      <td>West South Central</td>\n",
       "      <td>South</td>\n",
       "      <td>...</td>\n",
       "      <td>Black or African American</td>\n",
       "      <td>Not Specified</td>\n",
       "      <td>2</td>\n",
       "      <td>Aggravated Assault;Destruction/Damage/Vandalis...</td>\n",
       "      <td>1.0</td>\n",
       "      <td>Highway/Road/Alley/Street/Sidewalk</td>\n",
       "      <td>Anti-White</td>\n",
       "      <td>Individual</td>\n",
       "      <td>M</td>\n",
       "      <td>S</td>\n",
       "    </tr>\n",
       "    <tr>\n",
       "      <th>2</th>\n",
       "      <td>45</td>\n",
       "      <td>1991</td>\n",
       "      <td>AR0600300</td>\n",
       "      <td>North Little Rock</td>\n",
       "      <td>NaN</td>\n",
       "      <td>City</td>\n",
       "      <td>AR</td>\n",
       "      <td>Arkansas</td>\n",
       "      <td>West South Central</td>\n",
       "      <td>South</td>\n",
       "      <td>...</td>\n",
       "      <td>Black or African American</td>\n",
       "      <td>Not Specified</td>\n",
       "      <td>2</td>\n",
       "      <td>Aggravated Assault;Murder and Nonnegligent Man...</td>\n",
       "      <td>2.0</td>\n",
       "      <td>Residence/Home</td>\n",
       "      <td>Anti-White</td>\n",
       "      <td>Individual</td>\n",
       "      <td>M</td>\n",
       "      <td>S</td>\n",
       "    </tr>\n",
       "    <tr>\n",
       "      <th>3</th>\n",
       "      <td>46</td>\n",
       "      <td>1991</td>\n",
       "      <td>AR0600300</td>\n",
       "      <td>North Little Rock</td>\n",
       "      <td>NaN</td>\n",
       "      <td>City</td>\n",
       "      <td>AR</td>\n",
       "      <td>Arkansas</td>\n",
       "      <td>West South Central</td>\n",
       "      <td>South</td>\n",
       "      <td>...</td>\n",
       "      <td>Black or African American</td>\n",
       "      <td>Not Specified</td>\n",
       "      <td>1</td>\n",
       "      <td>Intimidation</td>\n",
       "      <td>1.0</td>\n",
       "      <td>Residence/Home</td>\n",
       "      <td>Anti-White</td>\n",
       "      <td>Individual</td>\n",
       "      <td>S</td>\n",
       "      <td>S</td>\n",
       "    </tr>\n",
       "    <tr>\n",
       "      <th>4</th>\n",
       "      <td>47</td>\n",
       "      <td>1991</td>\n",
       "      <td>AR0670000</td>\n",
       "      <td>Sevier</td>\n",
       "      <td>NaN</td>\n",
       "      <td>County</td>\n",
       "      <td>AR</td>\n",
       "      <td>Arkansas</td>\n",
       "      <td>West South Central</td>\n",
       "      <td>South</td>\n",
       "      <td>...</td>\n",
       "      <td>White</td>\n",
       "      <td>Not Specified</td>\n",
       "      <td>1</td>\n",
       "      <td>Intimidation</td>\n",
       "      <td>1.0</td>\n",
       "      <td>School/College</td>\n",
       "      <td>Anti-Black or African American</td>\n",
       "      <td>Individual</td>\n",
       "      <td>S</td>\n",
       "      <td>S</td>\n",
       "    </tr>\n",
       "  </tbody>\n",
       "</table>\n",
       "<p>5 rows × 28 columns</p>\n",
       "</div>"
      ],
      "text/plain": [
       "   incident_id  data_year        ori    pug_agency_name pub_agency_unit  \\\n",
       "0           43       1991  AR0350100         Pine Bluff             NaN   \n",
       "1           44       1991  AR0350100         Pine Bluff             NaN   \n",
       "2           45       1991  AR0600300  North Little Rock             NaN   \n",
       "3           46       1991  AR0600300  North Little Rock             NaN   \n",
       "4           47       1991  AR0670000             Sevier             NaN   \n",
       "\n",
       "  agency_type_name state_abbr state_name       division_name region_name  ...  \\\n",
       "0             City         AR   Arkansas  West South Central       South  ...   \n",
       "1             City         AR   Arkansas  West South Central       South  ...   \n",
       "2             City         AR   Arkansas  West South Central       South  ...   \n",
       "3             City         AR   Arkansas  West South Central       South  ...   \n",
       "4           County         AR   Arkansas  West South Central       South  ...   \n",
       "\n",
       "               offender_race offender_ethnicity victim_count  \\\n",
       "0  Black or African American      Not Specified            1   \n",
       "1  Black or African American      Not Specified            2   \n",
       "2  Black or African American      Not Specified            2   \n",
       "3  Black or African American      Not Specified            1   \n",
       "4                      White      Not Specified            1   \n",
       "\n",
       "                                        offense_name  \\\n",
       "0                                 Aggravated Assault   \n",
       "1  Aggravated Assault;Destruction/Damage/Vandalis...   \n",
       "2  Aggravated Assault;Murder and Nonnegligent Man...   \n",
       "3                                       Intimidation   \n",
       "4                                       Intimidation   \n",
       "\n",
       "   total_individual_victims                       location_name  \\\n",
       "0                       1.0                      Residence/Home   \n",
       "1                       1.0  Highway/Road/Alley/Street/Sidewalk   \n",
       "2                       2.0                      Residence/Home   \n",
       "3                       1.0                      Residence/Home   \n",
       "4                       1.0                      School/College   \n",
       "\n",
       "                        bias_desc  victim_types multiple_offense multiple_bias  \n",
       "0  Anti-Black or African American    Individual                S             S  \n",
       "1                      Anti-White    Individual                M             S  \n",
       "2                      Anti-White    Individual                M             S  \n",
       "3                      Anti-White    Individual                S             S  \n",
       "4  Anti-Black or African American    Individual                S             S  \n",
       "\n",
       "[5 rows x 28 columns]"
      ]
     },
     "execution_count": 1,
     "metadata": {},
     "output_type": "execute_result"
    }
   ],
   "source": [
    "#Dependencies and Setup\n",
    "import pandas as pd\n",
    "import scipy.stats as st\n",
    "import matplotlib.pyplot as plt\n",
    "import numpy as np\n",
    "import hvplot.pandas\n",
    "\n",
    "#file to load\n",
    "hateCrimePath = \"hate_crime/hate_crime.csv\"\n",
    "\n",
    "#read the hate crime data csv\n",
    "hateCrimeData = pd.read_csv(hateCrimePath)\n",
    "\n",
    "hateCrimeData.head()"
   ]
  },
  {
   "cell_type": "code",
   "execution_count": 2,
   "id": "12044bd4",
   "metadata": {},
   "outputs": [
    {
     "data": {
      "text/html": [
       "<div>\n",
       "<style scoped>\n",
       "    .dataframe tbody tr th:only-of-type {\n",
       "        vertical-align: middle;\n",
       "    }\n",
       "\n",
       "    .dataframe tbody tr th {\n",
       "        vertical-align: top;\n",
       "    }\n",
       "\n",
       "    .dataframe thead th {\n",
       "        text-align: right;\n",
       "    }\n",
       "</style>\n",
       "<table border=\"1\" class=\"dataframe\">\n",
       "  <thead>\n",
       "    <tr style=\"text-align: right;\">\n",
       "      <th></th>\n",
       "      <th>incident_id</th>\n",
       "      <th>data_year</th>\n",
       "      <th>ori</th>\n",
       "      <th>pug_agency_name</th>\n",
       "      <th>pub_agency_unit</th>\n",
       "      <th>agency_type_name</th>\n",
       "      <th>state_abbr</th>\n",
       "      <th>state_name</th>\n",
       "      <th>division_name</th>\n",
       "      <th>region_name</th>\n",
       "      <th>...</th>\n",
       "      <th>offender_race</th>\n",
       "      <th>offender_ethnicity</th>\n",
       "      <th>victim_count</th>\n",
       "      <th>offense_name</th>\n",
       "      <th>total_individual_victims</th>\n",
       "      <th>location_name</th>\n",
       "      <th>bias_desc</th>\n",
       "      <th>victim_types</th>\n",
       "      <th>multiple_offense</th>\n",
       "      <th>multiple_bias</th>\n",
       "    </tr>\n",
       "  </thead>\n",
       "  <tbody>\n",
       "  </tbody>\n",
       "</table>\n",
       "<p>0 rows × 28 columns</p>\n",
       "</div>"
      ],
      "text/plain": [
       "Empty DataFrame\n",
       "Columns: [incident_id, data_year, ori, pug_agency_name, pub_agency_unit, agency_type_name, state_abbr, state_name, division_name, region_name, population_group_code, population_group_description, incident_date, adult_victim_count, juvenile_victim_count, total_offender_count, adult_offender_count, juvenile_offender_count, offender_race, offender_ethnicity, victim_count, offense_name, total_individual_victims, location_name, bias_desc, victim_types, multiple_offense, multiple_bias]\n",
       "Index: []\n",
       "\n",
       "[0 rows x 28 columns]"
      ]
     },
     "execution_count": 2,
     "metadata": {},
     "output_type": "execute_result"
    }
   ],
   "source": [
    "#check to see if there are any duplicate values \n",
    "DataFrameduplicate_rows = hateCrimeData[hateCrimeData.duplicated()]\n",
    "DataFrameduplicate_rows"
   ]
  },
  {
   "cell_type": "code",
   "execution_count": 2,
   "id": "e120533d",
   "metadata": {},
   "outputs": [
    {
     "data": {
      "text/plain": [
       "241663"
      ]
     },
     "execution_count": 2,
     "metadata": {},
     "output_type": "execute_result"
    }
   ],
   "source": [
    "#count of number of incidents\n",
    "hateCrimeDataCount = hateCrimeData[\"incident_id\"].nunique()\n",
    "hateCrimeDataCount"
   ]
  },
  {
   "cell_type": "code",
   "execution_count": 3,
   "id": "f7aba17b",
   "metadata": {},
   "outputs": [
    {
     "data": {
      "text/html": [
       "<div>\n",
       "<style scoped>\n",
       "    .dataframe tbody tr th:only-of-type {\n",
       "        vertical-align: middle;\n",
       "    }\n",
       "\n",
       "    .dataframe tbody tr th {\n",
       "        vertical-align: top;\n",
       "    }\n",
       "\n",
       "    .dataframe thead th {\n",
       "        text-align: right;\n",
       "    }\n",
       "</style>\n",
       "<table border=\"1\" class=\"dataframe\">\n",
       "  <thead>\n",
       "    <tr style=\"text-align: right;\">\n",
       "      <th></th>\n",
       "      <th>state_name</th>\n",
       "      <th>region_name</th>\n",
       "      <th>offender_race</th>\n",
       "      <th>offense_name</th>\n",
       "      <th>bias_desc</th>\n",
       "      <th>victim_types</th>\n",
       "      <th>victim_count</th>\n",
       "    </tr>\n",
       "  </thead>\n",
       "  <tbody>\n",
       "    <tr>\n",
       "      <th>0</th>\n",
       "      <td>Arkansas</td>\n",
       "      <td>South</td>\n",
       "      <td>Black or African American</td>\n",
       "      <td>Aggravated Assault</td>\n",
       "      <td>Anti-Black or African American</td>\n",
       "      <td>Individual</td>\n",
       "      <td>1</td>\n",
       "    </tr>\n",
       "    <tr>\n",
       "      <th>1</th>\n",
       "      <td>Arkansas</td>\n",
       "      <td>South</td>\n",
       "      <td>Black or African American</td>\n",
       "      <td>Aggravated Assault;Destruction/Damage/Vandalis...</td>\n",
       "      <td>Anti-White</td>\n",
       "      <td>Individual</td>\n",
       "      <td>2</td>\n",
       "    </tr>\n",
       "    <tr>\n",
       "      <th>2</th>\n",
       "      <td>Arkansas</td>\n",
       "      <td>South</td>\n",
       "      <td>Black or African American</td>\n",
       "      <td>Aggravated Assault;Murder and Nonnegligent Man...</td>\n",
       "      <td>Anti-White</td>\n",
       "      <td>Individual</td>\n",
       "      <td>2</td>\n",
       "    </tr>\n",
       "    <tr>\n",
       "      <th>3</th>\n",
       "      <td>Arkansas</td>\n",
       "      <td>South</td>\n",
       "      <td>Black or African American</td>\n",
       "      <td>Intimidation</td>\n",
       "      <td>Anti-White</td>\n",
       "      <td>Individual</td>\n",
       "      <td>1</td>\n",
       "    </tr>\n",
       "    <tr>\n",
       "      <th>4</th>\n",
       "      <td>Arkansas</td>\n",
       "      <td>South</td>\n",
       "      <td>White</td>\n",
       "      <td>Intimidation</td>\n",
       "      <td>Anti-Black or African American</td>\n",
       "      <td>Individual</td>\n",
       "      <td>1</td>\n",
       "    </tr>\n",
       "    <tr>\n",
       "      <th>...</th>\n",
       "      <td>...</td>\n",
       "      <td>...</td>\n",
       "      <td>...</td>\n",
       "      <td>...</td>\n",
       "      <td>...</td>\n",
       "      <td>...</td>\n",
       "      <td>...</td>\n",
       "    </tr>\n",
       "    <tr>\n",
       "      <th>241658</th>\n",
       "      <td>Wyoming</td>\n",
       "      <td>West</td>\n",
       "      <td>White</td>\n",
       "      <td>Simple Assault</td>\n",
       "      <td>Anti-White</td>\n",
       "      <td>Individual</td>\n",
       "      <td>2</td>\n",
       "    </tr>\n",
       "    <tr>\n",
       "      <th>241659</th>\n",
       "      <td>Wyoming</td>\n",
       "      <td>West</td>\n",
       "      <td>White</td>\n",
       "      <td>Intimidation</td>\n",
       "      <td>Anti-Gay (Male)</td>\n",
       "      <td>Individual</td>\n",
       "      <td>1</td>\n",
       "    </tr>\n",
       "    <tr>\n",
       "      <th>241660</th>\n",
       "      <td>Wyoming</td>\n",
       "      <td>West</td>\n",
       "      <td>White</td>\n",
       "      <td>Simple Assault</td>\n",
       "      <td>Anti-Hispanic or Latino</td>\n",
       "      <td>Individual</td>\n",
       "      <td>2</td>\n",
       "    </tr>\n",
       "    <tr>\n",
       "      <th>241661</th>\n",
       "      <td>Wyoming</td>\n",
       "      <td>West</td>\n",
       "      <td>White</td>\n",
       "      <td>Intimidation</td>\n",
       "      <td>Anti-Black or African American</td>\n",
       "      <td>Individual</td>\n",
       "      <td>1</td>\n",
       "    </tr>\n",
       "    <tr>\n",
       "      <th>241662</th>\n",
       "      <td>Wyoming</td>\n",
       "      <td>West</td>\n",
       "      <td>White</td>\n",
       "      <td>Simple Assault</td>\n",
       "      <td>Anti-Lesbian, Gay, Bisexual, or Transgender (M...</td>\n",
       "      <td>Individual</td>\n",
       "      <td>1</td>\n",
       "    </tr>\n",
       "  </tbody>\n",
       "</table>\n",
       "<p>241663 rows × 7 columns</p>\n",
       "</div>"
      ],
      "text/plain": [
       "       state_name region_name              offender_race  \\\n",
       "0        Arkansas       South  Black or African American   \n",
       "1        Arkansas       South  Black or African American   \n",
       "2        Arkansas       South  Black or African American   \n",
       "3        Arkansas       South  Black or African American   \n",
       "4        Arkansas       South                      White   \n",
       "...           ...         ...                        ...   \n",
       "241658    Wyoming        West                      White   \n",
       "241659    Wyoming        West                      White   \n",
       "241660    Wyoming        West                      White   \n",
       "241661    Wyoming        West                      White   \n",
       "241662    Wyoming        West                      White   \n",
       "\n",
       "                                             offense_name  \\\n",
       "0                                      Aggravated Assault   \n",
       "1       Aggravated Assault;Destruction/Damage/Vandalis...   \n",
       "2       Aggravated Assault;Murder and Nonnegligent Man...   \n",
       "3                                            Intimidation   \n",
       "4                                            Intimidation   \n",
       "...                                                   ...   \n",
       "241658                                     Simple Assault   \n",
       "241659                                       Intimidation   \n",
       "241660                                     Simple Assault   \n",
       "241661                                       Intimidation   \n",
       "241662                                     Simple Assault   \n",
       "\n",
       "                                                bias_desc victim_types  \\\n",
       "0                          Anti-Black or African American   Individual   \n",
       "1                                              Anti-White   Individual   \n",
       "2                                              Anti-White   Individual   \n",
       "3                                              Anti-White   Individual   \n",
       "4                          Anti-Black or African American   Individual   \n",
       "...                                                   ...          ...   \n",
       "241658                                         Anti-White   Individual   \n",
       "241659                                    Anti-Gay (Male)   Individual   \n",
       "241660                            Anti-Hispanic or Latino   Individual   \n",
       "241661                     Anti-Black or African American   Individual   \n",
       "241662  Anti-Lesbian, Gay, Bisexual, or Transgender (M...   Individual   \n",
       "\n",
       "        victim_count  \n",
       "0                  1  \n",
       "1                  2  \n",
       "2                  2  \n",
       "3                  1  \n",
       "4                  1  \n",
       "...              ...  \n",
       "241658             2  \n",
       "241659             1  \n",
       "241660             2  \n",
       "241661             1  \n",
       "241662             1  \n",
       "\n",
       "[241663 rows x 7 columns]"
      ]
     },
     "execution_count": 3,
     "metadata": {},
     "output_type": "execute_result"
    }
   ],
   "source": [
    "#create a new dataframe with state name, region name, offender race, offense name, bias description, victim type, and victim count\n",
    "newHateCrimeDF = hateCrimeData [[\"state_name\",\"region_name\",\"offender_race\", \"offense_name\", \"bias_desc\",\"victim_types\",\"victim_count\"]]\n",
    "newHateCrimeDF"
   ]
  },
  {
   "cell_type": "code",
   "execution_count": 4,
   "id": "2884567a",
   "metadata": {},
   "outputs": [
    {
     "data": {
      "text/plain": [
       "offender_race\n",
       "Unknown                                      96520\n",
       "White                                        95169\n",
       "Black or African American                    32022\n",
       "Not Specified                                 9546\n",
       "Multiple                                      5040\n",
       "Asian                                         1843\n",
       "American Indian or Alaska Native              1393\n",
       "Native Hawaiian or Other Pacific Islander      130\n",
       "Name: count, dtype: int64"
      ]
     },
     "execution_count": 4,
     "metadata": {},
     "output_type": "execute_result"
    }
   ],
   "source": [
    "#count the total number of offenders by race\n",
    "offenderCount = newHateCrimeDF[\"offender_race\"].value_counts()\n",
    "offenderCount"
   ]
  },
  {
   "cell_type": "code",
   "execution_count": 5,
   "id": "f06f766d",
   "metadata": {},
   "outputs": [
    {
     "data": {
      "text/plain": [
       "300026"
      ]
     },
     "execution_count": 5,
     "metadata": {},
     "output_type": "execute_result"
    }
   ],
   "source": [
    "#count the total number of victims\n",
    "victimCount = newHateCrimeDF[\"victim_count\"].sum()\n",
    "victimCount"
   ]
  },
  {
   "cell_type": "code",
   "execution_count": 6,
   "id": "1e1cc6d9",
   "metadata": {},
   "outputs": [
    {
     "data": {
      "text/plain": [
       "region_name\n",
       "Midwest             60820\n",
       "Northeast           78078\n",
       "Other                1619\n",
       "South               63111\n",
       "U.S. Territories       37\n",
       "West                96361\n",
       "Name: victim_count, dtype: int64"
      ]
     },
     "execution_count": 6,
     "metadata": {},
     "output_type": "execute_result"
    }
   ],
   "source": [
    "#count the total number of victims by region\n",
    "regionCrime = newHateCrimeDF.groupby(\"region_name\")[\"victim_count\"].sum()\n",
    "regionCrime"
   ]
  },
  {
   "cell_type": "code",
   "execution_count": 6,
   "id": "217d7c98",
   "metadata": {},
   "outputs": [
    {
     "data": {
      "image/png": "[encoded data removed]",
      "text/plain": [
       "<Figure size 640x480 with 1 Axes>"
      ]
     },
     "metadata": {},
     "output_type": "display_data"
    }
   ],
   "source": [
    "#put summarized data from the above sum count into a hbar graph\n",
    "regionVictimCount = pd.DataFrame({\n",
    "    'x': [\"West\", \"Northeast\", \"South\", \"Midwest\", \"Other\",\"U.S. Territories\"],\n",
    "    'y': [96361, 78078, 63111, 60820, 1619, 37],\n",
    "})\n",
    "\n",
    "color = ['magenta', 'orange', 'yellow', 'green', 'blue','purple']\n",
    "ax = regionVictimCount.plot.barh(x='x', y='y', color=color)\n",
    "ax.bar_label(ax.containers[0])\n",
    "ax.set_xlim([0,107000])\n",
    "plt.ylabel(\"Region Name\")\n",
    "plt.xlabel(\"Hate Crime Victim Count\")\n",
    "plt.title(\"Hate Crime Victim Count by Region (1991-2020)\")\n",
    "plt.legend('', frameon=False)\n",
    "plt.savefig(\"output_data/Fig1.png\")\n",
    "plt.show()"
   ]
  },
  {
   "cell_type": "markdown",
   "id": "df2edef7",
   "metadata": {},
   "source": [
    "# Racially Motivated Hate Crimes in the Midwest\n",
    "count victims by region and race"
   ]
  },
  {
   "cell_type": "code",
   "execution_count": 8,
   "id": "c18fc765",
   "metadata": {},
   "outputs": [
    {
     "data": {
      "text/plain": [
       "18074"
      ]
     },
     "execution_count": 8,
     "metadata": {},
     "output_type": "execute_result"
    }
   ],
   "source": [
    "blackMidwest = newHateCrimeDF[(newHateCrimeDF[\"region_name\"]==\"Midwest\"\n",
    ")&(newHateCrimeDF[\"bias_desc\"] ==\"Anti-Black or African American\")].value_counts()\n",
    "\n",
    "blackMidwestSum = blackMidwest.sum()\n",
    "\n",
    "blackMidwestSum "
   ]
  },
  {
   "cell_type": "code",
   "execution_count": 9,
   "id": "0e2b92e4",
   "metadata": {},
   "outputs": [
    {
     "data": {
      "text/plain": [
       "8305"
      ]
     },
     "execution_count": 9,
     "metadata": {},
     "output_type": "execute_result"
    }
   ],
   "source": [
    "whiteMidwest = newHateCrimeDF[(newHateCrimeDF[\"region_name\"]==\"Midwest\"\n",
    ")&(newHateCrimeDF[\"bias_desc\"] ==\"Anti-White\")].value_counts()\n",
    "\n",
    "whiteMidwestSum = whiteMidwest.sum()\n",
    "\n",
    "whiteMidwestSum "
   ]
  },
  {
   "cell_type": "code",
   "execution_count": 10,
   "id": "055d3bc5",
   "metadata": {},
   "outputs": [
    {
     "data": {
      "text/plain": [
       "2070"
      ]
     },
     "execution_count": 10,
     "metadata": {},
     "output_type": "execute_result"
    }
   ],
   "source": [
    "hispanicMidwest = newHateCrimeDF[(newHateCrimeDF[\"region_name\"]==\"Midwest\"\n",
    ")&(newHateCrimeDF[\"bias_desc\"] ==\"Anti-Hispanic or Latino\")].value_counts()\n",
    "\n",
    "hispanicMidwestSum = hispanicMidwest.sum()\n",
    "\n",
    "hispanicMidwestSum "
   ]
  },
  {
   "cell_type": "code",
   "execution_count": 11,
   "id": "1dffb5a3",
   "metadata": {},
   "outputs": [
    {
     "data": {
      "text/plain": [
       "371"
      ]
     },
     "execution_count": 11,
     "metadata": {},
     "output_type": "execute_result"
    }
   ],
   "source": [
    "arabMidwest = newHateCrimeDF[(newHateCrimeDF[\"region_name\"]==\"Midwest\"\n",
    ")&(newHateCrimeDF[\"bias_desc\"] ==\"Anti-Arab\")].value_counts()\n",
    "\n",
    "arabMidwestSum = arabMidwest.sum()\n",
    "\n",
    "arabMidwestSum "
   ]
  },
  {
   "cell_type": "code",
   "execution_count": 12,
   "id": "63834f16",
   "metadata": {},
   "outputs": [
    {
     "data": {
      "text/plain": [
       "933"
      ]
     },
     "execution_count": 12,
     "metadata": {},
     "output_type": "execute_result"
    }
   ],
   "source": [
    "nativeMidwest = newHateCrimeDF[(newHateCrimeDF[\"region_name\"]==\"Midwest\"\n",
    ")&(newHateCrimeDF[\"bias_desc\"] ==\"Anti-American Indian or Alaska Native\")].value_counts()\n",
    "\n",
    "nativeMidwestSum = nativeMidwest.sum()\n",
    "\n",
    "nativeMidwestSum "
   ]
  },
  {
   "cell_type": "code",
   "execution_count": 13,
   "id": "2df7afc8",
   "metadata": {},
   "outputs": [
    {
     "data": {
      "text/plain": [
       "1156"
      ]
     },
     "execution_count": 13,
     "metadata": {},
     "output_type": "execute_result"
    }
   ],
   "source": [
    "asianMidwest = newHateCrimeDF[(newHateCrimeDF[\"region_name\"]==\"Midwest\"\n",
    ")&(newHateCrimeDF[\"bias_desc\"] ==\"Anti-Asian\")].value_counts()\n",
    "\n",
    "asianMidwestSum = asianMidwest.sum()\n",
    "\n",
    "asianMidwestSum "
   ]
  },
  {
   "cell_type": "code",
   "execution_count": 14,
   "id": "ac80493f",
   "metadata": {},
   "outputs": [
    {
     "data": {
      "text/plain": [
       "44"
      ]
     },
     "execution_count": 14,
     "metadata": {},
     "output_type": "execute_result"
    }
   ],
   "source": [
    "pacificMidwest = newHateCrimeDF[(newHateCrimeDF[\"region_name\"]==\"Midwest\"\n",
    ")&(newHateCrimeDF[\"bias_desc\"] ==\"Anti-Native Hawaiian or Other Pacific Islander\")].value_counts()\n",
    "\n",
    "pacificMidwestSum = pacificMidwest.sum()\n",
    "\n",
    "pacificMidwestSum "
   ]
  },
  {
   "cell_type": "code",
   "execution_count": 15,
   "id": "f49d9516",
   "metadata": {},
   "outputs": [
    {
     "data": {
      "text/plain": [
       "2104"
      ]
     },
     "execution_count": 15,
     "metadata": {},
     "output_type": "execute_result"
    }
   ],
   "source": [
    "otherMidwest = newHateCrimeDF[(newHateCrimeDF[\"region_name\"]==\"Midwest\"\n",
    ")&(newHateCrimeDF[\"bias_desc\"] ==\"Anti-Other Race/Ethnicity/Ancestry\")].value_counts()\n",
    "\n",
    "otherMidwestSum = otherMidwest.sum()\n",
    "\n",
    "otherMidwestSum "
   ]
  },
  {
   "cell_type": "code",
   "execution_count": 16,
   "id": "3652d1b3",
   "metadata": {},
   "outputs": [
    {
     "data": {
      "text/plain": [
       "996"
      ]
     },
     "execution_count": 16,
     "metadata": {},
     "output_type": "execute_result"
    }
   ],
   "source": [
    "multipleMidwest = newHateCrimeDF[(newHateCrimeDF[\"region_name\"]==\"Midwest\"\n",
    ")&(newHateCrimeDF[\"bias_desc\"] ==\"Anti-Multiple Races, Group\")].value_counts()\n",
    "\n",
    "multipleMidwestSum = multipleMidwest.sum()\n",
    "\n",
    "multipleMidwestSum"
   ]
  },
  {
   "cell_type": "code",
   "execution_count": 17,
   "id": "ad0e9341",
   "metadata": {},
   "outputs": [
    {
     "name": "stdout",
     "output_type": "stream",
     "text": [
      "34053\n"
     ]
    }
   ],
   "source": [
    "sumOfMidwest = [whiteMidwestSum, blackMidwestSum, hispanicMidwestSum, asianMidwestSum, \n",
    "arabMidwestSum, pacificMidwestSum, nativeMidwestSum, otherMidwestSum, multipleMidwestSum]\n",
    "totalMidwest = sum(sumOfMidwest)\n",
    "\n",
    "print(totalMidwest)"
   ]
  },
  {
   "cell_type": "code",
   "execution_count": 18,
   "id": "32150942",
   "metadata": {},
   "outputs": [
    {
     "data": {
      "image/png": "[encoded data removed]",
      "text/plain": [
       "<Figure size 640x480 with 1 Axes>"
      ]
     },
     "metadata": {},
     "output_type": "display_data"
    }
   ],
   "source": [
    "midwestPlot = pd.DataFrame({\n",
    "    'x': [\"White\", \"Black\", \"Hispanic\", \"Asian\", \"Arab\",\"Islander\", \"Native\",\"Multiple\", \"Other\"],\n",
    "    'y': [8305, 18074, 2070, 1156, 371, 44, 933, 996, 2104],\n",
    "})\n",
    "\n",
    "color = ['magenta', 'orange', 'gold', 'green', 'blue','purple', 'lightblue', 'red', 'black']\n",
    "ax = midwestPlot.plot.barh(x='x', y='y', color=color)\n",
    "ax.bar_label(ax.containers[0])\n",
    "ax.set_xlim([0,20000])\n",
    "plt.ylabel(\"Race Group\")\n",
    "plt.xlabel(\"Offense Count\")\n",
    "plt.title(\"Racial Hate Crimes in the Midwest Region (1991-2020)\")\n",
    "plt.legend('', frameon=False)\n",
    "plt.savefig(\"output_data/Fig2.png\")\n",
    "plt.show()"
   ]
  },
  {
   "cell_type": "markdown",
   "id": "2853cf1a",
   "metadata": {},
   "source": [
    "# Racially Motivated Hate Crimes in the South"
   ]
  },
  {
   "cell_type": "code",
   "execution_count": 19,
   "id": "37ca616e",
   "metadata": {},
   "outputs": [
    {
     "data": {
      "text/plain": [
       "18759"
      ]
     },
     "execution_count": 19,
     "metadata": {},
     "output_type": "execute_result"
    }
   ],
   "source": [
    "blackSouth = newHateCrimeDF[(newHateCrimeDF[\"region_name\"]==\"South\"\n",
    ")&(newHateCrimeDF[\"bias_desc\"] ==\"Anti-Black or African American\")].value_counts()\n",
    "\n",
    "blackSouthSum = blackSouth.sum()\n",
    "\n",
    "blackSouthSum "
   ]
  },
  {
   "cell_type": "code",
   "execution_count": 20,
   "id": "0ab8adc6",
   "metadata": {},
   "outputs": [
    {
     "data": {
      "text/plain": [
       "7665"
      ]
     },
     "execution_count": 20,
     "metadata": {},
     "output_type": "execute_result"
    }
   ],
   "source": [
    "whiteSouth = newHateCrimeDF[(newHateCrimeDF[\"region_name\"]==\"South\"\n",
    ")&(newHateCrimeDF[\"bias_desc\"] ==\"Anti-White\")].value_counts()\n",
    "\n",
    "whiteSouthSum = whiteSouth.sum()\n",
    "\n",
    "whiteSouthSum "
   ]
  },
  {
   "cell_type": "code",
   "execution_count": 21,
   "id": "afc34c92",
   "metadata": {},
   "outputs": [
    {
     "data": {
      "text/plain": [
       "2687"
      ]
     },
     "execution_count": 21,
     "metadata": {},
     "output_type": "execute_result"
    }
   ],
   "source": [
    "hispanicSouth = newHateCrimeDF[(newHateCrimeDF[\"region_name\"]==\"South\"\n",
    ")&(newHateCrimeDF[\"bias_desc\"] ==\"Anti-Hispanic or Latino\")].value_counts()\n",
    "\n",
    "hispanicSouthSum = hispanicSouth.sum()\n",
    "\n",
    "hispanicSouthSum "
   ]
  },
  {
   "cell_type": "code",
   "execution_count": 22,
   "id": "c5c7d7c8",
   "metadata": {},
   "outputs": [
    {
     "data": {
      "text/plain": [
       "330"
      ]
     },
     "execution_count": 22,
     "metadata": {},
     "output_type": "execute_result"
    }
   ],
   "source": [
    "arabSouth = newHateCrimeDF[(newHateCrimeDF[\"region_name\"]==\"South\"\n",
    ")&(newHateCrimeDF[\"bias_desc\"] ==\"Anti-Arab\")].value_counts()\n",
    "\n",
    "arabSouthSum = arabSouth.sum()\n",
    "\n",
    "arabSouthSum "
   ]
  },
  {
   "cell_type": "code",
   "execution_count": 23,
   "id": "0af99d66",
   "metadata": {},
   "outputs": [
    {
     "data": {
      "text/plain": [
       "965"
      ]
     },
     "execution_count": 23,
     "metadata": {},
     "output_type": "execute_result"
    }
   ],
   "source": [
    "asianSouth = newHateCrimeDF[(newHateCrimeDF[\"region_name\"]==\"South\"\n",
    ")&(newHateCrimeDF[\"bias_desc\"] ==\"Anti-Asian\")].value_counts()\n",
    "\n",
    "asianSouthSum = asianSouth.sum()\n",
    "\n",
    "asianSouthSum "
   ]
  },
  {
   "cell_type": "code",
   "execution_count": 24,
   "id": "9d2cd174",
   "metadata": {},
   "outputs": [
    {
     "data": {
      "text/plain": [
       "708"
      ]
     },
     "execution_count": 24,
     "metadata": {},
     "output_type": "execute_result"
    }
   ],
   "source": [
    "nativeSouth = newHateCrimeDF[(newHateCrimeDF[\"region_name\"]==\"South\"\n",
    ")&(newHateCrimeDF[\"bias_desc\"] ==\"Anti-American Indian or Alaska Native\")].value_counts()\n",
    "\n",
    "nativeSouthSum = nativeSouth.sum()\n",
    "\n",
    "nativeSouthSum "
   ]
  },
  {
   "cell_type": "code",
   "execution_count": 25,
   "id": "45e6dff2",
   "metadata": {},
   "outputs": [
    {
     "data": {
      "text/plain": [
       "36"
      ]
     },
     "execution_count": 25,
     "metadata": {},
     "output_type": "execute_result"
    }
   ],
   "source": [
    "pacificSouth = newHateCrimeDF[(newHateCrimeDF[\"region_name\"]==\"South\"\n",
    ")&(newHateCrimeDF[\"bias_desc\"] ==\"Anti-Native Hawaiian or Other Pacific Islander\")].value_counts()\n",
    "\n",
    "pacificSouthSum = pacificSouth.sum()\n",
    "\n",
    "pacificSouthSum "
   ]
  },
  {
   "cell_type": "code",
   "execution_count": 26,
   "id": "35d562cc",
   "metadata": {},
   "outputs": [
    {
     "data": {
      "text/plain": [
       "2153"
      ]
     },
     "execution_count": 26,
     "metadata": {},
     "output_type": "execute_result"
    }
   ],
   "source": [
    "otherSouth = newHateCrimeDF[(newHateCrimeDF[\"region_name\"]==\"South\"\n",
    ")&(newHateCrimeDF[\"bias_desc\"] ==\"Anti-Other Race/Ethnicity/Ancestry\")].value_counts()\n",
    "\n",
    "otherSouthSum = otherSouth.sum()\n",
    "\n",
    "otherSouthSum "
   ]
  },
  {
   "cell_type": "code",
   "execution_count": 27,
   "id": "5825f4b9",
   "metadata": {},
   "outputs": [
    {
     "data": {
      "text/plain": [
       "1339"
      ]
     },
     "execution_count": 27,
     "metadata": {},
     "output_type": "execute_result"
    }
   ],
   "source": [
    "multipleSouth = newHateCrimeDF[(newHateCrimeDF[\"region_name\"]==\"South\"\n",
    ")&(newHateCrimeDF[\"bias_desc\"] ==\"Anti-Multiple Races, Group\")].value_counts()\n",
    "\n",
    "multipleSouthSum = multipleSouth.sum()\n",
    "\n",
    "multipleSouthSum "
   ]
  },
  {
   "cell_type": "code",
   "execution_count": 28,
   "id": "cef42c3b",
   "metadata": {},
   "outputs": [
    {
     "name": "stdout",
     "output_type": "stream",
     "text": [
      "34642\n"
     ]
    }
   ],
   "source": [
    "sumOfSouth = [whiteSouthSum, blackSouthSum, hispanicSouthSum, asianSouthSum, \n",
    "arabSouthSum, pacificSouthSum, nativeSouthSum, otherSouthSum, multipleSouthSum]\n",
    "totalSouth = sum(sumOfSouth)\n",
    "\n",
    "print(totalSouth)"
   ]
  },
  {
   "cell_type": "code",
   "execution_count": 29,
   "id": "0f07e471",
   "metadata": {},
   "outputs": [
    {
     "data": {
      "image/png": "[encoded data removed]",
      "text/plain": [
       "<Figure size 640x480 with 1 Axes>"
      ]
     },
     "metadata": {},
     "output_type": "display_data"
    }
   ],
   "source": [
    "southPlot = pd.DataFrame({\n",
    "    'x': [\"White\", \"Black\", \"Hispanic\", \"Asian\", \"Arab\",\"Islander\", \"Native\",\"Multiple\", \"Other\"],\n",
    "    'y': [7665, 18759, 2687, 965, 330, 36, 708, 1339, 2153],\n",
    "})\n",
    "\n",
    "color = ['magenta', 'orange', 'gold', 'green', 'blue','purple', 'lightblue', 'red', 'black']\n",
    "ax = southPlot.plot.barh(x='x', y='y', color=color)\n",
    "ax.bar_label(ax.containers[0])\n",
    "ax.set_xlim([0,21000])\n",
    "plt.ylabel(\"Race Group\")\n",
    "plt.xlabel(\"Offense Count\")\n",
    "plt.title(\"Racial Hate Crimes in the Southern Region (1991-2020)\")\n",
    "plt.legend('', frameon=False)\n",
    "plt.savefig(\"output_data/Fig3.png\")\n",
    "plt.show()"
   ]
  },
  {
   "cell_type": "markdown",
   "id": "d98c7e8d",
   "metadata": {},
   "source": [
    "# Racially Motivated Hate Crimes in the Northeast"
   ]
  },
  {
   "cell_type": "code",
   "execution_count": 30,
   "id": "d2496009",
   "metadata": {},
   "outputs": [
    {
     "data": {
      "text/plain": [
       "21585"
      ]
     },
     "execution_count": 30,
     "metadata": {},
     "output_type": "execute_result"
    }
   ],
   "source": [
    "blackNortheast = newHateCrimeDF[(newHateCrimeDF[\"region_name\"]==\"Northeast\"\n",
    ")&(newHateCrimeDF[\"bias_desc\"] ==\"Anti-Black or African American\")].value_counts()\n",
    "\n",
    "blackNortheastSum = blackNortheast.sum()\n",
    "\n",
    "blackNortheastSum "
   ]
  },
  {
   "cell_type": "code",
   "execution_count": 31,
   "id": "3d145c35",
   "metadata": {},
   "outputs": [
    {
     "data": {
      "text/plain": [
       "5184"
      ]
     },
     "execution_count": 31,
     "metadata": {},
     "output_type": "execute_result"
    }
   ],
   "source": [
    "whiteNortheast = newHateCrimeDF[(newHateCrimeDF[\"region_name\"]==\"Northeast\"\n",
    ")&(newHateCrimeDF[\"bias_desc\"] ==\"Anti-White\")].value_counts()\n",
    "\n",
    "whiteNortheastSum = whiteNortheast.sum()\n",
    "\n",
    "whiteNortheastSum "
   ]
  },
  {
   "cell_type": "code",
   "execution_count": 32,
   "id": "867da6e8",
   "metadata": {},
   "outputs": [
    {
     "data": {
      "text/plain": [
       "3487"
      ]
     },
     "execution_count": 32,
     "metadata": {},
     "output_type": "execute_result"
    }
   ],
   "source": [
    "hispanicNortheast = newHateCrimeDF[(newHateCrimeDF[\"region_name\"]==\"Northeast\"\n",
    ")&(newHateCrimeDF[\"bias_desc\"] ==\"Anti-Hispanic or Latino\")].value_counts()\n",
    "\n",
    "hispanicNortheastSum = hispanicNortheast.sum()\n",
    "\n",
    "hispanicNortheastSum "
   ]
  },
  {
   "cell_type": "code",
   "execution_count": 33,
   "id": "676b9359",
   "metadata": {},
   "outputs": [
    {
     "data": {
      "text/plain": [
       "405"
      ]
     },
     "execution_count": 33,
     "metadata": {},
     "output_type": "execute_result"
    }
   ],
   "source": [
    "arabNortheast = newHateCrimeDF[(newHateCrimeDF[\"region_name\"]==\"Northeast\"\n",
    ")&(newHateCrimeDF[\"bias_desc\"] ==\"Anti-Arab\")].value_counts()\n",
    "\n",
    "arabNortheastSum = arabNortheast.sum()\n",
    "\n",
    "arabNortheastSum "
   ]
  },
  {
   "cell_type": "code",
   "execution_count": 34,
   "id": "f61a97ff",
   "metadata": {},
   "outputs": [
    {
     "data": {
      "text/plain": [
       "181"
      ]
     },
     "execution_count": 34,
     "metadata": {},
     "output_type": "execute_result"
    }
   ],
   "source": [
    "nativeNortheast = newHateCrimeDF[(newHateCrimeDF[\"region_name\"]==\"Northeast\"\n",
    ")&(newHateCrimeDF[\"bias_desc\"] ==\"Anti-American Indian or Alaska Native\")].value_counts()\n",
    "\n",
    "nativeNortheastSum = nativeNortheast.sum()\n",
    "\n",
    "nativeNortheastSum "
   ]
  },
  {
   "cell_type": "code",
   "execution_count": 35,
   "id": "0676e5f6",
   "metadata": {},
   "outputs": [
    {
     "data": {
      "text/plain": [
       "40"
      ]
     },
     "execution_count": 35,
     "metadata": {},
     "output_type": "execute_result"
    }
   ],
   "source": [
    "pacificNortheast = newHateCrimeDF[(newHateCrimeDF[\"region_name\"]==\"Northeast\"\n",
    ")&(newHateCrimeDF[\"bias_desc\"] ==\"Anti-Native Hawaiian or Other Pacific Islander\")].value_counts()\n",
    "\n",
    "pacificNortheastSum = pacificNortheast.sum()\n",
    "\n",
    "pacificNortheastSum "
   ]
  },
  {
   "cell_type": "code",
   "execution_count": 36,
   "id": "9f664736",
   "metadata": {},
   "outputs": [
    {
     "data": {
      "text/plain": [
       "3106"
      ]
     },
     "execution_count": 36,
     "metadata": {},
     "output_type": "execute_result"
    }
   ],
   "source": [
    "otherNortheast= newHateCrimeDF[(newHateCrimeDF[\"region_name\"]==\"Northeast\"\n",
    ")&(newHateCrimeDF[\"bias_desc\"] ==\"Anti-Other Race/Ethnicity/Ancestry\")].value_counts()\n",
    "\n",
    "otherNortheastSum = otherNortheast.sum()\n",
    "\n",
    "otherNortheastSum "
   ]
  },
  {
   "cell_type": "code",
   "execution_count": 37,
   "id": "108a7b3c",
   "metadata": {},
   "outputs": [
    {
     "data": {
      "text/plain": [
       "690"
      ]
     },
     "execution_count": 37,
     "metadata": {},
     "output_type": "execute_result"
    }
   ],
   "source": [
    "multipleNortheast = newHateCrimeDF[(newHateCrimeDF[\"region_name\"]==\"Northeast\"\n",
    ")&(newHateCrimeDF[\"bias_desc\"] ==\"Anti-Multiple Races, Group\")].value_counts()\n",
    "\n",
    "multipleNortheastSum = multipleNortheast.sum()\n",
    "\n",
    "multipleNortheastSum "
   ]
  },
  {
   "cell_type": "code",
   "execution_count": 38,
   "id": "c4008e94",
   "metadata": {},
   "outputs": [
    {
     "data": {
      "text/plain": [
       "2123"
      ]
     },
     "execution_count": 38,
     "metadata": {},
     "output_type": "execute_result"
    }
   ],
   "source": [
    "asianNortheast = newHateCrimeDF[(newHateCrimeDF[\"region_name\"]==\"Northeast\"\n",
    ")&(newHateCrimeDF[\"bias_desc\"] ==\"Anti-Asian\")].value_counts()\n",
    "\n",
    "asianNortheastSum = asianNortheast.sum()\n",
    "\n",
    "asianNortheastSum "
   ]
  },
  {
   "cell_type": "code",
   "execution_count": 39,
   "id": "b8aa5e1e",
   "metadata": {},
   "outputs": [
    {
     "name": "stdout",
     "output_type": "stream",
     "text": [
      "36801\n"
     ]
    }
   ],
   "source": [
    "sumOfNortheast = [whiteNortheastSum, blackNortheastSum, hispanicNortheastSum, asianNortheastSum, \n",
    "arabNortheastSum, pacificNortheastSum, nativeNortheastSum, otherNortheastSum, multipleNortheastSum]\n",
    "totalNortheast = sum(sumOfNortheast)\n",
    "\n",
    "print(totalNortheast)"
   ]
  },
  {
   "cell_type": "code",
   "execution_count": 40,
   "id": "714434dc",
   "metadata": {},
   "outputs": [
    {
     "data": {
      "image/png": "[encoded data removed]",
      "text/plain": [
       "<Figure size 640x480 with 1 Axes>"
      ]
     },
     "metadata": {},
     "output_type": "display_data"
    }
   ],
   "source": [
    "northeastPlot = pd.DataFrame({\n",
    "    'x': [\"White\", \"Black\", \"Hispanic\", \"Asian\", \"Arab\",\"Islander\", \"Native\",\"Multiple\", \"Other\"],\n",
    "    'y': [5184, 21585, 3487, 2123, 405, 40, 181, 690, 3106],\n",
    "})\n",
    "\n",
    "color = ['magenta', 'orange', 'gold', 'green', 'blue','purple', 'lightblue', 'red', 'black']\n",
    "ax = northeastPlot.plot.barh(x='x', y='y', color=color)\n",
    "ax.bar_label(ax.containers[0])\n",
    "ax.set_xlim([0,24000])\n",
    "plt.ylabel(\"Race Group\")\n",
    "plt.xlabel(\"Offense Count\")\n",
    "plt.title(\"Racial Hate Crimes in the Northeast Region (1991-2020)\")\n",
    "plt.legend('', frameon=False)\n",
    "plt.savefig(\"output_data/Fig4.png\")\n",
    "plt.show()"
   ]
  },
  {
   "cell_type": "markdown",
   "id": "fe6aa561",
   "metadata": {},
   "source": [
    "# Racially Motivated Hate Crimes in the West"
   ]
  },
  {
   "cell_type": "code",
   "execution_count": 41,
   "id": "7f5d5328",
   "metadata": {},
   "outputs": [
    {
     "data": {
      "text/plain": [
       "22778"
      ]
     },
     "execution_count": 41,
     "metadata": {},
     "output_type": "execute_result"
    }
   ],
   "source": [
    "blackWest = newHateCrimeDF[(newHateCrimeDF[\"region_name\"]==\"West\"\n",
    ")&(newHateCrimeDF[\"bias_desc\"] ==\"Anti-Black or African American\")].value_counts()\n",
    "\n",
    "blackWestSum = blackWest.sum()\n",
    "\n",
    "blackWestSum "
   ]
  },
  {
   "cell_type": "code",
   "execution_count": 42,
   "id": "15495eb0",
   "metadata": {},
   "outputs": [
    {
     "data": {
      "text/plain": [
       "5926"
      ]
     },
     "execution_count": 42,
     "metadata": {},
     "output_type": "execute_result"
    }
   ],
   "source": [
    "whiteWest = newHateCrimeDF[(newHateCrimeDF[\"region_name\"]==\"West\"\n",
    ")&(newHateCrimeDF[\"bias_desc\"] ==\"Anti-White\")].value_counts()\n",
    "\n",
    "whiteWestSum = whiteWest.sum()\n",
    "\n",
    "whiteWestSum "
   ]
  },
  {
   "cell_type": "code",
   "execution_count": 43,
   "id": "e13e6d2c",
   "metadata": {},
   "outputs": [
    {
     "data": {
      "text/plain": [
       "3401"
      ]
     },
     "execution_count": 43,
     "metadata": {},
     "output_type": "execute_result"
    }
   ],
   "source": [
    "asianWest = newHateCrimeDF[(newHateCrimeDF[\"region_name\"]==\"West\"\n",
    ")&(newHateCrimeDF[\"bias_desc\"] ==\"Anti-Asian\")].value_counts()\n",
    "\n",
    "asianWestSum = asianWest.sum()\n",
    "\n",
    "asianWestSum "
   ]
  },
  {
   "cell_type": "code",
   "execution_count": 44,
   "id": "4667ea67",
   "metadata": {},
   "outputs": [
    {
     "data": {
      "text/plain": [
       "347"
      ]
     },
     "execution_count": 44,
     "metadata": {},
     "output_type": "execute_result"
    }
   ],
   "source": [
    "arabWest = newHateCrimeDF[(newHateCrimeDF[\"region_name\"]==\"West\"\n",
    ")&(newHateCrimeDF[\"bias_desc\"] ==\"Anti-Arab\")].value_counts()\n",
    "\n",
    "arabWestSum = arabWest.sum()\n",
    "\n",
    "arabWestSum "
   ]
  },
  {
   "cell_type": "code",
   "execution_count": 45,
   "id": "15bbce48",
   "metadata": {},
   "outputs": [
    {
     "data": {
      "text/plain": [
       "874"
      ]
     },
     "execution_count": 45,
     "metadata": {},
     "output_type": "execute_result"
    }
   ],
   "source": [
    "nativeWest = newHateCrimeDF[(newHateCrimeDF[\"region_name\"]==\"West\"\n",
    ")&(newHateCrimeDF[\"bias_desc\"] ==\"Anti-American Indian or Alaska Native\")].value_counts()\n",
    "\n",
    "nativeWestSum = nativeWest.sum()\n",
    "\n",
    "nativeWestSum "
   ]
  },
  {
   "cell_type": "code",
   "execution_count": 46,
   "id": "59c3fbbd",
   "metadata": {},
   "outputs": [
    {
     "data": {
      "text/plain": [
       "42"
      ]
     },
     "execution_count": 46,
     "metadata": {},
     "output_type": "execute_result"
    }
   ],
   "source": [
    "pacificWest = newHateCrimeDF[(newHateCrimeDF[\"region_name\"]==\"West\"\n",
    ")&(newHateCrimeDF[\"bias_desc\"] ==\"Anti-Native Hawaiian or Other Pacific Islander\")].value_counts()\n",
    "\n",
    "pacificWestSum = pacificWest.sum()\n",
    "\n",
    "pacificWestSum "
   ]
  },
  {
   "cell_type": "code",
   "execution_count": 47,
   "id": "0ef07f2b",
   "metadata": {},
   "outputs": [
    {
     "data": {
      "text/plain": [
       "4122"
      ]
     },
     "execution_count": 47,
     "metadata": {},
     "output_type": "execute_result"
    }
   ],
   "source": [
    "otherWest = newHateCrimeDF[(newHateCrimeDF[\"region_name\"]==\"West\"\n",
    ")&(newHateCrimeDF[\"bias_desc\"] ==\"Anti-Other Race/Ethnicity/Ancestry\")].value_counts()\n",
    "\n",
    "otherWestSum = otherWest.sum()\n",
    "\n",
    "otherWestSum"
   ]
  },
  {
   "cell_type": "code",
   "execution_count": 48,
   "id": "5125940f",
   "metadata": {},
   "outputs": [
    {
     "data": {
      "text/plain": [
       "2595"
      ]
     },
     "execution_count": 48,
     "metadata": {},
     "output_type": "execute_result"
    }
   ],
   "source": [
    "multipleWest = newHateCrimeDF[(newHateCrimeDF[\"region_name\"]==\"West\"\n",
    ")&(newHateCrimeDF[\"bias_desc\"] ==\"Anti-Multiple Races, Group\")].value_counts()\n",
    "\n",
    "multipleWestSum = multipleWest.sum()\n",
    "\n",
    "multipleWestSum"
   ]
  },
  {
   "cell_type": "code",
   "execution_count": 49,
   "id": "5f1c9f45",
   "metadata": {},
   "outputs": [
    {
     "data": {
      "text/plain": [
       "7178"
      ]
     },
     "execution_count": 49,
     "metadata": {},
     "output_type": "execute_result"
    }
   ],
   "source": [
    "hispanicWest = newHateCrimeDF[(newHateCrimeDF[\"region_name\"]==\"West\"\n",
    ")&(newHateCrimeDF[\"bias_desc\"] ==\"Anti-Hispanic or Latino\")].value_counts()\n",
    "\n",
    "hispanicWestSum = hispanicWest.sum()\n",
    "\n",
    "hispanicWestSum"
   ]
  },
  {
   "cell_type": "code",
   "execution_count": 50,
   "id": "6451abac",
   "metadata": {},
   "outputs": [
    {
     "data": {
      "image/png": "[encoded data removed]",
      "text/plain": [
       "<Figure size 640x480 with 1 Axes>"
      ]
     },
     "metadata": {},
     "output_type": "display_data"
    }
   ],
   "source": [
    "westPlot = pd.DataFrame({\n",
    "    'x': [\"White\", \"Black\", \"Hispanic\", \"Asian\", \"Arab\",\"Islander\", \"Native\",\"Multiple\", \"Other\"],\n",
    "    'y': [5926, 22778, 7178, 3401, 347, 42, 874, 2595, 4122],\n",
    "})\n",
    "\n",
    "color = ['magenta', 'orange', 'gold', 'green', 'blue','purple', 'lightblue', 'red', 'black']\n",
    "ax = westPlot.plot.barh(x='x', y='y', color=color)\n",
    "ax.bar_label(ax.containers[0])\n",
    "ax.set_xlim([0,26000])\n",
    "plt.ylabel(\"Race Group\")\n",
    "plt.xlabel(\"Offense Count\")\n",
    "plt.title(\"Racial Hate Crimes in the Western Region (1991-2020)\")\n",
    "plt.legend('', frameon=False)\n",
    "plt.savefig(\"output_data/Fig5.png\")\n",
    "plt.show()"
   ]
  },
  {
   "cell_type": "code",
   "execution_count": 51,
   "id": "8eaaec83",
   "metadata": {},
   "outputs": [
    {
     "name": "stdout",
     "output_type": "stream",
     "text": [
      "47263\n"
     ]
    }
   ],
   "source": [
    "sumOfWest = [whiteWestSum, blackWestSum, hispanicWestSum, asianWestSum, \n",
    "arabWestSum, pacificWestSum, nativeWestSum, otherWestSum, multipleWestSum]\n",
    "totalWest = sum(sumOfWest)\n",
    "\n",
    "print(totalWest)"
   ]
  },
  {
   "cell_type": "code",
   "execution_count": 52,
   "id": "fe1653f9",
   "metadata": {},
   "outputs": [
    {
     "data": {
      "text/plain": [
       "offender_race\n",
       "Unknown                                      96520\n",
       "White                                        95169\n",
       "Black or African American                    32022\n",
       "Not Specified                                 9546\n",
       "Multiple                                      5040\n",
       "Asian                                         1843\n",
       "American Indian or Alaska Native              1393\n",
       "Native Hawaiian or Other Pacific Islander      130\n",
       "Name: count, dtype: int64"
      ]
     },
     "execution_count": 52,
     "metadata": {},
     "output_type": "execute_result"
    }
   ],
   "source": [
    "#count of offender race\n",
    "offenderRace = (newHateCrimeDF['offender_race'].value_counts())\n",
    "\n",
    "offenderRace"
   ]
  },
  {
   "cell_type": "code",
   "execution_count": 53,
   "id": "f53be86f",
   "metadata": {},
   "outputs": [
    {
     "name": "stdout",
     "output_type": "stream",
     "text": [
      "['Anti-Black or African American' 'Anti-White' 'Anti-Jewish' 'Anti-Arab'\n",
      " 'Anti-Protestant' 'Anti-Other Religion' 'Anti-Islamic (Muslim)'\n",
      " 'Anti-Gay (Male)' 'Anti-Asian' 'Anti-Catholic'\n",
      " 'Anti-Multiple Religions, Group' 'Anti-Hispanic or Latino'\n",
      " 'Anti-Multiple Races, Group' 'Anti-Lesbian (Female)'\n",
      " 'Anti-Other Race/Ethnicity/Ancestry' 'Anti-Heterosexual'\n",
      " 'Anti-Lesbian, Gay, Bisexual, or Transgender (Mixed Group)'\n",
      " 'Anti-American Indian or Alaska Native' 'Anti-Gay (Male);Anti-White'\n",
      " 'Anti-Black or African American;Anti-Jewish'\n",
      " 'Anti-Black or African American;Anti-Lesbian (Female)'\n",
      " 'Anti-Black or African American;Anti-Gay (Male)'\n",
      " 'Anti-Black or African American;Anti-White' 'Anti-Atheism/Agnosticism'\n",
      " 'Anti-Gay (Male);Anti-Jewish' 'Anti-Bisexual'\n",
      " 'Anti-Hispanic or Latino;Anti-White'\n",
      " 'Anti-Hispanic or Latino;Anti-Multiple Races, Group'\n",
      " 'Anti-American Indian or Alaska Native;Anti-Hispanic or Latino'\n",
      " 'Anti-Black or African American;Anti-Gay (Male);Anti-White'\n",
      " 'Anti-Asian;Anti-Gay (Male)'\n",
      " 'Anti-Multiple Races, Group;Anti-Other Race/Ethnicity/Ancestry'\n",
      " 'Anti-Physical Disability'\n",
      " 'Anti-Lesbian (Female);Anti-Lesbian, Gay, Bisexual, or Transgender (Mixed Group)'\n",
      " 'Anti-Mental Disability' 'Anti-Asian;Anti-Other Race/Ethnicity/Ancestry'\n",
      " 'Anti-Black or African American;Anti-Hispanic or Latino'\n",
      " 'Anti-Black or African American;Anti-Other Race/Ethnicity/Ancestry'\n",
      " 'Anti-Black or African American;Anti-Multiple Races, Group'\n",
      " 'Anti-Lesbian (Female);Anti-White'\n",
      " 'Anti-Jewish;Anti-Lesbian, Gay, Bisexual, or Transgender (Mixed Group)'\n",
      " 'Anti-Other Race/Ethnicity/Ancestry;Anti-White'\n",
      " 'Anti-Heterosexual;Anti-Lesbian, Gay, Bisexual, or Transgender (Mixed Group)'\n",
      " 'Anti-Multiple Religions, Group;Anti-Other Religion'\n",
      " 'Anti-Jewish;Anti-White' 'Anti-Arab;Anti-Hispanic or Latino'\n",
      " 'Anti-Asian;Anti-Black or African American'\n",
      " 'Anti-American Indian or Alaska Native;Anti-Islamic (Muslim)'\n",
      " 'Anti-American Indian or Alaska Native;Anti-Asian'\n",
      " 'Anti-Black or African American;Anti-Protestant'\n",
      " 'Anti-American Indian or Alaska Native;Anti-Black or African American'\n",
      " 'Anti-Jewish;Anti-Multiple Races, Group'\n",
      " 'Anti-Jewish;Anti-Multiple Religions, Group'\n",
      " 'Anti-Jewish;Anti-Other Race/Ethnicity/Ancestry'\n",
      " 'Anti-Gay (Male);Anti-Lesbian, Gay, Bisexual, or Transgender (Mixed Group)'\n",
      " 'Anti-Hispanic or Latino;Anti-Other Race/Ethnicity/Ancestry'\n",
      " 'Anti-Gay (Male);Anti-Other Race/Ethnicity/Ancestry'\n",
      " 'Anti-Multiple Races, Group;Anti-Other Religion'\n",
      " 'Anti-Gay (Male);Anti-Multiple Races, Group'\n",
      " 'Anti-Other Religion;Anti-Protestant' 'Anti-Islamic (Muslim);Anti-Jewish'\n",
      " 'Anti-Lesbian, Gay, Bisexual, or Transgender (Mixed Group);Anti-White'\n",
      " 'Anti-Bisexual;Anti-Heterosexual' 'Anti-Gender Non-Conforming'\n",
      " 'Anti-Female' 'Anti-Islamic (Muslim);Anti-Other Religion'\n",
      " 'Anti-Black or African American;Anti-Islamic (Muslim)' 'Anti-Transgender'\n",
      " 'Anti-Bisexual;Anti-Black or African American'\n",
      " 'Anti-Gay (Male);Anti-Lesbian (Female)'\n",
      " 'Anti-Native Hawaiian or Other Pacific Islander'\n",
      " 'Anti-Gay (Male);Anti-Mental Disability'\n",
      " 'Anti-Gay (Male);Anti-Islamic (Muslim)' 'Anti-Male'\n",
      " 'Anti-Multiple Races, Group;Anti-Multiple Religions, Group'\n",
      " 'Anti-Black or African American;Anti-Lesbian, Gay, Bisexual, or Transgender (Mixed Group)'\n",
      " 'Anti-Mental Disability;Anti-Physical Disability'\n",
      " 'Anti-Other Race/Ethnicity/Ancestry;Anti-Other Religion'\n",
      " 'Anti-Multiple Religions, Group;Anti-Protestant'\n",
      " 'Anti-Black or African American;Anti-Jewish;Anti-White'\n",
      " \"Anti-Jehovah's Witness\" 'Anti-Church of Jesus Christ' 'Anti-Buddhist'\n",
      " 'Anti-Sikh' 'Anti-Other Christian' 'Anti-Hindu'\n",
      " 'Anti-Asian;Anti-Atheism/Agnosticism'\n",
      " 'Anti-Eastern Orthodox (Russian, Greek, Other)'\n",
      " 'Anti-Lesbian, Gay, Bisexual, or Transgender (Mixed Group);Anti-Physical Disability'\n",
      " 'Anti-Bisexual;Anti-Gay (Male)' 'Anti-Other Religion;Anti-White'\n",
      " 'Anti-Asian;Anti-Female' 'Anti-Jewish;Anti-Lesbian (Female);Anti-White'\n",
      " 'Anti-Black or African American;Anti-Hispanic or Latino;Anti-Multiple Races, Group;Anti-White'\n",
      " 'Anti-Islamic (Muslim);Anti-Lesbian, Gay, Bisexual, or Transgender (Mixed Group)'\n",
      " 'Anti-Gay (Male);Anti-Transgender' 'Anti-Hispanic or Latino;Anti-Jewish'\n",
      " 'Anti-Gay (Male);Anti-Physical Disability'\n",
      " 'Anti-Lesbian (Female);Anti-Other Religion'\n",
      " 'Anti-Gay (Male);Anti-Lesbian (Female);Anti-Lesbian, Gay, Bisexual, or Transgender (Mixed Group)'\n",
      " 'Anti-Arab;Anti-Black or African American;Anti-Islamic (Muslim)'\n",
      " 'Anti-Arab;Anti-Hispanic or Latino;Anti-Islamic (Muslim)'\n",
      " 'Anti-Arab;Anti-Islamic (Muslim)' 'Anti-Female;Anti-Gay (Male)'\n",
      " 'Anti-Asian;Anti-Hispanic or Latino'\n",
      " 'Anti-Islamic (Muslim);Anti-Multiple Races, Group'\n",
      " 'Anti-Arab;Anti-Multiple Races, Group'\n",
      " 'Anti-Black or African American;Anti-Other Religion'\n",
      " 'Anti-Multiple Races, Group;Anti-White'\n",
      " 'Anti-Physical Disability;Anti-White'\n",
      " 'Anti-Black or African American;Anti-Jewish;Anti-Multiple Races, Group'\n",
      " 'Anti-Black or African American;Anti-Transgender'\n",
      " 'Anti-Transgender;Anti-White'\n",
      " 'Anti-Multiple Religions, Group;Anti-Transgender'\n",
      " 'Anti-Jewish;Anti-Transgender' 'Anti-Female;Anti-White'\n",
      " 'Anti-Female;Anti-Mental Disability' 'Anti-Gay (Male);Anti-Heterosexual'\n",
      " 'Anti-Arab;Anti-Asian;Anti-Black or African American'\n",
      " 'Anti-Catholic;Anti-Protestant'\n",
      " 'Anti-Mental Disability;Anti-Other Race/Ethnicity/Ancestry'\n",
      " 'Anti-Black or African American;Anti-Mental Disability'\n",
      " 'Anti-Male;Anti-Native Hawaiian or Other Pacific Islander'\n",
      " 'Anti-Asian;Anti-Islamic (Muslim)' 'Anti-Hispanic or Latino;Anti-Male'\n",
      " 'Anti-Black or African American;Anti-Jewish;Anti-Lesbian, Gay, Bisexual, or Transgender (Mixed Group)'\n",
      " 'Anti-Black or African American;Anti-Jewish;Anti-Multiple Races, Group;Anti-Multiple Religions, Group'\n",
      " 'Anti-Jewish;Anti-Multiple Races, Group;Anti-Multiple Religions, Group'\n",
      " 'Anti-Male;Anti-White' 'Anti-Jewish;Anti-Lesbian (Female)'\n",
      " 'Anti-Hispanic or Latino;Anti-Lesbian, Gay, Bisexual, or Transgender (Mixed Group)'\n",
      " 'Anti-Lesbian, Gay, Bisexual, or Transgender (Mixed Group);Anti-Multiple Races, Group'\n",
      " 'Anti-Male;Anti-Multiple Races, Group;Anti-White'\n",
      " 'Anti-Female;Anti-Mental Disability;Anti-White' 'Anti-Asian;Anti-White'\n",
      " 'Anti-Black or African American;Anti-Lesbian, Gay, Bisexual, or Transgender (Mixed Group);Anti-Transgender'\n",
      " 'Anti-Black or African American;Anti-Gay (Male);Anti-Lesbian (Female)'\n",
      " \"Unknown (offender's motivation not known)\"\n",
      " 'Anti-Black or African American;Anti-Lesbian, Gay, Bisexual, or Transgender (Mixed Group);Anti-White'\n",
      " 'Anti-Black or African American;Anti-Gay (Male);Anti-Jewish'\n",
      " 'Anti-Gay (Male);Anti-Male'\n",
      " 'Anti-American Indian or Alaska Native;Anti-White'\n",
      " 'Anti-Asian;Anti-Multiple Races, Group'\n",
      " 'Anti-Female;Anti-Hispanic or Latino'\n",
      " 'Anti-Hispanic or Latino;Anti-Islamic (Muslim)'\n",
      " 'Anti-Gay (Male);Anti-Hispanic or Latino'\n",
      " 'Anti-Gay (Male);Anti-Other Christian'\n",
      " 'Anti-Atheism/Agnosticism;Anti-Jewish'\n",
      " 'Anti-Black or African American;Anti-Other Christian'\n",
      " 'Anti-Black or African American;Anti-Church of Jesus Christ'\n",
      " 'Anti-Gender Non-Conforming;Anti-Transgender'\n",
      " 'Anti-Multiple Religions, Group;Anti-Other Christian;Anti-Other Race/Ethnicity/Ancestry;Anti-Other Religion'\n",
      " 'Anti-Female;Anti-Lesbian (Female)'\n",
      " 'Anti-Other Christian;Anti-Other Religion'\n",
      " 'Anti-Hispanic or Latino;Anti-Lesbian (Female)'\n",
      " 'Anti-Black or African American;Anti-Physical Disability'\n",
      " 'Anti-Lesbian, Gay, Bisexual, or Transgender (Mixed Group);Anti-Transgender'\n",
      " 'Anti-Lesbian (Female);Anti-Transgender'\n",
      " 'Anti-American Indian or Alaska Native;Anti-Native Hawaiian or Other Pacific Islander'\n",
      " 'Anti-Black or African American;Anti-Male' 'Anti-Asian;Anti-Sikh'\n",
      " 'Anti-Asian;Anti-Hindu' 'Anti-Arab;Anti-Gay (Male)'\n",
      " 'Anti-Female;Anti-Lesbian, Gay, Bisexual, or Transgender (Mixed Group)'\n",
      " 'Anti-Black or African American;Anti-Hispanic or Latino;Anti-Jewish'\n",
      " 'Anti-Islamic (Muslim);Anti-White'\n",
      " \"Anti-Jehovah's Witness;Anti-Other Race/Ethnicity/Ancestry\"\n",
      " 'Anti-Black or African American;Anti-Female'\n",
      " 'Anti-Black or African American;Anti-Female;Anti-Lesbian (Female)'\n",
      " 'Anti-Hindu;Anti-Other Race/Ethnicity/Ancestry'\n",
      " 'Anti-Other Race/Ethnicity/Ancestry;Anti-Sikh'\n",
      " 'Anti-Black or African American;Anti-Gay (Male);Anti-Hispanic or Latino;Anti-Jewish'\n",
      " 'Anti-Asian;Anti-Jewish'\n",
      " 'Anti-Hispanic or Latino;Anti-Physical Disability'\n",
      " 'Anti-Arab;Anti-Islamic (Muslim);Anti-Multiple Religions, Group'\n",
      " 'Anti-Female;Anti-Multiple Races, Group'\n",
      " 'Anti-Gender Non-Conforming;Anti-Lesbian, Gay, Bisexual, or Transgender (Mixed Group);Anti-Multiple Races, Group;Anti-Transgender'\n",
      " 'Anti-Gay (Male);Anti-Jewish;Anti-Multiple Races, Group'\n",
      " 'Anti-Black or African American;Anti-Jewish;Anti-Multiple Religions, Group'\n",
      " 'Anti-Asian;Anti-Male;Anti-White'\n",
      " 'Anti-Other Race/Ethnicity/Ancestry;Anti-Protestant'\n",
      " 'Anti-Catholic;Anti-Hispanic or Latino'\n",
      " 'Anti-Hispanic or Latino;Anti-Other Christian'\n",
      " 'Anti-Black or African American;Anti-Islamic (Muslim);Anti-Jewish;Anti-Other Race/Ethnicity/Ancestry;Anti-Other Religion'\n",
      " 'Anti-Black or African American;Anti-Gay (Male);Anti-Jewish;Anti-Other Race/Ethnicity/Ancestry'\n",
      " 'Anti-Gender Non-Conforming;Anti-Lesbian, Gay, Bisexual, or Transgender (Mixed Group)'\n",
      " 'Anti-Jewish;Anti-Lesbian, Gay, Bisexual, or Transgender (Mixed Group);Anti-Other Race/Ethnicity/Ancestry'\n",
      " 'Anti-Jewish;Anti-Lesbian, Gay, Bisexual, or Transgender (Mixed Group);Anti-Multiple Races, Group'\n",
      " 'Anti-Islamic (Muslim);Anti-Other Race/Ethnicity/Ancestry'\n",
      " 'Anti-Gay (Male);Anti-Jewish;Anti-Other Race/Ethnicity/Ancestry'\n",
      " 'Anti-Hispanic or Latino;Anti-Mental Disability'\n",
      " 'Anti-Lesbian, Gay, Bisexual, or Transgender (Mixed Group);Anti-Multiple Races, Group;Anti-Multiple Religions, Group'\n",
      " 'Anti-Gay (Male);Anti-Gender Non-Conforming;Anti-Lesbian, Gay, Bisexual, or Transgender (Mixed Group)'\n",
      " 'Anti-Gender Non-Conforming;Anti-Jewish;Anti-Lesbian, Gay, Bisexual, or Transgender (Mixed Group)'\n",
      " 'Anti-Female;Anti-Other Religion'\n",
      " 'Anti-Black or African American;Anti-Jewish;Anti-Mental Disability;Anti-Multiple Races, Group'\n",
      " 'Anti-Jewish;Anti-Other Christian'\n",
      " 'Anti-Black or African American;Anti-Lesbian, Gay, Bisexual, or Transgender (Mixed Group);Anti-Multiple Religions, Group'\n",
      " 'Anti-Arab;Anti-Jewish'\n",
      " 'Anti-Black or African American;Anti-Heterosexual;Anti-Lesbian, Gay, Bisexual, or Transgender (Mixed Group)'\n",
      " 'Anti-Gay (Male);Anti-Jewish;Anti-Lesbian (Female);Anti-Lesbian, Gay, Bisexual, or Transgender (Mixed Group)'\n",
      " 'Anti-Catholic;Anti-Other Christian;Anti-White'\n",
      " 'Anti-Black or African American;Anti-Jewish;Anti-Other Race/Ethnicity/Ancestry'\n",
      " 'Anti-Jewish;Anti-Mental Disability;Anti-Other Race/Ethnicity/Ancestry;Anti-Physical Disability'\n",
      " 'Anti-Jewish;Anti-Other Race/Ethnicity/Ancestry;Anti-White'\n",
      " 'Anti-Catholic;Anti-Jewish'\n",
      " 'Anti-Islamic (Muslim);Anti-Jewish;Anti-Multiple Races, Group'\n",
      " 'Anti-Catholic;Anti-Female;Anti-Multiple Races, Group'\n",
      " 'Anti-Catholic;Anti-Multiple Religions, Group'\n",
      " 'Anti-Jewish;Anti-Lesbian (Female);Anti-Multiple Races, Group'\n",
      " 'Anti-Black or African American;Anti-Heterosexual;Anti-Jewish'\n",
      " 'Anti-Arab;Anti-Church of Jesus Christ'\n",
      " 'Anti-Catholic;Anti-Other Christian'\n",
      " 'Anti-American Indian or Alaska Native;Anti-Other Race/Ethnicity/Ancestry'\n",
      " 'Anti-Arab;Anti-Hispanic or Latino;Anti-Other Race/Ethnicity/Ancestry'\n",
      " 'Anti-Arab;Anti-Islamic (Muslim);Anti-Jewish'\n",
      " 'Anti-Asian;Anti-Gay (Male);Anti-Jewish'\n",
      " 'Anti-Bisexual;Anti-Gay (Male);Anti-Transgender'\n",
      " 'Anti-Female;Anti-Lesbian, Gay, Bisexual, or Transgender (Mixed Group);Anti-White'\n",
      " 'Anti-Heterosexual;Anti-Transgender'\n",
      " 'Anti-Arab;Anti-Black or African American'\n",
      " 'Anti-Islamic (Muslim);Anti-Mental Disability'\n",
      " 'Anti-Black or African American;Anti-Gay (Male);Anti-Hispanic or Latino'\n",
      " 'Anti-Black or African American;Anti-Gay (Male);Anti-Hispanic or Latino;Anti-Multiple Races, Group'\n",
      " 'Anti-Asian;Anti-Black or African American;Anti-Female;Anti-Hispanic or Latino;Anti-Other Race/Ethnicity/Ancestry'\n",
      " 'Anti-Heterosexual;Anti-Islamic (Muslim);Anti-Multiple Races, Group'\n",
      " 'Anti-Gay (Male);Anti-Gender Non-Conforming'\n",
      " 'Anti-Black or African American;Anti-Native Hawaiian or Other Pacific Islander'\n",
      " 'Anti-Lesbian, Gay, Bisexual, or Transgender (Mixed Group);Anti-Other Race/Ethnicity/Ancestry'\n",
      " 'Anti-Female;Anti-Other Race/Ethnicity/Ancestry'\n",
      " 'Anti-Black or African American;Anti-Gay (Male);Anti-Gender Non-Conforming'\n",
      " 'Anti-Black or African American;Anti-Hispanic or Latino;Anti-Islamic (Muslim)'\n",
      " 'Anti-Arab;Anti-Islamic (Muslim);Anti-Male'\n",
      " 'Anti-Black or African American;Anti-Female;Anti-Gay (Male);Anti-Lesbian (Female);Anti-Lesbian, Gay, Bisexual, or Transgender (Mixed Group)'\n",
      " 'Anti-Arab;Anti-Asian'\n",
      " 'Anti-Black or African American;Anti-Multiple Religions, Group'\n",
      " 'Anti-Black or African American;Anti-Gay (Male);Anti-Islamic (Muslim)'\n",
      " 'Anti-Hindu;Anti-Islamic (Muslim);Anti-Other Race/Ethnicity/Ancestry'\n",
      " 'Anti-Asian;Anti-Black or African American;Anti-Gay (Male)'\n",
      " 'Anti-Female;Anti-Gay (Male);Anti-Jewish;Anti-Lesbian, Gay, Bisexual, or Transgender (Mixed Group);Anti-Multiple Races, Group'\n",
      " 'Anti-Gay (Male);Anti-Hispanic or Latino;Anti-Male'\n",
      " 'Anti-American Indian or Alaska Native;Anti-Black or African American;Anti-Hispanic or Latino;Anti-Jewish;Anti-Other Race/Ethnicity/Ancestry'\n",
      " 'Anti-Jewish;Anti-Mental Disability;Anti-White'\n",
      " 'Anti-Black or African American;Anti-Catholic'\n",
      " 'Anti-Multiple Races, Group;Anti-Other Christian'\n",
      " 'Anti-Protestant;Anti-White'\n",
      " 'Anti-Lesbian (Female);Anti-Other Christian;Anti-White'\n",
      " 'Anti-Heterosexual;Anti-White' 'Anti-Female;Anti-Sikh'\n",
      " 'Anti-Asian;Anti-Black or African American;Anti-Islamic (Muslim)'\n",
      " 'Anti-Black or African American;Anti-Gay (Male);Anti-Male'\n",
      " 'Anti-Black or African American;Anti-Islamic (Muslim);Anti-Other Race/Ethnicity/Ancestry'\n",
      " 'Anti-Arab;Anti-Sikh'\n",
      " 'Anti-Asian;Anti-Lesbian, Gay, Bisexual, or Transgender (Mixed Group)'\n",
      " 'Anti-Black or African American;Anti-Lesbian, Gay, Bisexual, or Transgender (Mixed Group);Anti-Multiple Races, Group'\n",
      " 'Anti-Lesbian, Gay, Bisexual, or Transgender (Mixed Group);Anti-Mental Disability;Anti-Multiple Races, Group;Anti-Multiple Religions, Group;Anti-Physical Disability'\n",
      " 'Anti-Multiple Religions, Group;Anti-White'\n",
      " 'Anti-Multiple Religions, Group;Anti-Other Race/Ethnicity/Ancestry'\n",
      " 'Anti-Hispanic or Latino;Anti-Other Religion'\n",
      " 'Anti-Asian;Anti-Black or African American;Anti-Multiple Races, Group'\n",
      " 'Anti-Asian;Anti-Black or African American;Anti-Gay (Male);Anti-Multiple Races, Group'\n",
      " 'Anti-Asian;Anti-Black or African American;Anti-Female;Anti-Jewish;Anti-Multiple Races, Group'\n",
      " 'Anti-Arab;Anti-Black or African American;Anti-Hispanic or Latino'\n",
      " 'Anti-Black or African American;Anti-Gay (Male);Anti-Islamic (Muslim);Anti-Jewish;Anti-Lesbian (Female)'\n",
      " 'Anti-Black or African American;Anti-Gay (Male);Anti-Transgender'\n",
      " 'Anti-Arab;Anti-Black or African American;Anti-Hispanic or Latino;Anti-Jewish'\n",
      " 'Anti-Black or African American;Anti-Hispanic or Latino;Anti-Lesbian, Gay, Bisexual, or Transgender (Mixed Group)'\n",
      " 'Anti-Female;Anti-Lesbian, Gay, Bisexual, or Transgender (Mixed Group);Anti-Multiple Races, Group;Anti-Multiple Religions, Group'\n",
      " 'Anti-Black or African American;Anti-Multiple Races, Group;Anti-White'\n",
      " 'Anti-Bisexual;Anti-Jewish' 'Anti-Mental Disability;Anti-White'\n",
      " 'Anti-Asian;Anti-Black or African American;Anti-Jewish'\n",
      " 'Anti-Jewish;Anti-Other Religion' 'Anti-Gender Non-Conforming;Anti-White'\n",
      " 'Anti-Asian;Anti-Black or African American;Anti-Hispanic or Latino'\n",
      " 'Anti-Black or African American;Anti-Jewish;Anti-Transgender'\n",
      " 'Anti-Black or African American;Anti-Gender Non-Conforming;Anti-Jewish'\n",
      " 'Anti-Bisexual;Anti-Lesbian, Gay, Bisexual, or Transgender (Mixed Group)'\n",
      " 'Anti-Black or African American;Anti-Multiple Religions, Group;Anti-Native Hawaiian or Other Pacific Islander'\n",
      " 'Anti-Asian;Anti-Black or African American;Anti-Lesbian, Gay, Bisexual, or Transgender (Mixed Group)'\n",
      " 'Anti-Female;Anti-Physical Disability'\n",
      " 'Anti-American Indian or Alaska Native;Anti-Asian;Anti-Black or African American;Anti-Islamic (Muslim);Anti-White'\n",
      " 'Anti-Jewish;Anti-Physical Disability'\n",
      " 'Anti-Asian;Anti-Female;Anti-Multiple Races, Group'\n",
      " 'Anti-Black or African American;Anti-Female;Anti-Hispanic or Latino'\n",
      " 'Anti-Black or African American;Anti-Gender Non-Conforming;Anti-Jewish;Anti-Lesbian, Gay, Bisexual, or Transgender (Mixed Group);Anti-Transgender'\n",
      " 'Anti-Physical Disability;Anti-Protestant'\n",
      " 'Anti-Bisexual;Anti-Gender Non-Conforming;Anti-Lesbian, Gay, Bisexual, or Transgender (Mixed Group);Anti-Transgender'\n",
      " 'Anti-Bisexual;Anti-Black or African American;Anti-White'\n",
      " 'Anti-Bisexual;Anti-Gay (Male);Anti-Lesbian (Female);Anti-Lesbian, Gay, Bisexual, or Transgender (Mixed Group);Anti-Transgender'\n",
      " 'Anti-Bisexual;Anti-Black or African American;Anti-Gender Non-Conforming;Anti-Lesbian, Gay, Bisexual, or Transgender (Mixed Group);Anti-Transgender'\n",
      " 'Anti-Black or African American;Anti-Gender Non-Conforming'\n",
      " 'Anti-Asian;Anti-Transgender'\n",
      " 'Anti-Black or African American;Anti-Buddhist'\n",
      " 'Anti-Gay (Male);Anti-Islamic (Muslim);Anti-Multiple Races, Group'\n",
      " 'Anti-Arab;Anti-Other Race/Ethnicity/Ancestry'\n",
      " 'Anti-Asian;Anti-Black or African American;Anti-Female;Anti-Multiple Races, Group'\n",
      " 'Anti-Bisexual;Anti-Lesbian (Female)'\n",
      " 'Anti-Black or African American;Anti-Hispanic or Latino;Anti-Other Race/Ethnicity/Ancestry'\n",
      " 'Anti-Lesbian, Gay, Bisexual, or Transgender (Mixed Group);Anti-Transgender;Anti-White'\n",
      " 'Anti-Black or African American;Anti-Catholic;Anti-Heterosexual'\n",
      " 'Anti-Female;Anti-Lesbian (Female);Anti-Lesbian, Gay, Bisexual, or Transgender (Mixed Group)'\n",
      " 'Anti-Lesbian, Gay, Bisexual, or Transgender (Mixed Group);Anti-Mental Disability'\n",
      " 'Anti-Gay (Male);Anti-Gender Non-Conforming;Anti-Hispanic or Latino'\n",
      " 'Anti-Black or African American;Anti-Lesbian (Female);Anti-Other Religion'\n",
      " 'Anti-Bisexual;Anti-Gay (Male);Anti-Heterosexual;Anti-Lesbian (Female);Anti-Lesbian, Gay, Bisexual, or Transgender (Mixed Group)'\n",
      " 'Anti-Bisexual;Anti-Lesbian, Gay, Bisexual, or Transgender (Mixed Group);Anti-Transgender'\n",
      " 'Anti-Female;Anti-Jewish;Anti-Lesbian, Gay, Bisexual, or Transgender (Mixed Group);Anti-Mental Disability;Anti-Multiple Races, Group'\n",
      " 'Anti-Female;Anti-Transgender'\n",
      " 'Anti-Black or African American;Anti-Heterosexual;Anti-Jewish;Anti-Other Christian'\n",
      " 'Anti-Bisexual;Anti-Catholic;Anti-Hispanic or Latino;Anti-Jewish'\n",
      " 'Anti-Black or African American;Anti-Gay (Male);Anti-Other Race/Ethnicity/Ancestry'\n",
      " 'Anti-Bisexual;Anti-Gay (Male);Anti-Lesbian (Female);Anti-Lesbian, Gay, Bisexual, or Transgender (Mixed Group)'\n",
      " 'Anti-Other Christian;Anti-White'\n",
      " 'Anti-Heterosexual;Anti-Other Christian;Anti-White'\n",
      " 'Anti-Mental Disability;Anti-Other Religion;Anti-White'\n",
      " 'Anti-American Indian or Alaska Native;Anti-Lesbian (Female)'\n",
      " 'Anti-Mental Disability;Anti-Physical Disability;Anti-White'\n",
      " 'Anti-Black or African American;Anti-Gay (Male);Anti-Physical Disability'\n",
      " 'Anti-Asian;Anti-Black or African American;Anti-Female;Anti-Hispanic or Latino'\n",
      " 'Anti-Black or African American;Anti-Catholic;Anti-Gay (Male)'\n",
      " 'Anti-Other Christian;Anti-Protestant'\n",
      " 'Anti-Black or African American;Anti-Gender Non-Conforming;Anti-Islamic (Muslim)'\n",
      " 'Anti-Asian;Anti-Native Hawaiian or Other Pacific Islander'\n",
      " 'Anti-Lesbian, Gay, Bisexual, or Transgender (Mixed Group);Anti-Protestant'\n",
      " 'Anti-Catholic;Anti-Other Religion'\n",
      " 'Anti-Black or African American;Anti-Female;Anti-Jewish'\n",
      " 'Anti-Bisexual;Anti-Gay (Male);Anti-Hispanic or Latino;Anti-Multiple Religions, Group;Anti-Transgender'\n",
      " 'Anti-Black or African American;Anti-Church of Jesus Christ;Anti-Jewish'\n",
      " 'Anti-Gender Non-Conforming;Anti-Lesbian, Gay, Bisexual, or Transgender (Mixed Group);Anti-Transgender'\n",
      " 'Anti-Black or African American;Anti-Female;Anti-Lesbian, Gay, Bisexual, or Transgender (Mixed Group)'\n",
      " 'Anti-Black or African American;Anti-Gay (Male);Anti-Jewish;Anti-Multiple Races, Group'\n",
      " 'Anti-Arab;Anti-White'\n",
      " 'Anti-Bisexual;Anti-Gay (Male);Anti-Gender Non-Conforming;Anti-Lesbian, Gay, Bisexual, or Transgender (Mixed Group);Anti-Transgender'\n",
      " 'Anti-Asian;Anti-Gender Non-Conforming'\n",
      " 'Anti-Black or African American;Anti-Hindu'\n",
      " 'Anti-Female;Anti-Hispanic or Latino;Anti-Islamic (Muslim)'\n",
      " 'Anti-Gay (Male);Anti-Lesbian, Gay, Bisexual, or Transgender (Mixed Group);Anti-Transgender'\n",
      " 'Anti-Other Race/Ethnicity/Ancestry;Anti-Physical Disability'\n",
      " 'Anti-Gay (Male);Anti-Lesbian (Female);Anti-Transgender'\n",
      " 'Anti-Asian;Anti-Black or African American;Anti-Hispanic or Latino;Anti-Jewish'\n",
      " 'Anti-Gender Non-Conforming;Anti-Hispanic or Latino'\n",
      " 'Anti-Lesbian, Gay, Bisexual, or Transgender (Mixed Group);Anti-Multiple Races, Group;Anti-Multiple Religions, Group;Anti-Other Race/Ethnicity/Ancestry'\n",
      " 'Anti-Black or African American;Anti-Gay (Male);Anti-Male;Anti-Mental Disability'\n",
      " 'Anti-Black or African American;Anti-Female;Anti-Gay (Male);Anti-Gender Non-Conforming'\n",
      " 'Anti-Black or African American;Anti-Eastern Orthodox (Russian, Greek, Other)'\n",
      " 'Anti-Heterosexual;Anti-Jewish'\n",
      " 'Anti-American Indian or Alaska Native;Anti-Jewish'\n",
      " 'Anti-Catholic;Anti-Heterosexual;Anti-Hispanic or Latino'\n",
      " 'Anti-Black or African American;Anti-Gender Non-Conforming;Anti-Lesbian (Female)'\n",
      " 'Anti-Jewish;Anti-Multiple Races, Group;Anti-Other Race/Ethnicity/Ancestry'\n",
      " 'Anti-Hispanic or Latino;Anti-Transgender'\n",
      " 'Anti-Gay (Male);Anti-Native Hawaiian or Other Pacific Islander'\n",
      " 'Anti-Gender Non-Conforming;Anti-Multiple Races, Group;Anti-Multiple Religions, Group;Anti-Protestant'\n",
      " 'Anti-Gay (Male);Anti-Hispanic or Latino;Anti-Male;Anti-Transgender'\n",
      " 'Anti-Asian;Anti-Physical Disability' 'Anti-Arab;Anti-Heterosexual'\n",
      " 'Anti-Black or African American;Anti-Hispanic or Latino;Anti-White'\n",
      " 'Anti-Arab;Anti-Black or African American;Anti-Other Race/Ethnicity/Ancestry;Anti-White'\n",
      " 'Anti-Arab;Anti-Female'\n",
      " 'Anti-Lesbian (Female);Anti-Lesbian, Gay, Bisexual, or Transgender (Mixed Group);Anti-Transgender'\n",
      " 'Anti-Catholic;Anti-White'\n",
      " 'Anti-Bisexual;Anti-Other Race/Ethnicity/Ancestry'\n",
      " 'Anti-Bisexual;Anti-Gay (Male);Anti-Gender Non-Conforming;Anti-Lesbian (Female);Anti-Lesbian, Gay, Bisexual, or Transgender (Mixed Group)'\n",
      " 'Anti-Arab;Anti-Asian;Anti-Black or African American;Anti-Islamic (Muslim)'\n",
      " 'Anti-Asian;Anti-Lesbian (Female);Anti-White'\n",
      " 'Anti-Gay (Male);Anti-Gender Non-Conforming;Anti-Lesbian (Female)'\n",
      " 'Anti-Black or African American;Anti-Heterosexual'\n",
      " 'Anti-Gay (Male);Anti-Lesbian, Gay, Bisexual, or Transgender (Mixed Group);Anti-Multiple Races, Group'\n",
      " 'Anti-Jewish;Anti-Mental Disability'\n",
      " 'Anti-Jewish;Anti-Lesbian, Gay, Bisexual, or Transgender (Mixed Group);Anti-Multiple Races, Group;Anti-Transgender'\n",
      " 'Anti-Black or African American;Anti-Eastern Orthodox (Russian, Greek, Other);Anti-Lesbian, Gay, Bisexual, or Transgender (Mixed Group)'\n",
      " 'Anti-American Indian or Alaska Native;Anti-Female;Anti-Hispanic or Latino']\n"
     ]
    }
   ],
   "source": [
    "#count of bias description\n",
    "print(newHateCrimeDF['bias_desc'].unique())"
   ]
  },
  {
   "cell_type": "markdown",
   "id": "35869eb0",
   "metadata": {},
   "source": [
    "# Racial Hate Crimes by Black Race"
   ]
  },
  {
   "cell_type": "code",
   "execution_count": 54,
   "id": "33871185",
   "metadata": {},
   "outputs": [
    {
     "data": {
      "text/plain": [
       "2560"
      ]
     },
     "execution_count": 54,
     "metadata": {},
     "output_type": "execute_result"
    }
   ],
   "source": [
    "blackBlack = newHateCrimeDF[(newHateCrimeDF[\"offender_race\"]=='Black or African American'\n",
    ")&(newHateCrimeDF[\"bias_desc\"] ==\"Anti-Black or African American\")].value_counts()\n",
    "\n",
    "blackBlackSum = blackBlack.sum() \n",
    "\n",
    "blackBlackSum"
   ]
  },
  {
   "cell_type": "code",
   "execution_count": 55,
   "id": "a5dde3f1",
   "metadata": {},
   "outputs": [
    {
     "data": {
      "text/plain": [
       "13691"
      ]
     },
     "execution_count": 55,
     "metadata": {},
     "output_type": "execute_result"
    }
   ],
   "source": [
    "blackWhite = newHateCrimeDF[(newHateCrimeDF[\"offender_race\"]=='Black or African American'\n",
    ")&(newHateCrimeDF[\"bias_desc\"] ==\"Anti-White\")].value_counts()\n",
    "\n",
    "blackWhiteSum = blackWhite.sum()\n",
    "\n",
    "blackWhiteSum"
   ]
  },
  {
   "cell_type": "code",
   "execution_count": 56,
   "id": "c8271ba8",
   "metadata": {},
   "outputs": [
    {
     "data": {
      "text/plain": [
       "2499"
      ]
     },
     "execution_count": 56,
     "metadata": {},
     "output_type": "execute_result"
    }
   ],
   "source": [
    "blackHispanic = newHateCrimeDF[(newHateCrimeDF[\"offender_race\"]=='Black or African American'\n",
    ")&(newHateCrimeDF[\"bias_desc\"] ==\"Anti-Hispanic or Latino\")].value_counts()\n",
    "\n",
    "blackHispanicSum = blackHispanic.sum()\n",
    "\n",
    "blackHispanicSum "
   ]
  },
  {
   "cell_type": "code",
   "execution_count": 57,
   "id": "4c5ceb22",
   "metadata": {},
   "outputs": [
    {
     "data": {
      "text/plain": [
       "1074"
      ]
     },
     "execution_count": 57,
     "metadata": {},
     "output_type": "execute_result"
    }
   ],
   "source": [
    "blackAsian = newHateCrimeDF[(newHateCrimeDF[\"offender_race\"]=='Black or African American'\n",
    ")&(newHateCrimeDF[\"bias_desc\"] ==\"Anti-Asian\")].value_counts()\n",
    "\n",
    "blackAsianSum = blackAsian.sum()\n",
    "\n",
    "blackAsianSum "
   ]
  },
  {
   "cell_type": "code",
   "execution_count": 58,
   "id": "b3c254dc",
   "metadata": {},
   "outputs": [
    {
     "data": {
      "text/plain": [
       "165"
      ]
     },
     "execution_count": 58,
     "metadata": {},
     "output_type": "execute_result"
    }
   ],
   "source": [
    "blackArab = newHateCrimeDF[(newHateCrimeDF[\"offender_race\"]=='Black or African American'\n",
    ")&(newHateCrimeDF[\"bias_desc\"] ==\"Anti-Arab\")].value_counts()\n",
    "\n",
    "blackArabSum = blackArab.sum()\n",
    "\n",
    "blackArabSum "
   ]
  },
  {
   "cell_type": "code",
   "execution_count": 59,
   "id": "df956a1e",
   "metadata": {},
   "outputs": [
    {
     "data": {
      "text/plain": [
       "29"
      ]
     },
     "execution_count": 59,
     "metadata": {},
     "output_type": "execute_result"
    }
   ],
   "source": [
    "blackPacific = newHateCrimeDF[(newHateCrimeDF[\"offender_race\"]=='Black or African American'\n",
    ")&(newHateCrimeDF[\"bias_desc\"] ==\"Anti-Native Hawaiian or Other Pacific Islander\")].value_counts()\n",
    "\n",
    "blackPacificSum = blackPacific.sum()\n",
    "\n",
    "blackPacificSum "
   ]
  },
  {
   "cell_type": "code",
   "execution_count": 60,
   "id": "5902a9e1",
   "metadata": {},
   "outputs": [
    {
     "data": {
      "text/plain": [
       "322"
      ]
     },
     "execution_count": 60,
     "metadata": {},
     "output_type": "execute_result"
    }
   ],
   "source": [
    "blackAmericanIn = newHateCrimeDF[(newHateCrimeDF[\"offender_race\"]=='Black or African American'\n",
    ")&(newHateCrimeDF[\"bias_desc\"] ==\"Anti-American Indian or Alaska Native\")].value_counts()\n",
    "\n",
    "blackAmericanInSum = blackAmericanIn.sum()\n",
    "\n",
    "blackAmericanInSum"
   ]
  },
  {
   "cell_type": "code",
   "execution_count": 61,
   "id": "fb09c858",
   "metadata": {},
   "outputs": [
    {
     "data": {
      "text/plain": [
       "1200"
      ]
     },
     "execution_count": 61,
     "metadata": {},
     "output_type": "execute_result"
    }
   ],
   "source": [
    "blackOther = newHateCrimeDF[(newHateCrimeDF[\"offender_race\"]=='Black or African American'\n",
    ")&(newHateCrimeDF[\"bias_desc\"] ==\"Anti-Other Race/Ethnicity/Ancestry\")].value_counts()\n",
    "\n",
    "blackOtherSum = blackOther.sum()\n",
    "\n",
    "blackOtherSum"
   ]
  },
  {
   "cell_type": "code",
   "execution_count": 62,
   "id": "ecda810f",
   "metadata": {},
   "outputs": [
    {
     "data": {
      "text/plain": [
       "343"
      ]
     },
     "execution_count": 62,
     "metadata": {},
     "output_type": "execute_result"
    }
   ],
   "source": [
    "blackMultiple = newHateCrimeDF[(newHateCrimeDF[\"offender_race\"]=='Black or African American'\n",
    ")&(newHateCrimeDF[\"bias_desc\"] ==\"Anti-Multiple Races, Group\")].value_counts()\n",
    "\n",
    "blackMultipleSum = blackMultiple.sum()\n",
    "\n",
    "blackMultipleSum"
   ]
  },
  {
   "cell_type": "code",
   "execution_count": 63,
   "id": "13bf9e53",
   "metadata": {},
   "outputs": [
    {
     "name": "stdout",
     "output_type": "stream",
     "text": [
      "21883\n"
     ]
    }
   ],
   "source": [
    "totalBlackOffensesRace = [blackBlackSum, blackWhiteSum, blackHispanicSum, blackAsianSum, blackArabSum, blackPacificSum, blackAmericanInSum, blackOtherSum, blackMultipleSum]\n",
    "totalBlack = sum(totalBlackOffensesRace)\n",
    "\n",
    "print(totalBlack)"
   ]
  },
  {
   "cell_type": "markdown",
   "id": "371688bf",
   "metadata": {},
   "source": [
    "# Racial Hate Crimes by White Race"
   ]
  },
  {
   "cell_type": "code",
   "execution_count": 64,
   "id": "579a55a5",
   "metadata": {},
   "outputs": [
    {
     "data": {
      "text/plain": [
       "0"
      ]
     },
     "execution_count": 64,
     "metadata": {},
     "output_type": "execute_result"
    }
   ],
   "source": [
    "whiteWhite = newHateCrimeDF[(newHateCrimeDF[\"offender_race\"]=='white'\n",
    ")&(newHateCrimeDF[\"bias_desc\"] ==\"Anti-White\")].value_counts()\n",
    "\n",
    "whiteWhiteSum = whiteWhite.sum()\n",
    "\n",
    "whiteWhiteSum"
   ]
  },
  {
   "cell_type": "code",
   "execution_count": 65,
   "id": "d4e04703",
   "metadata": {},
   "outputs": [
    {
     "data": {
      "text/plain": [
       "43578"
      ]
     },
     "execution_count": 65,
     "metadata": {},
     "output_type": "execute_result"
    }
   ],
   "source": [
    "whiteBlack = newHateCrimeDF[(newHateCrimeDF[\"offender_race\"]=='White'\n",
    ")&(newHateCrimeDF[\"bias_desc\"] ==\"Anti-Black or African American\")].value_counts()\n",
    "\n",
    "whiteBlackSum = whiteBlack.sum()\n",
    "\n",
    "whiteBlackSum"
   ]
  },
  {
   "cell_type": "code",
   "execution_count": 66,
   "id": "cebb8d43",
   "metadata": {},
   "outputs": [
    {
     "data": {
      "text/plain": [
       "8078"
      ]
     },
     "execution_count": 66,
     "metadata": {},
     "output_type": "execute_result"
    }
   ],
   "source": [
    "whiteHispanic = newHateCrimeDF[(newHateCrimeDF[\"offender_race\"]=='White'\n",
    ")&(newHateCrimeDF[\"bias_desc\"] =='Anti-Hispanic or Latino')].value_counts()\n",
    "\n",
    "whiteHispanicSum = whiteHispanic.sum()\n",
    "\n",
    "whiteHispanicSum"
   ]
  },
  {
   "cell_type": "code",
   "execution_count": 67,
   "id": "4d69408a",
   "metadata": {},
   "outputs": [
    {
     "data": {
      "text/plain": [
       "3132"
      ]
     },
     "execution_count": 67,
     "metadata": {},
     "output_type": "execute_result"
    }
   ],
   "source": [
    "whiteAsian = newHateCrimeDF[(newHateCrimeDF[\"offender_race\"]=='White'\n",
    ")&(newHateCrimeDF[\"bias_desc\"] =='Anti-Asian')].value_counts()\n",
    "\n",
    "whiteAsianSum = whiteAsian.sum()\n",
    "\n",
    "whiteAsianSum"
   ]
  },
  {
   "cell_type": "code",
   "execution_count": 68,
   "id": "61408c97",
   "metadata": {},
   "outputs": [
    {
     "data": {
      "text/plain": [
       "681"
      ]
     },
     "execution_count": 68,
     "metadata": {},
     "output_type": "execute_result"
    }
   ],
   "source": [
    "whiteArab = newHateCrimeDF[(newHateCrimeDF[\"offender_race\"]=='White'\n",
    ")&(newHateCrimeDF[\"bias_desc\"] =='Anti-Arab')].value_counts()\n",
    "\n",
    "whiteArabSum = whiteArab.sum()\n",
    "\n",
    "whiteArabSum"
   ]
  },
  {
   "cell_type": "code",
   "execution_count": 69,
   "id": "a102a149",
   "metadata": {},
   "outputs": [
    {
     "data": {
      "text/plain": [
       "71"
      ]
     },
     "execution_count": 69,
     "metadata": {},
     "output_type": "execute_result"
    }
   ],
   "source": [
    "whitePacific = newHateCrimeDF[(newHateCrimeDF[\"offender_race\"]=='White'\n",
    ")&(newHateCrimeDF[\"bias_desc\"] =='Anti-Native Hawaiian or Other Pacific Islander')].value_counts()\n",
    "\n",
    "whitePacificSum = whitePacific.sum()\n",
    "\n",
    "whitePacificSum"
   ]
  },
  {
   "cell_type": "code",
   "execution_count": 70,
   "id": "bc15c368",
   "metadata": {},
   "outputs": [
    {
     "data": {
      "text/plain": [
       "1199"
      ]
     },
     "execution_count": 70,
     "metadata": {},
     "output_type": "execute_result"
    }
   ],
   "source": [
    "whiteAmericanIn = newHateCrimeDF[(newHateCrimeDF[\"offender_race\"]=='White'\n",
    ")&(newHateCrimeDF[\"bias_desc\"] =='Anti-American Indian or Alaska Native')].value_counts()\n",
    "\n",
    "whiteAmericanInSum = whiteAmericanIn.sum()\n",
    "\n",
    "whiteAmericanInSum"
   ]
  },
  {
   "cell_type": "code",
   "execution_count": 71,
   "id": "1741b6c8",
   "metadata": {},
   "outputs": [
    {
     "data": {
      "text/plain": [
       "4607"
      ]
     },
     "execution_count": 71,
     "metadata": {},
     "output_type": "execute_result"
    }
   ],
   "source": [
    "whiteOther = newHateCrimeDF[(newHateCrimeDF[\"offender_race\"]=='White'\n",
    ")&(newHateCrimeDF[\"bias_desc\"] =='Anti-Other Race/Ethnicity/Ancestry')].value_counts()\n",
    "\n",
    "whiteOtherSum = whiteOther.sum()\n",
    "\n",
    "whiteOtherSum"
   ]
  },
  {
   "cell_type": "code",
   "execution_count": 72,
   "id": "43c6bfd1",
   "metadata": {},
   "outputs": [
    {
     "data": {
      "text/plain": [
       "1731"
      ]
     },
     "execution_count": 72,
     "metadata": {},
     "output_type": "execute_result"
    }
   ],
   "source": [
    "whiteMultiple = newHateCrimeDF[(newHateCrimeDF[\"offender_race\"]=='White'\n",
    ")&(newHateCrimeDF[\"bias_desc\"] =='Anti-Multiple Races, Group')].value_counts()\n",
    "\n",
    "whiteMultipleSum = whiteMultiple.sum()\n",
    "\n",
    "whiteMultipleSum"
   ]
  },
  {
   "cell_type": "code",
   "execution_count": 73,
   "id": "a3669853",
   "metadata": {},
   "outputs": [
    {
     "name": "stdout",
     "output_type": "stream",
     "text": [
      "63077\n"
     ]
    }
   ],
   "source": [
    "totalWhiteOffensesRace = [whiteWhiteSum, whiteBlackSum, whiteHispanicSum, whiteAsianSum, whiteArabSum, whitePacificSum, whiteAmericanInSum, whiteOtherSum, whiteMultipleSum]\n",
    "totalWhite = sum(totalWhiteOffensesRace)\n",
    "\n",
    "print(totalWhite)"
   ]
  },
  {
   "cell_type": "markdown",
   "id": "29c756a2",
   "metadata": {},
   "source": [
    "# Racial Hate Crimes by Asian Race"
   ]
  },
  {
   "cell_type": "code",
   "execution_count": 74,
   "id": "2f63ce23",
   "metadata": {},
   "outputs": [
    {
     "data": {
      "text/plain": [
       "557"
      ]
     },
     "execution_count": 74,
     "metadata": {},
     "output_type": "execute_result"
    }
   ],
   "source": [
    "asianBlack = newHateCrimeDF[(newHateCrimeDF[\"offender_race\"]=='Asian'\n",
    ")&(newHateCrimeDF[\"bias_desc\"] ==\"Anti-Black or African American\")].value_counts()\n",
    "\n",
    "asianBlackSum = asianBlack.sum() \n",
    "\n",
    "asianBlackSum"
   ]
  },
  {
   "cell_type": "code",
   "execution_count": 75,
   "id": "e934831f",
   "metadata": {},
   "outputs": [
    {
     "data": {
      "text/plain": [
       "253"
      ]
     },
     "execution_count": 75,
     "metadata": {},
     "output_type": "execute_result"
    }
   ],
   "source": [
    "asianWhite = newHateCrimeDF[(newHateCrimeDF[\"offender_race\"]=='Asian'\n",
    ")&(newHateCrimeDF[\"bias_desc\"] ==\"Anti-White\")].value_counts()\n",
    "\n",
    "asianWhiteSum = asianWhite.sum() \n",
    "\n",
    "asianWhiteSum"
   ]
  },
  {
   "cell_type": "code",
   "execution_count": 76,
   "id": "73442bce",
   "metadata": {},
   "outputs": [
    {
     "data": {
      "text/plain": [
       "163"
      ]
     },
     "execution_count": 76,
     "metadata": {},
     "output_type": "execute_result"
    }
   ],
   "source": [
    "asianAsian = newHateCrimeDF[(newHateCrimeDF[\"offender_race\"]=='Asian'\n",
    ")&(newHateCrimeDF[\"bias_desc\"] ==\"Anti-Asian\")].value_counts()\n",
    "\n",
    "asianAsianSum = asianAsian.sum() \n",
    "\n",
    "asianAsianSum"
   ]
  },
  {
   "cell_type": "code",
   "execution_count": 77,
   "id": "8ce70762",
   "metadata": {},
   "outputs": [
    {
     "data": {
      "text/plain": [
       "10"
      ]
     },
     "execution_count": 77,
     "metadata": {},
     "output_type": "execute_result"
    }
   ],
   "source": [
    "asianArab = newHateCrimeDF[(newHateCrimeDF[\"offender_race\"]=='Asian'\n",
    ")&(newHateCrimeDF[\"bias_desc\"] ==\"Anti-Arab\")].value_counts()\n",
    "\n",
    "asianArabSum = asianArab.sum() \n",
    "\n",
    "asianArabSum"
   ]
  },
  {
   "cell_type": "code",
   "execution_count": 78,
   "id": "566245d3",
   "metadata": {},
   "outputs": [
    {
     "data": {
      "text/plain": [
       "137"
      ]
     },
     "execution_count": 78,
     "metadata": {},
     "output_type": "execute_result"
    }
   ],
   "source": [
    "asianHispanic = newHateCrimeDF[(newHateCrimeDF[\"offender_race\"]=='Asian'\n",
    ")&(newHateCrimeDF[\"bias_desc\"] ==\"Anti-Hispanic or Latino\")].value_counts()\n",
    "\n",
    "asianHispanicSum = asianHispanic.sum() \n",
    "\n",
    "asianHispanicSum"
   ]
  },
  {
   "cell_type": "code",
   "execution_count": 79,
   "id": "0ef2edef",
   "metadata": {},
   "outputs": [
    {
     "data": {
      "text/plain": [
       "1"
      ]
     },
     "execution_count": 79,
     "metadata": {},
     "output_type": "execute_result"
    }
   ],
   "source": [
    "asianPacific = newHateCrimeDF[(newHateCrimeDF[\"offender_race\"]=='Asian'\n",
    ")&(newHateCrimeDF[\"bias_desc\"] ==\"Anti-Native Hawaiian or Other Pacific Islander\")].value_counts()\n",
    "\n",
    "asianPacificSum = asianPacific.sum() \n",
    "\n",
    "asianPacificSum"
   ]
  },
  {
   "cell_type": "code",
   "execution_count": 80,
   "id": "9c2f1eda",
   "metadata": {},
   "outputs": [
    {
     "data": {
      "text/plain": [
       "24"
      ]
     },
     "execution_count": 80,
     "metadata": {},
     "output_type": "execute_result"
    }
   ],
   "source": [
    "asianAmericanIn = newHateCrimeDF[(newHateCrimeDF[\"offender_race\"]=='Asian'\n",
    ")&(newHateCrimeDF[\"bias_desc\"] ==\"Anti-American Indian or Alaska Native\")].value_counts()\n",
    "\n",
    "asianAmericanInSum = asianAmericanIn.sum() \n",
    "\n",
    "asianAmericanInSum"
   ]
  },
  {
   "cell_type": "code",
   "execution_count": 81,
   "id": "b058d600",
   "metadata": {},
   "outputs": [
    {
     "data": {
      "text/plain": [
       "121"
      ]
     },
     "execution_count": 81,
     "metadata": {},
     "output_type": "execute_result"
    }
   ],
   "source": [
    "asianOther = newHateCrimeDF[(newHateCrimeDF[\"offender_race\"]=='Asian'\n",
    ")&(newHateCrimeDF[\"bias_desc\"] ==\"Anti-Other Race/Ethnicity/Ancestry\")].value_counts()\n",
    "\n",
    "asianOtherSum = asianOther.sum() \n",
    "\n",
    "asianOtherSum"
   ]
  },
  {
   "cell_type": "code",
   "execution_count": 82,
   "id": "125bf28d",
   "metadata": {},
   "outputs": [
    {
     "data": {
      "text/plain": [
       "24"
      ]
     },
     "execution_count": 82,
     "metadata": {},
     "output_type": "execute_result"
    }
   ],
   "source": [
    "asianMultiple = newHateCrimeDF[(newHateCrimeDF[\"offender_race\"]=='Asian'\n",
    ")&(newHateCrimeDF[\"bias_desc\"] ==\"Anti-Multiple Races, Group\")].value_counts()\n",
    "\n",
    "asianMultipleSum = asianMultiple.sum() \n",
    "\n",
    "asianMultipleSum"
   ]
  },
  {
   "cell_type": "code",
   "execution_count": 83,
   "id": "1cda0abd",
   "metadata": {},
   "outputs": [
    {
     "name": "stdout",
     "output_type": "stream",
     "text": [
      "1290\n"
     ]
    }
   ],
   "source": [
    "totalAsianOffensesRace = [asianBlackSum, asianWhiteSum, asianAsianSum, asianArabSum, asianHispanicSum, asianPacificSum, asianAmericanInSum, asianOtherSum, asianMultipleSum]\n",
    "totalAsian = sum(totalAsianOffensesRace)\n",
    "\n",
    "print(totalAsian)"
   ]
  },
  {
   "cell_type": "markdown",
   "id": "1f544b82",
   "metadata": {},
   "source": [
    "# Racial Hate Crimes by American Indian or Alaska Native"
   ]
  },
  {
   "cell_type": "code",
   "execution_count": 84,
   "id": "9d04091c",
   "metadata": {},
   "outputs": [
    {
     "data": {
      "text/plain": [
       "306"
      ]
     },
     "execution_count": 84,
     "metadata": {},
     "output_type": "execute_result"
    }
   ],
   "source": [
    "nativeBlack = newHateCrimeDF[(newHateCrimeDF[\"offender_race\"]=='American Indian or Alaska Native'\n",
    ")&(newHateCrimeDF[\"bias_desc\"] ==\"Anti-Black or African American\")].value_counts()\n",
    "\n",
    "nativeBlackSum = nativeBlack.sum() \n",
    "\n",
    "nativeBlackSum"
   ]
  },
  {
   "cell_type": "code",
   "execution_count": 85,
   "id": "1c03421c",
   "metadata": {},
   "outputs": [
    {
     "data": {
      "text/plain": [
       "410"
      ]
     },
     "execution_count": 85,
     "metadata": {},
     "output_type": "execute_result"
    }
   ],
   "source": [
    "nativeWhite = newHateCrimeDF[(newHateCrimeDF[\"offender_race\"]=='American Indian or Alaska Native'\n",
    ")&(newHateCrimeDF[\"bias_desc\"] ==\"Anti-White\")].value_counts()\n",
    "\n",
    "nativeWhiteSum = nativeWhite.sum() \n",
    "\n",
    "nativeWhiteSum"
   ]
  },
  {
   "cell_type": "code",
   "execution_count": 86,
   "id": "f26af842",
   "metadata": {},
   "outputs": [
    {
     "data": {
      "text/plain": [
       "37"
      ]
     },
     "execution_count": 86,
     "metadata": {},
     "output_type": "execute_result"
    }
   ],
   "source": [
    "nativeAsian = newHateCrimeDF[(newHateCrimeDF[\"offender_race\"]=='American Indian or Alaska Native'\n",
    ")&(newHateCrimeDF[\"bias_desc\"] ==\"Anti-Asian\")].value_counts()\n",
    "\n",
    "nativeAsianSum = nativeAsian.sum() \n",
    "\n",
    "nativeAsianSum"
   ]
  },
  {
   "cell_type": "code",
   "execution_count": 87,
   "id": "20bc3872",
   "metadata": {},
   "outputs": [
    {
     "data": {
      "text/plain": [
       "2"
      ]
     },
     "execution_count": 87,
     "metadata": {},
     "output_type": "execute_result"
    }
   ],
   "source": [
    "nativeArab = newHateCrimeDF[(newHateCrimeDF[\"offender_race\"]=='American Indian or Alaska Native'\n",
    ")&(newHateCrimeDF[\"bias_desc\"] ==\"Anti-Arab\")].value_counts()\n",
    "\n",
    "nativeArabSum = nativeArab.sum() \n",
    "\n",
    "nativeArabSum"
   ]
  },
  {
   "cell_type": "code",
   "execution_count": 88,
   "id": "e8b23aee",
   "metadata": {},
   "outputs": [
    {
     "data": {
      "text/plain": [
       "0"
      ]
     },
     "execution_count": 88,
     "metadata": {},
     "output_type": "execute_result"
    }
   ],
   "source": [
    "nativeNative = newHateCrimeDF[(newHateCrimeDF[\"offender_race\"]=='American Indian or Alaska Native'\n",
    ")&(newHateCrimeDF[\"bias_desc\"] ==\"American Indian or Alaska Native\")].value_counts()\n",
    "\n",
    "nativeNativeSum = nativeNative.sum() \n",
    "\n",
    "nativeNativeSum"
   ]
  },
  {
   "cell_type": "code",
   "execution_count": 89,
   "id": "ddf2fc29",
   "metadata": {},
   "outputs": [
    {
     "data": {
      "text/plain": [
       "130"
      ]
     },
     "execution_count": 89,
     "metadata": {},
     "output_type": "execute_result"
    }
   ],
   "source": [
    "nativeHispanic = newHateCrimeDF[(newHateCrimeDF[\"offender_race\"]=='American Indian or Alaska Native'\n",
    ")&(newHateCrimeDF[\"bias_desc\"] ==\"Anti-Hispanic or Latino\")].value_counts()\n",
    "\n",
    "nativeHispanicSum = nativeHispanic.sum() \n",
    "\n",
    "nativeHispanicSum"
   ]
  },
  {
   "cell_type": "code",
   "execution_count": 90,
   "id": "e7a971f5",
   "metadata": {},
   "outputs": [
    {
     "data": {
      "text/plain": [
       "1"
      ]
     },
     "execution_count": 90,
     "metadata": {},
     "output_type": "execute_result"
    }
   ],
   "source": [
    "nativePacific = newHateCrimeDF[(newHateCrimeDF[\"offender_race\"]=='American Indian or Alaska Native'\n",
    ")&(newHateCrimeDF[\"bias_desc\"] ==\"Anti-Native Hawaiian or Other Pacific Islander\")].value_counts()\n",
    "\n",
    "nativePacificSum = nativePacific.sum() \n",
    "\n",
    "nativePacificSum"
   ]
  },
  {
   "cell_type": "code",
   "execution_count": 91,
   "id": "ab3544a7",
   "metadata": {},
   "outputs": [
    {
     "data": {
      "text/plain": [
       "17"
      ]
     },
     "execution_count": 91,
     "metadata": {},
     "output_type": "execute_result"
    }
   ],
   "source": [
    "nativeMultiple = newHateCrimeDF[(newHateCrimeDF[\"offender_race\"]=='American Indian or Alaska Native'\n",
    ")&(newHateCrimeDF[\"bias_desc\"] ==\"Anti-Multiple Races, Group\")].value_counts()\n",
    "\n",
    "nativeMultipleSum = nativeMultiple.sum() \n",
    "\n",
    "nativeMultipleSum"
   ]
  },
  {
   "cell_type": "code",
   "execution_count": 92,
   "id": "f585401f",
   "metadata": {},
   "outputs": [
    {
     "data": {
      "text/plain": [
       "56"
      ]
     },
     "execution_count": 92,
     "metadata": {},
     "output_type": "execute_result"
    }
   ],
   "source": [
    "nativeOther = newHateCrimeDF[(newHateCrimeDF[\"offender_race\"]=='American Indian or Alaska Native'\n",
    ")&(newHateCrimeDF[\"bias_desc\"] ==\"Anti-Other Race/Ethnicity/Ancestry\")].value_counts()\n",
    "\n",
    "nativeOtherSum = nativeOther.sum() \n",
    "\n",
    "nativeOtherSum"
   ]
  },
  {
   "cell_type": "code",
   "execution_count": 93,
   "id": "4c3a09df",
   "metadata": {},
   "outputs": [
    {
     "name": "stdout",
     "output_type": "stream",
     "text": [
      "959\n"
     ]
    }
   ],
   "source": [
    "totalNativeOffensesRace = [nativeBlackSum, nativeWhiteSum, nativeAsianSum, nativeArabSum, nativeNativeSum, nativeHispanicSum, nativePacificSum, nativeMultipleSum, nativeOtherSum]\n",
    "totalNative = sum(totalNativeOffensesRace)\n",
    "\n",
    "print(totalNative)"
   ]
  },
  {
   "cell_type": "markdown",
   "id": "19ec1d91",
   "metadata": {},
   "source": [
    "# Racial Hate Crimes by Native Hawaiian or Other Pacific Islander"
   ]
  },
  {
   "cell_type": "code",
   "execution_count": 94,
   "id": "2af998d9",
   "metadata": {},
   "outputs": [
    {
     "data": {
      "text/plain": [
       "10"
      ]
     },
     "execution_count": 94,
     "metadata": {},
     "output_type": "execute_result"
    }
   ],
   "source": [
    "pacificHispanic = newHateCrimeDF[(newHateCrimeDF[\"offender_race\"]=='Native Hawaiian or Other Pacific Islander'\n",
    ")&(newHateCrimeDF[\"bias_desc\"] ==\"Anti-Hispanic or Latino\")].value_counts()\n",
    "\n",
    "pacificHispanicSum = pacificHispanic.sum() \n",
    "\n",
    "pacificHispanicSum"
   ]
  },
  {
   "cell_type": "code",
   "execution_count": 95,
   "id": "6365cc02",
   "metadata": {},
   "outputs": [
    {
     "data": {
      "text/plain": [
       "39"
      ]
     },
     "execution_count": 95,
     "metadata": {},
     "output_type": "execute_result"
    }
   ],
   "source": [
    "pacificWhite = newHateCrimeDF[(newHateCrimeDF[\"offender_race\"]=='Native Hawaiian or Other Pacific Islander'\n",
    ")&(newHateCrimeDF[\"bias_desc\"] ==\"Anti-White\")].value_counts()\n",
    "\n",
    "pacificWhiteSum = pacificWhite.sum() \n",
    "\n",
    "pacificWhiteSum"
   ]
  },
  {
   "cell_type": "code",
   "execution_count": 96,
   "id": "a6fdba55",
   "metadata": {},
   "outputs": [
    {
     "data": {
      "text/plain": [
       "25"
      ]
     },
     "execution_count": 96,
     "metadata": {},
     "output_type": "execute_result"
    }
   ],
   "source": [
    "pacificBlack = newHateCrimeDF[(newHateCrimeDF[\"offender_race\"]=='Native Hawaiian or Other Pacific Islander'\n",
    ")&(newHateCrimeDF[\"bias_desc\"] ==\"Anti-Black or African American\")].value_counts()\n",
    "\n",
    "pacificBlackSum = pacificBlack.sum() \n",
    "\n",
    "pacificBlackSum"
   ]
  },
  {
   "cell_type": "code",
   "execution_count": 97,
   "id": "5577e1b3",
   "metadata": {},
   "outputs": [
    {
     "data": {
      "text/plain": [
       "7"
      ]
     },
     "execution_count": 97,
     "metadata": {},
     "output_type": "execute_result"
    }
   ],
   "source": [
    "pacificAsian = newHateCrimeDF[(newHateCrimeDF[\"offender_race\"]=='Native Hawaiian or Other Pacific Islander'\n",
    ")&(newHateCrimeDF[\"bias_desc\"] ==\"Anti-Asian\")].value_counts()\n",
    "\n",
    "pacificAsianSum = pacificAsian.sum() \n",
    "\n",
    "pacificAsianSum"
   ]
  },
  {
   "cell_type": "code",
   "execution_count": 98,
   "id": "d22b8f5a",
   "metadata": {},
   "outputs": [
    {
     "data": {
      "text/plain": [
       "0"
      ]
     },
     "execution_count": 98,
     "metadata": {},
     "output_type": "execute_result"
    }
   ],
   "source": [
    "pacificArab = newHateCrimeDF[(newHateCrimeDF[\"offender_race\"]=='Native Hawaiian or Other Pacific Islander'\n",
    ")&(newHateCrimeDF[\"bias_desc\"] ==\"Anti-Arab\")].value_counts()\n",
    "\n",
    "pacificArabSum = pacificArab.sum() \n",
    "\n",
    "pacificArabSum"
   ]
  },
  {
   "cell_type": "code",
   "execution_count": 99,
   "id": "b06fbd21",
   "metadata": {},
   "outputs": [
    {
     "data": {
      "text/plain": [
       "4"
      ]
     },
     "execution_count": 99,
     "metadata": {},
     "output_type": "execute_result"
    }
   ],
   "source": [
    "pacificPacific = newHateCrimeDF[(newHateCrimeDF[\"offender_race\"]=='Native Hawaiian or Other Pacific Islander'\n",
    ")&(newHateCrimeDF[\"bias_desc\"] ==\"Anti-Native Hawaiian or Other Pacific Islander\")].value_counts()\n",
    "\n",
    "pacificPacificSum = pacificPacific.sum() \n",
    "\n",
    "pacificPacificSum"
   ]
  },
  {
   "cell_type": "code",
   "execution_count": 100,
   "id": "bb0c2918",
   "metadata": {},
   "outputs": [
    {
     "data": {
      "text/plain": [
       "1"
      ]
     },
     "execution_count": 100,
     "metadata": {},
     "output_type": "execute_result"
    }
   ],
   "source": [
    "pacificNative = newHateCrimeDF[(newHateCrimeDF[\"offender_race\"]=='Native Hawaiian or Other Pacific Islander'\n",
    ")&(newHateCrimeDF[\"bias_desc\"] ==\"Anti-American Indian or Alaska Native\")].value_counts()\n",
    "\n",
    "pacificNativeSum = pacificNative.sum() \n",
    "\n",
    "pacificNativeSum"
   ]
  },
  {
   "cell_type": "code",
   "execution_count": 101,
   "id": "9e0e7c7e",
   "metadata": {},
   "outputs": [
    {
     "data": {
      "text/plain": [
       "2"
      ]
     },
     "execution_count": 101,
     "metadata": {},
     "output_type": "execute_result"
    }
   ],
   "source": [
    "pacificOther = newHateCrimeDF[(newHateCrimeDF[\"offender_race\"]=='Native Hawaiian or Other Pacific Islander'\n",
    ")&(newHateCrimeDF[\"bias_desc\"] ==\"Anti-Other Race/Ethnicity/Ancestry\")].value_counts()\n",
    "\n",
    "pacificOtherSum = pacificOther.sum() \n",
    "\n",
    "pacificOtherSum"
   ]
  },
  {
   "cell_type": "code",
   "execution_count": 102,
   "id": "201d6c4e",
   "metadata": {},
   "outputs": [
    {
     "data": {
      "text/plain": [
       "2"
      ]
     },
     "execution_count": 102,
     "metadata": {},
     "output_type": "execute_result"
    }
   ],
   "source": [
    "pacificMultiple = newHateCrimeDF[(newHateCrimeDF[\"offender_race\"]=='Native Hawaiian or Other Pacific Islander'\n",
    ")&(newHateCrimeDF[\"bias_desc\"] ==\"Anti-Multiple Races, Group\")].value_counts()\n",
    "\n",
    "pacificMultipleSum = pacificMultiple.sum() \n",
    "\n",
    "pacificMultipleSum"
   ]
  },
  {
   "cell_type": "code",
   "execution_count": 103,
   "id": "023d73d9",
   "metadata": {},
   "outputs": [
    {
     "name": "stdout",
     "output_type": "stream",
     "text": [
      "90\n"
     ]
    }
   ],
   "source": [
    "totalPacificOffensesRace = [pacificHispanicSum, pacificWhiteSum, pacificBlackSum, pacificAsianSum, pacificArabSum, pacificOtherSum, pacificPacificSum, pacificMultipleSum, pacificNativeSum]\n",
    "totalPacific = sum(totalPacificOffensesRace)\n",
    "\n",
    "print(totalPacific)"
   ]
  },
  {
   "cell_type": "markdown",
   "id": "026ba47a",
   "metadata": {},
   "source": [
    "# Racial Hate Crimes by Multiple "
   ]
  },
  {
   "cell_type": "code",
   "execution_count": 104,
   "id": "d8e4cad4",
   "metadata": {},
   "outputs": [
    {
     "data": {
      "text/plain": [
       "283"
      ]
     },
     "execution_count": 104,
     "metadata": {},
     "output_type": "execute_result"
    }
   ],
   "source": [
    "multipleHispanic = newHateCrimeDF[(newHateCrimeDF[\"offender_race\"]=='Multiple'\n",
    ")&(newHateCrimeDF[\"bias_desc\"] ==\"Anti-Hispanic or Latino\")].value_counts()\n",
    "\n",
    "multipleHispanicSum = multipleHispanic.sum() \n",
    "\n",
    "multipleHispanicSum"
   ]
  },
  {
   "cell_type": "code",
   "execution_count": 105,
   "id": "aacee21d",
   "metadata": {},
   "outputs": [
    {
     "data": {
      "text/plain": [
       "641"
      ]
     },
     "execution_count": 105,
     "metadata": {},
     "output_type": "execute_result"
    }
   ],
   "source": [
    "multipleWhite = newHateCrimeDF[(newHateCrimeDF[\"offender_race\"]=='Multiple'\n",
    ")&(newHateCrimeDF[\"bias_desc\"] ==\"Anti-White\")].value_counts()\n",
    "\n",
    "multipleWhiteSum = multipleWhite.sum() \n",
    "\n",
    "multipleWhiteSum"
   ]
  },
  {
   "cell_type": "code",
   "execution_count": 106,
   "id": "c1c7c6ba",
   "metadata": {},
   "outputs": [
    {
     "data": {
      "text/plain": [
       "1522"
      ]
     },
     "execution_count": 106,
     "metadata": {},
     "output_type": "execute_result"
    }
   ],
   "source": [
    "multipleBlack = newHateCrimeDF[(newHateCrimeDF[\"offender_race\"]=='Multiple'\n",
    ")&(newHateCrimeDF[\"bias_desc\"] ==\"Anti-Black or African American\")].value_counts()\n",
    "\n",
    "multipleBlackSum = multipleBlack.sum() \n",
    "\n",
    "multipleBlackSum"
   ]
  },
  {
   "cell_type": "code",
   "execution_count": 107,
   "id": "57fdee65",
   "metadata": {},
   "outputs": [
    {
     "data": {
      "text/plain": [
       "163"
      ]
     },
     "execution_count": 107,
     "metadata": {},
     "output_type": "execute_result"
    }
   ],
   "source": [
    "multipleAsian = newHateCrimeDF[(newHateCrimeDF[\"offender_race\"]=='Multiple'\n",
    ")&(newHateCrimeDF[\"bias_desc\"] ==\"Anti-Asian\")].value_counts()\n",
    "\n",
    "multipleAsianSum = multipleAsian.sum() \n",
    "\n",
    "multipleAsianSum"
   ]
  },
  {
   "cell_type": "code",
   "execution_count": 108,
   "id": "127d863d",
   "metadata": {},
   "outputs": [
    {
     "data": {
      "text/plain": [
       "170"
      ]
     },
     "execution_count": 108,
     "metadata": {},
     "output_type": "execute_result"
    }
   ],
   "source": [
    "multipleMultiple = newHateCrimeDF[(newHateCrimeDF[\"offender_race\"]=='Multiple'\n",
    ")&(newHateCrimeDF[\"bias_desc\"] ==\"Anti-Multiple Races, Group\")].value_counts()\n",
    "\n",
    "multipleMultipleSum = multipleMultiple.sum() \n",
    "\n",
    "multipleMultipleSum"
   ]
  },
  {
   "cell_type": "code",
   "execution_count": 109,
   "id": "4e23e962",
   "metadata": {},
   "outputs": [
    {
     "data": {
      "text/plain": [
       "25"
      ]
     },
     "execution_count": 109,
     "metadata": {},
     "output_type": "execute_result"
    }
   ],
   "source": [
    "multipleArab = newHateCrimeDF[(newHateCrimeDF[\"offender_race\"]=='Multiple'\n",
    ")&(newHateCrimeDF[\"bias_desc\"] ==\"Anti-Arab\")].value_counts()\n",
    "\n",
    "multipleArabSum = multipleArab.sum() \n",
    "\n",
    "multipleArabSum"
   ]
  },
  {
   "cell_type": "code",
   "execution_count": 110,
   "id": "0c4b859b",
   "metadata": {},
   "outputs": [
    {
     "data": {
      "text/plain": [
       "2"
      ]
     },
     "execution_count": 110,
     "metadata": {},
     "output_type": "execute_result"
    }
   ],
   "source": [
    "multiplePacific = newHateCrimeDF[(newHateCrimeDF[\"offender_race\"]=='Multiple'\n",
    ")&(newHateCrimeDF[\"bias_desc\"] ==\"Anti-Native Hawaiian or Other Pacific Islander\")].value_counts()\n",
    "\n",
    "multiplePacificSum = multiplePacific.sum() \n",
    "\n",
    "multiplePacificSum"
   ]
  },
  {
   "cell_type": "code",
   "execution_count": 111,
   "id": "1b68c8f2",
   "metadata": {},
   "outputs": [
    {
     "data": {
      "text/plain": [
       "50"
      ]
     },
     "execution_count": 111,
     "metadata": {},
     "output_type": "execute_result"
    }
   ],
   "source": [
    "multipleNative = newHateCrimeDF[(newHateCrimeDF[\"offender_race\"]=='Multiple'\n",
    ")&(newHateCrimeDF[\"bias_desc\"] ==\"Anti-American Indian or Alaska Native\")].value_counts()\n",
    "\n",
    "multipleNativeSum = multipleNative.sum() \n",
    "\n",
    "multipleNativeSum"
   ]
  },
  {
   "cell_type": "code",
   "execution_count": 112,
   "id": "73e3b4e1",
   "metadata": {},
   "outputs": [
    {
     "data": {
      "text/plain": [
       "230"
      ]
     },
     "execution_count": 112,
     "metadata": {},
     "output_type": "execute_result"
    }
   ],
   "source": [
    "multipleOther = newHateCrimeDF[(newHateCrimeDF[\"offender_race\"]=='Multiple'\n",
    ")&(newHateCrimeDF[\"bias_desc\"] ==\"Anti-Other Race/Ethnicity/Ancestry\")].value_counts()\n",
    "\n",
    "multipleOtherSum = multipleOther.sum() \n",
    "\n",
    "multipleOtherSum"
   ]
  },
  {
   "cell_type": "code",
   "execution_count": 113,
   "id": "30d6e4ef",
   "metadata": {},
   "outputs": [
    {
     "name": "stdout",
     "output_type": "stream",
     "text": [
      "2857\n"
     ]
    }
   ],
   "source": [
    "totalMultipleOffensesRace = [multipleHispanicSum, multipleBlackSum, multipleWhiteSum, multipleAsianSum, multipleMultipleSum, multipleArabSum, multiplePacificSum, multipleNativeSum, pacificNativeSum]\n",
    "totalMultiple = sum(totalMultipleOffensesRace)\n",
    "\n",
    "print(totalMultiple)"
   ]
  },
  {
   "cell_type": "code",
   "execution_count": 114,
   "id": "7e2a0487",
   "metadata": {},
   "outputs": [
    {
     "data": {
      "text/html": [
       "<div>\n",
       "<style scoped>\n",
       "    .dataframe tbody tr th:only-of-type {\n",
       "        vertical-align: middle;\n",
       "    }\n",
       "\n",
       "    .dataframe tbody tr th {\n",
       "        vertical-align: top;\n",
       "    }\n",
       "\n",
       "    .dataframe thead th {\n",
       "        text-align: right;\n",
       "    }\n",
       "</style>\n",
       "<table border=\"1\" class=\"dataframe\">\n",
       "  <thead>\n",
       "    <tr style=\"text-align: right;\">\n",
       "      <th></th>\n",
       "      <th>Offender Race</th>\n",
       "      <th>Anti-Black</th>\n",
       "      <th>Anti-White</th>\n",
       "      <th>Anti-Asian</th>\n",
       "      <th>Anti-Arab</th>\n",
       "      <th>Anti-Hispanic</th>\n",
       "      <th>Anti-Native</th>\n",
       "      <th>Anti-Islander</th>\n",
       "      <th>Anti-Multiple</th>\n",
       "      <th>Anti-Other</th>\n",
       "      <th>Total Offenses Per Race</th>\n",
       "    </tr>\n",
       "    <tr>\n",
       "      <th>Offender Race</th>\n",
       "      <th></th>\n",
       "      <th></th>\n",
       "      <th></th>\n",
       "      <th></th>\n",
       "      <th></th>\n",
       "      <th></th>\n",
       "      <th></th>\n",
       "      <th></th>\n",
       "      <th></th>\n",
       "      <th></th>\n",
       "      <th></th>\n",
       "    </tr>\n",
       "  </thead>\n",
       "  <tbody>\n",
       "    <tr>\n",
       "      <th>White</th>\n",
       "      <td>White</td>\n",
       "      <td>43578</td>\n",
       "      <td>0</td>\n",
       "      <td>3132</td>\n",
       "      <td>681</td>\n",
       "      <td>8078</td>\n",
       "      <td>1199</td>\n",
       "      <td>71</td>\n",
       "      <td>1731</td>\n",
       "      <td>4607</td>\n",
       "      <td>63077</td>\n",
       "    </tr>\n",
       "    <tr>\n",
       "      <th>Black</th>\n",
       "      <td>Black</td>\n",
       "      <td>2560</td>\n",
       "      <td>13691</td>\n",
       "      <td>1074</td>\n",
       "      <td>165</td>\n",
       "      <td>2499</td>\n",
       "      <td>322</td>\n",
       "      <td>29</td>\n",
       "      <td>343</td>\n",
       "      <td>1200</td>\n",
       "      <td>21883</td>\n",
       "    </tr>\n",
       "    <tr>\n",
       "      <th>Asian</th>\n",
       "      <td>Asian</td>\n",
       "      <td>557</td>\n",
       "      <td>253</td>\n",
       "      <td>163</td>\n",
       "      <td>10</td>\n",
       "      <td>137</td>\n",
       "      <td>24</td>\n",
       "      <td>1</td>\n",
       "      <td>24</td>\n",
       "      <td>121</td>\n",
       "      <td>1290</td>\n",
       "    </tr>\n",
       "    <tr>\n",
       "      <th>Native</th>\n",
       "      <td>Native</td>\n",
       "      <td>306</td>\n",
       "      <td>410</td>\n",
       "      <td>37</td>\n",
       "      <td>2</td>\n",
       "      <td>130</td>\n",
       "      <td>0</td>\n",
       "      <td>1</td>\n",
       "      <td>17</td>\n",
       "      <td>56</td>\n",
       "      <td>959</td>\n",
       "    </tr>\n",
       "    <tr>\n",
       "      <th>Islander</th>\n",
       "      <td>Islander</td>\n",
       "      <td>25</td>\n",
       "      <td>39</td>\n",
       "      <td>7</td>\n",
       "      <td>0</td>\n",
       "      <td>10</td>\n",
       "      <td>1</td>\n",
       "      <td>4</td>\n",
       "      <td>2</td>\n",
       "      <td>2</td>\n",
       "      <td>90</td>\n",
       "    </tr>\n",
       "    <tr>\n",
       "      <th>Multiple</th>\n",
       "      <td>Multiple</td>\n",
       "      <td>1522</td>\n",
       "      <td>641</td>\n",
       "      <td>163</td>\n",
       "      <td>25</td>\n",
       "      <td>283</td>\n",
       "      <td>50</td>\n",
       "      <td>2</td>\n",
       "      <td>170</td>\n",
       "      <td>230</td>\n",
       "      <td>2857</td>\n",
       "    </tr>\n",
       "  </tbody>\n",
       "</table>\n",
       "</div>"
      ],
      "text/plain": [
       "              Offender Race  Anti-Black  Anti-White  Anti-Asian  Anti-Arab  \\\n",
       "Offender Race                                                                \n",
       "White                 White       43578           0        3132        681   \n",
       "Black                 Black        2560       13691        1074        165   \n",
       "Asian                 Asian         557         253         163         10   \n",
       "Native               Native         306         410          37          2   \n",
       "Islander           Islander          25          39           7          0   \n",
       "Multiple           Multiple        1522         641         163         25   \n",
       "\n",
       "               Anti-Hispanic  Anti-Native  Anti-Islander  Anti-Multiple  \\\n",
       "Offender Race                                                             \n",
       "White                   8078         1199             71           1731   \n",
       "Black                   2499          322             29            343   \n",
       "Asian                    137           24              1             24   \n",
       "Native                   130            0              1             17   \n",
       "Islander                  10            1              4              2   \n",
       "Multiple                 283           50              2            170   \n",
       "\n",
       "               Anti-Other  Total Offenses Per Race  \n",
       "Offender Race                                       \n",
       "White                4607                    63077  \n",
       "Black                1200                    21883  \n",
       "Asian                 121                     1290  \n",
       "Native                 56                      959  \n",
       "Islander                2                       90  \n",
       "Multiple              230                     2857  "
      ]
     },
     "execution_count": 114,
     "metadata": {},
     "output_type": "execute_result"
    }
   ],
   "source": [
    "#create a new dataframe with offender race and a count of bias type\n",
    "raceBiasDICT= {\n",
    "     \"Offender Race\":[\"White\", \"Black\", \"Asian\", \"Native\", \"Islander\", \"Multiple\"],\n",
    "    \"Anti-Black\": (whiteBlackSum, blackBlackSum, asianBlackSum, nativeBlackSum, pacificBlackSum, multipleBlackSum),\n",
    "    \"Anti-White\": (whiteWhiteSum, blackWhiteSum, asianWhiteSum, nativeWhiteSum, pacificWhiteSum, multipleWhiteSum),\n",
    "    \"Anti-Asian\": (whiteAsianSum, blackAsianSum, asianAsianSum, nativeAsianSum, pacificAsianSum, multipleAsianSum),\n",
    "    \"Anti-Arab\" : (whiteArabSum, blackArabSum, asianArabSum, nativeArabSum, pacificArabSum, multipleArabSum),\n",
    "    \"Anti-Hispanic\": (whiteHispanicSum, blackHispanicSum, asianHispanicSum, nativeHispanicSum, pacificHispanicSum, multipleHispanicSum),\n",
    "    \"Anti-Native\": (whiteAmericanInSum, blackAmericanInSum, asianAmericanInSum, nativeNativeSum, pacificNativeSum, multipleNativeSum),\n",
    "    \"Anti-Islander\": (whitePacificSum, blackPacificSum, asianPacificSum, nativePacificSum, pacificPacificSum, multiplePacificSum),\n",
    "    \"Anti-Multiple\": (whiteMultipleSum, blackMultipleSum, asianMultipleSum, nativeMultipleSum, pacificMultipleSum, multipleMultipleSum),\n",
    "    \"Anti-Other\": (whiteOtherSum, blackOtherSum, asianOtherSum, nativeOtherSum, pacificOtherSum, multipleOtherSum),\n",
    "    \"Total Offenses Per Race\": (totalWhite, totalBlack, totalAsian, totalNative, totalPacific, totalMultiple),\n",
    "}\n",
    "\n",
    "raceBiasDF = pd.DataFrame(raceBiasDICT)\n",
    "raceBiasDF.index= raceBiasDF[\"Offender Race\"]\n",
    "\n",
    "raceBiasDF"
   ]
  },
  {
   "cell_type": "code",
   "execution_count": 115,
   "id": "ccc5eec0",
   "metadata": {},
   "outputs": [
    {
     "data": {
      "image/png": "[encoded data removed]",
      "text/plain": [
       "<Figure size 1000x500 with 1 Axes>"
      ]
     },
     "metadata": {},
     "output_type": "display_data"
    }
   ],
   "source": [
    "#plot the most common bias type for each offender race\n",
    "\n",
    "# create data \n",
    "x = [\"White (Anti-Black)\", \"Black(Anti-White)\", \"Asian(Anti-Black)\", \"Native(Anti-White)\", \"Islander(Anti-White)\", \"Multiple(Anti-Black)\"]\n",
    "y = [43578,13691,557,410,39,1522]\n",
    "width = 0.2\n",
    "\n",
    "\n",
    "\n",
    "fig = plt.figure(figsize = (10,5))\n",
    "plt.bar(x, y , color = \"lightgreen\", width = 0.4)\n",
    "plt.xlabel(\"Offender Race and Most Common Racial Bias\", fontsize=15)\n",
    "plt.xticks(rotation = 90, fontsize=7)\n",
    "plt.ylabel(\"Count\", fontsize=15)\n",
    "plt.title(\"Most Common Bias Offense Type Per Offender Race Group\",fontsize=15)\n",
    "plt.savefig(\"output_data/Fig7.jpg\")\n",
    "plt.show() "
   ]
  },
  {
   "cell_type": "code",
   "execution_count": 116,
   "id": "cee74e68",
   "metadata": {},
   "outputs": [
    {
     "name": "stdout",
     "output_type": "stream",
     "text": [
      "90156\n"
     ]
    }
   ],
   "source": [
    "totalRaceOffensesPerRace = [totalWhite, totalBlack, totalAsian, totalNative, totalPacific, totalMultiple]\n",
    "totalRaceOffensesPerRaceSum = sum(totalRaceOffensesPerRace)\n",
    "\n",
    "print(totalRaceOffensesPerRaceSum)"
   ]
  },
  {
   "cell_type": "code",
   "execution_count": 117,
   "id": "42763e77",
   "metadata": {},
   "outputs": [
    {
     "name": "stdout",
     "output_type": "stream",
     "text": [
      "69.96428412973069\n"
     ]
    }
   ],
   "source": [
    "#calculate percentage of racial hate crimes for white race\n",
    "whiteRaceOffensesPercentage = totalWhite / float(totalRaceOffensesPerRaceSum) * 100\n",
    "print (whiteRaceOffensesPercentage)"
   ]
  },
  {
   "cell_type": "code",
   "execution_count": 118,
   "id": "d96f2bad",
   "metadata": {},
   "outputs": [
    {
     "name": "stdout",
     "output_type": "stream",
     "text": [
      "24.272372332401616\n"
     ]
    }
   ],
   "source": [
    "#calculate percentage racial hate crimes for black race\n",
    "blackRaceOffensesPercentage = totalBlack / float(totalRaceOffensesPerRaceSum) * 100\n",
    "print (blackRaceOffensesPercentage)"
   ]
  },
  {
   "cell_type": "code",
   "execution_count": 119,
   "id": "e3896669",
   "metadata": {},
   "outputs": [
    {
     "name": "stdout",
     "output_type": "stream",
     "text": [
      "1.4308531878078\n"
     ]
    }
   ],
   "source": [
    "asianRaceOffensesPercentage = totalAsian / float(totalRaceOffensesPerRaceSum) * 100\n",
    "print (asianRaceOffensesPercentage)"
   ]
  },
  {
   "cell_type": "code",
   "execution_count": 120,
   "id": "ec378a8d",
   "metadata": {},
   "outputs": [
    {
     "name": "stdout",
     "output_type": "stream",
     "text": [
      "1.063711788455566\n"
     ]
    }
   ],
   "source": [
    "nativeRaceOffensesPercentage = totalNative / float(totalRaceOffensesPerRaceSum) * 100\n",
    "print (nativeRaceOffensesPercentage)"
   ]
  },
  {
   "cell_type": "code",
   "execution_count": 121,
   "id": "682d7112",
   "metadata": {},
   "outputs": [
    {
     "name": "stdout",
     "output_type": "stream",
     "text": [
      "0.09982696659124185\n"
     ]
    }
   ],
   "source": [
    "pacificRaceOffensesPercentage = totalPacific / float(totalRaceOffensesPerRaceSum) * 100\n",
    "print (pacificRaceOffensesPercentage)"
   ]
  },
  {
   "cell_type": "code",
   "execution_count": 122,
   "id": "aad54482",
   "metadata": {},
   "outputs": [
    {
     "name": "stdout",
     "output_type": "stream",
     "text": [
      "3.1689515950130884\n"
     ]
    }
   ],
   "source": [
    "multipleRaceOffensesPercentage = totalMultiple / float(totalRaceOffensesPerRaceSum) * 100\n",
    "print (multipleRaceOffensesPercentage)"
   ]
  },
  {
   "cell_type": "code",
   "execution_count": 123,
   "id": "f01f0018",
   "metadata": {},
   "outputs": [
    {
     "data": {
      "text/html": [
       "<div>\n",
       "<style scoped>\n",
       "    .dataframe tbody tr th:only-of-type {\n",
       "        vertical-align: middle;\n",
       "    }\n",
       "\n",
       "    .dataframe tbody tr th {\n",
       "        vertical-align: top;\n",
       "    }\n",
       "\n",
       "    .dataframe thead th {\n",
       "        text-align: right;\n",
       "    }\n",
       "</style>\n",
       "<table border=\"1\" class=\"dataframe\">\n",
       "  <thead>\n",
       "    <tr style=\"text-align: right;\">\n",
       "      <th></th>\n",
       "      <th>Total Offenses</th>\n",
       "      <th>Total Percent White</th>\n",
       "      <th>Total Percent Black</th>\n",
       "      <th>Total Percent Asian</th>\n",
       "      <th>Total Percent Native</th>\n",
       "      <th>Total Percent Islander</th>\n",
       "      <th>Total Percent Multiple</th>\n",
       "    </tr>\n",
       "  </thead>\n",
       "  <tbody>\n",
       "    <tr>\n",
       "      <th>0</th>\n",
       "      <td>90156</td>\n",
       "      <td>69.964284</td>\n",
       "      <td>24.272372</td>\n",
       "      <td>1.430853</td>\n",
       "      <td>1.063712</td>\n",
       "      <td>0.099827</td>\n",
       "      <td>3.168952</td>\n",
       "    </tr>\n",
       "  </tbody>\n",
       "</table>\n",
       "</div>"
      ],
      "text/plain": [
       "   Total Offenses  Total Percent White  Total Percent Black  \\\n",
       "0           90156            69.964284            24.272372   \n",
       "\n",
       "   Total Percent Asian  Total Percent Native  Total Percent Islander  \\\n",
       "0             1.430853              1.063712                0.099827   \n",
       "\n",
       "   Total Percent Multiple  \n",
       "0                3.168952  "
      ]
     },
     "execution_count": 123,
     "metadata": {},
     "output_type": "execute_result"
    }
   ],
   "source": [
    "#create a summary dataframe of total racially motivated hate crimes by offender race\n",
    "raceHateCrimeSummary = {\n",
    "    \"Total Offenses\" : [totalRaceOffensesPerRaceSum],\n",
    "    \"Total Percent White\" : [whiteRaceOffensesPercentage],\n",
    "    \"Total Percent Black\" : [blackRaceOffensesPercentage],\n",
    "    \"Total Percent Asian\" : [asianRaceOffensesPercentage],\n",
    "    \"Total Percent Native\": [nativeRaceOffensesPercentage],\n",
    "    \"Total Percent Islander\": [pacificRaceOffensesPercentage],\n",
    "    \"Total Percent Multiple\": [multipleRaceOffensesPercentage]\n",
    "        }\n",
    "\n",
    "raceHateCrimeSummaryDF = pd.DataFrame(raceHateCrimeSummary)                     \n",
    "\n",
    "raceHateCrimeSummaryDF "
   ]
  },
  {
   "cell_type": "code",
   "execution_count": 124,
   "id": "a6f6531c",
   "metadata": {},
   "outputs": [
    {
     "data": {
      "image/png": "[encoded data removed]",
      "text/plain": [
       "<Figure size 1200x700 with 1 Axes>"
      ]
     },
     "metadata": {},
     "output_type": "display_data"
    }
   ],
   "source": [
    "#plot the above percentages\n",
    "fig, ax = plt.subplots(figsize=(12, 7), subplot_kw=dict(aspect=\"equal\"))\n",
    "\n",
    "race = [\"White(70%)\",\"Native(1.06%)\", \"Black(24.3%)\",\"Islander(0.09%)\", \"Multiple(3.17%)\",\"Asian(1.4%)\"]\n",
    "\n",
    "data = [63077,959, 21883,90,2857,1290]\n",
    "\n",
    "wedges, texts = ax.pie(data, wedgeprops=dict(width=0.5), startangle=20)\n",
    "\n",
    "bbox_props = dict(boxstyle=\"square,pad=0.5\", fc=\"w\", ec=\"k\", lw=0.8)\n",
    "kw = dict(arrowprops=dict(arrowstyle=\"-\"),\n",
    "          bbox=bbox_props, zorder=0, va=\"center\")\n",
    "\n",
    "for i, p in enumerate(wedges):\n",
    "    ang = (p.theta2 - p.theta1)/2. + p.theta1\n",
    "    y = np.sin(np.deg2rad(ang))\n",
    "    x = np.cos(np.deg2rad(ang))\n",
    "    horizontalalignment = {-1: \"right\", 1: \"left\"}[int(np.sign(x))]\n",
    "    connectionstyle = f\"angle,angleA=0,angleB={ang}\"\n",
    "    kw[\"arrowprops\"].update({\"connectionstyle\": connectionstyle})\n",
    "    ax.annotate(race[i], xy=(x, y), xytext=(1.4*np.sign(x), 1.4*y),\n",
    "                horizontalalignment=horizontalalignment, **kw)\n",
    "\n",
    "ax.set_title(\"Racial Bias Hate Crimes in the US by Offender Race (1991-2020)\")\n",
    "plt.savefig(\"output_data/Fig6.png\")\n",
    "plt.show()"
   ]
  }
 ],
 "metadata": {
  "kernelspec": {
   "display_name": "Python 3 (ipykernel)",
   "language": "python",
   "name": "python3"
  },
  "language_info": {
   "codemirror_mode": {
    "name": "ipython",
    "version": 3
   },
   "file_extension": ".py",
   "mimetype": "text/x-python",
   "name": "python",
   "nbconvert_exporter": "python",
   "pygments_lexer": "ipython3",
   "version": "3.11.7"
  }
 },
 "nbformat": 4,
 "nbformat_minor": 5
}
